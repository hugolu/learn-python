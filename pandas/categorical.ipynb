{
 "cells": [
  {
   "cell_type": "markdown",
   "metadata": {
    "deletable": true,
    "editable": true
   },
   "source": [
    "# Categorical Data\n",
    "\n",
    "http://pandas.pydata.org/pandas-docs/version/0.17.0/categorical.html"
   ]
  },
  {
   "cell_type": "markdown",
   "metadata": {
    "deletable": true,
    "editable": true
   },
   "source": [
    "categorical 变量：\n",
    "\n",
    "- 有限值、固定值，如性别、血型、等级\n",
    "- 可能有序（大、中、小），但无数值运算（加减乘除）\n",
    "- 顺序是类别顺序，而非数值的文字顺序\n",
    "\n",
    "试用情况：\n",
    "\n",
    "- 包含少量数值的字符串变数，将字符串变数转成类别变数可节省内存\n",
    "- 文字字母顺序不等同于变数顺序，如 “one”, “two”, “three”"
   ]
  },
  {
   "cell_type": "code",
   "execution_count": 1,
   "metadata": {
    "collapsed": true,
    "deletable": true,
    "editable": true
   },
   "outputs": [],
   "source": [
    "import numpy as np\n",
    "import pandas as pd\n",
    "from pandas import Series, DataFrame"
   ]
  },
  {
   "cell_type": "markdown",
   "metadata": {
    "collapsed": true,
    "deletable": true,
    "editable": true
   },
   "source": [
    "## Object Creation"
   ]
  },
  {
   "cell_type": "code",
   "execution_count": 2,
   "metadata": {
    "collapsed": false,
    "deletable": true,
    "editable": true
   },
   "outputs": [
    {
     "data": {
      "text/plain": [
       "0    a\n",
       "1    b\n",
       "2    b\n",
       "3    c\n",
       "dtype: category\n",
       "Categories (3, object): [a, b, c]"
      ]
     },
     "execution_count": 2,
     "metadata": {},
     "output_type": "execute_result"
    }
   ],
   "source": [
    "s = Series(['a','b','b','c'], dtype='category')\n",
    "s"
   ]
  },
  {
   "cell_type": "code",
   "execution_count": 3,
   "metadata": {
    "collapsed": false,
    "deletable": true,
    "editable": true
   },
   "outputs": [
    {
     "data": {
      "text/plain": [
       "(dtype('O'), category)"
      ]
     },
     "execution_count": 3,
     "metadata": {},
     "output_type": "execute_result"
    }
   ],
   "source": [
    "df = DataFrame({'A': ['a','b','b','c']})\n",
    "df['B'] = df['A'].astype('category')\n",
    "df.A.dtype, df.B.dtype"
   ]
  },
  {
   "cell_type": "code",
   "execution_count": 4,
   "metadata": {
    "collapsed": false,
    "deletable": true,
    "editable": true
   },
   "outputs": [
    {
     "data": {
      "text/plain": [
       "category"
      ]
     },
     "execution_count": 4,
     "metadata": {},
     "output_type": "execute_result"
    }
   ],
   "source": [
    "df = pd.DataFrame({'value': np.random.randint(0, 100, 20)})\n",
    "labels = [ \"%d - %d\" % (i, i + 9) for i in range(0, 100, 10) ]\n",
    "df['group'] = pd.cut(df.value, range(0, 101, 10), labels=labels)\n",
    "df.group.dtype"
   ]
  },
  {
   "cell_type": "code",
   "execution_count": 5,
   "metadata": {
    "collapsed": false
   },
   "outputs": [
    {
     "name": "stdout",
     "output_type": "stream",
     "text": [
      "0    NaN\n",
      "1      c\n",
      "2      b\n",
      "3    NaN\n",
      "dtype: category\n",
      "Categories (3, object): [b, c, d]\n"
     ]
    },
    {
     "data": {
      "text/plain": [
       "count     2\n",
       "unique    2\n",
       "top       c\n",
       "freq      1\n",
       "dtype: object"
      ]
     },
     "execution_count": 5,
     "metadata": {},
     "output_type": "execute_result"
    }
   ],
   "source": [
    "raw_cat = pd.Categorical([\"a\",\"c\",\"b\",\"a\"], categories=[\"b\",\"c\",\"d\"], ordered=False)\n",
    "s = pd.Series(raw_cat)\n",
    "\n",
    "print s\n",
    "s.describe()"
   ]
  },
  {
   "cell_type": "code",
   "execution_count": 6,
   "metadata": {
    "collapsed": false
   },
   "outputs": [
    {
     "name": "stdout",
     "output_type": "stream",
     "text": [
      "0    NaN\n",
      "1      c\n",
      "2      b\n",
      "3    NaN\n",
      "dtype: category\n",
      "Categories (3, object): [b < c < d]\n"
     ]
    },
    {
     "data": {
      "text/plain": [
       "count     2\n",
       "unique    2\n",
       "top       c\n",
       "freq      1\n",
       "dtype: object"
      ]
     },
     "execution_count": 6,
     "metadata": {},
     "output_type": "execute_result"
    }
   ],
   "source": [
    "raw_cat = pd.Categorical([\"a\",\"c\",\"b\",\"a\"], categories=[\"b\",\"c\",\"d\"], ordered=True)\n",
    "s = pd.Series(raw_cat)\n",
    "\n",
    "print s\n",
    "s.describe()"
   ]
  },
  {
   "cell_type": "markdown",
   "metadata": {},
   "source": [
    "## Working with categories"
   ]
  }
 ],
 "metadata": {
  "kernelspec": {
   "display_name": "Python 2",
   "language": "python",
   "name": "python2"
  },
  "language_info": {
   "codemirror_mode": {
    "name": "ipython",
    "version": 2
   },
   "file_extension": ".py",
   "mimetype": "text/x-python",
   "name": "python",
   "nbconvert_exporter": "python",
   "pygments_lexer": "ipython2",
   "version": "2.7.11"
  }
 },
 "nbformat": 4,
 "nbformat_minor": 2
}
