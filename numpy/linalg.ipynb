{
 "cells": [
  {
   "cell_type": "markdown",
   "metadata": {},
   "source": [
    "# 机器学习中的线性代数：关于常用操作的新手指南\n",
    "https://mp.weixin.qq.com/s?__biz=MjM5MTQzNzU2NA==&mid=2651649652&idx=1&sn=044c8ebf6e39fab049ad5bf2e6fe2ef7&chksm=bd4dd1e78a3a58f19fcc213f9656b77c9d4e1ee42e7749056fa2595e1aea844ca7202e1be0c4&mpshare=1&scene=1&srcid=0424w96Bw5HRDcIo3Bqp3NVa&key=76cd199b6ee1b5c3e227efc8931c3950c3ef2e6620e80a3151f23ca766d18e326b2a4d6502c66b6d98b41a740d974a974a438c223a4fe91793b6cda662ee1e52f4ee311f0f4b79afaf77c37954f78738&ascene=0&uin=Mzg0NDA0MDE%3D&devicetype=iMac+MacBookPro12%2C1+OSX+OSX+10.11.6+build(15G1421)&version=12020110&nettype=WIFI&fontScale=100&pass_ticket=IUDeR3X2n8ccpd1XAQ1TtLX8g%2FkKlsBhVRN1om0zMdM%3D"
   ]
  },
  {
   "cell_type": "code",
   "execution_count": 1,
   "metadata": {
    "collapsed": true
   },
   "outputs": [],
   "source": [
    "import numpy as np"
   ]
  },
  {
   "cell_type": "markdown",
   "metadata": {},
   "source": [
    "## 什么是线性代数?\n",
    "\n",
    "- 在深度学习中，线性代数是一个非常有用的数学工具，提供同时操作多组数值的方法。\n",
    "- 它提供多种可以放置数据的结构，如向量(vectors)和矩阵(matrices)两种结构，并定义了一系列的加减乘除规则来操作这些结构。"
   ]
  },
  {
   "cell_type": "code",
   "execution_count": 2,
   "metadata": {
    "collapsed": false
   },
   "outputs": [
    {
     "name": "stdout",
     "output_type": "stream",
     "text": [
      "The slowest run took 4.03 times longer than the fastest. This could mean that an intermediate result is being cached.\n",
      "1000000 loops, best of 3: 1.24 µs per loop\n"
     ]
    }
   ],
   "source": [
    "# 将两个数组直接相乘\n",
    "x = [1,2,3]\n",
    "y = [2,3,4]\n",
    "\n",
    "def array_mul(arr1, arr2):\n",
    "    product = []\n",
    "    for i in range(len(arr1)):\n",
    "        product.append(arr1[i]*arr2[i])\n",
    "    return product\n",
    "\n",
    "%timeit array_mul(x, y)"
   ]
  },
  {
   "cell_type": "code",
   "execution_count": 3,
   "metadata": {
    "collapsed": false
   },
   "outputs": [
    {
     "name": "stdout",
     "output_type": "stream",
     "text": [
      "The slowest run took 77.95 times longer than the fastest. This could mean that an intermediate result is being cached.\n",
      "1000000 loops, best of 3: 477 ns per loop\n"
     ]
    }
   ],
   "source": [
    "# 线性代数版操作，更高效\n",
    "x = np.array([1,2,3])\n",
    "y = np.array([2,3,4])\n",
    "\n",
    "%timeit x * y"
   ]
  },
  {
   "cell_type": "markdown",
   "metadata": {},
   "source": [
    "### 它是怎样用于深度学习的?\n",
    "\n",
    "神经网络(Neural networks)将权值(weights)存放于矩阵(matrices)中。线性代数使得矩阵操作快速而简单，特别是通过 GPU 进行运算。事实上，GPU 的设计便是受启发自向量和矩阵的运算。"
   ]
  },
  {
   "cell_type": "markdown",
   "metadata": {},
   "source": [
    "## 向量"
   ]
  },
  {
   "cell_type": "markdown",
   "metadata": {},
   "source": [
    "### 标量操作\n",
    "\n",
    "标量操作涉及到一个向量和一个数。你可以通过对向量中的所有项进行加、减、乘操作，实现对一个向量的原地修改(in-place modification) 。\n",
    "\n",
    "![](http://mmbiz.qpic.cn/mmbiz_png/wc7YNPm3YxXFuR5Wp6uz1s5efEhZ3vZXSuSkWkcyc7HmiabhzYpF0Z6cmgQYCRNxZP2x4uRsL69DW4BXa79Ng6g/640?wx_fmt=png&tp=webp&wxfrom=5&wx_lazy=1)"
   ]
  },
  {
   "cell_type": "code",
   "execution_count": 4,
   "metadata": {
    "collapsed": false
   },
   "outputs": [
    {
     "data": {
      "text/plain": [
       "array([2, 3, 4])"
      ]
     },
     "execution_count": 4,
     "metadata": {},
     "output_type": "execute_result"
    }
   ],
   "source": [
    "x = np.array([1,2,3])\n",
    "x + 1"
   ]
  },
  {
   "cell_type": "markdown",
   "metadata": {},
   "source": [
    "### 元素操作\n",
    "\n",
    "在向量的元素操作中，如加减除，相应位置的值被组合生成了新的向量。向量 A中的第一个值与向量 B 中的第一个值相加，然后第二个值与第二个值配对，如此循环。\n",
    "\n",
    "![](http://mmbiz.qpic.cn/mmbiz_png/wc7YNPm3YxXFuR5Wp6uz1s5efEhZ3vZXoInduuB3svsDxp36vk4KMyOLJ0Hvoqyb3xGRXDqu1xt6gkqsiap4oxQ/640?wx_fmt=png&tp=webp&wxfrom=5&wx_lazy=1)"
   ]
  },
  {
   "cell_type": "code",
   "execution_count": 5,
   "metadata": {
    "collapsed": false
   },
   "outputs": [
    {
     "data": {
      "text/plain": [
       "array([3, 5, 7])"
      ]
     },
     "execution_count": 5,
     "metadata": {},
     "output_type": "execute_result"
    }
   ],
   "source": [
    "y = np.array([1,2,3])\n",
    "x = np.array([2,3,4])\n",
    "x + y"
   ]
  },
  {
   "cell_type": "markdown",
   "metadata": {},
   "source": [
    "### 向量乘法 - 点积\n",
    "\n",
    "两个向量的点积是一个标量。向量的点积和矩阵的乘法是深度学习中最重要的操作之一。\n",
    "\n",
    "![](http://mmbiz.qpic.cn/mmbiz_png/wc7YNPm3YxXFuR5Wp6uz1s5efEhZ3vZX6Mjn7snRA49icdyyYG6Okgf8w5439jI9OKvZqU4Y2eYH2GnkcFVNcwA/640?wx_fmt=png&tp=webp&wxfrom=5&wx_lazy=1)"
   ]
  },
  {
   "cell_type": "code",
   "execution_count": 6,
   "metadata": {
    "collapsed": false
   },
   "outputs": [
    {
     "data": {
      "text/plain": [
       "20"
      ]
     },
     "execution_count": 6,
     "metadata": {},
     "output_type": "execute_result"
    }
   ],
   "source": [
    "y = np.array([1,2,3])\n",
    "x = np.array([2,3,4])\n",
    "np.dot(y,x)"
   ]
  },
  {
   "cell_type": "markdown",
   "metadata": {},
   "source": [
    "### 向量乘法  - Hadamard乘积\n",
    "\n",
    "Hadamard 乘积是元素相乘，它的输出是一个向量。\n",
    "\n",
    "![](http://mmbiz.qpic.cn/mmbiz_png/wc7YNPm3YxXFuR5Wp6uz1s5efEhZ3vZXMmEn1Cqjzrs20o1nK4KVA2Wf2HDq1iakjbRq4klI2hIGhC3RnkrDtMQ/640?wx_fmt=png&tp=webp&wxfrom=5&wx_lazy=1)"
   ]
  },
  {
   "cell_type": "code",
   "execution_count": 7,
   "metadata": {
    "collapsed": false
   },
   "outputs": [
    {
     "data": {
      "text/plain": [
       "array([ 2,  6, 12])"
      ]
     },
     "execution_count": 7,
     "metadata": {},
     "output_type": "execute_result"
    }
   ],
   "source": [
    "y = np.array([1,2,3])\n",
    "x = np.array([2,3,4])\n",
    "y * x"
   ]
  },
  {
   "cell_type": "markdown",
   "metadata": {},
   "source": [
    "## 矩阵\n",
    "\n",
    "一个矩阵是数字或元素的矩形网格（如Excel表格），有着特别加、减、乘的运算规则。"
   ]
  },
  {
   "cell_type": "markdown",
   "metadata": {},
   "source": [
    "### 矩阵维度\n",
    "\n",
    "我们用m行n列( rows by columns)来描述矩阵的维度.\n",
    "\n",
    "![](http://mmbiz.qpic.cn/mmbiz_png/wc7YNPm3YxXFuR5Wp6uz1s5efEhZ3vZX5wSj1W774ZzZUN97MeHQcV4O9a8e2eudtEJia9w48cCToRH4PI1cSxw/640?wx_fmt=png&tp=webp&wxfrom=5&wx_lazy=1)"
   ]
  },
  {
   "cell_type": "code",
   "execution_count": 8,
   "metadata": {
    "collapsed": false
   },
   "outputs": [
    {
     "data": {
      "text/plain": [
       "(3, 2)"
      ]
     },
     "execution_count": 8,
     "metadata": {},
     "output_type": "execute_result"
    }
   ],
   "source": [
    "a = np.array([[2,4],\n",
    "              [5,-7],\n",
    "              [12,5]])\n",
    "a.shape"
   ]
  },
  {
   "cell_type": "markdown",
   "metadata": {},
   "source": [
    "### 矩阵的标量运算\n",
    "\n",
    "矩阵的标量运算与向量相同。只需将标量与矩阵中的每个元素进行加、减、乘、除等操作。\n",
    "\n",
    "![](http://mmbiz.qpic.cn/mmbiz_png/wc7YNPm3YxXFuR5Wp6uz1s5efEhZ3vZX19N95jB6qlY8zDX5yDMUeIVGrXfL6nnAt0CmtKbJpvS5K0nzAficJQQ/640?wx_fmt=png&tp=webp&wxfrom=5&wx_lazy=1)"
   ]
  },
  {
   "cell_type": "code",
   "execution_count": 9,
   "metadata": {
    "collapsed": false
   },
   "outputs": [
    {
     "data": {
      "text/plain": [
       "array([[3, 4],\n",
       "       [3, 4],\n",
       "       [3, 4]])"
      ]
     },
     "execution_count": 9,
     "metadata": {},
     "output_type": "execute_result"
    }
   ],
   "source": [
    "a = np.array([[2,3], \n",
    "              [2,3],\n",
    "              [2,3]])\n",
    "a + 1"
   ]
  },
  {
   "cell_type": "markdown",
   "metadata": {},
   "source": [
    "### 矩阵的元素操作\n",
    "\n",
    "为了实现两个矩阵的加、减、除操作，他们必须有着相同的维度。我们对两个矩阵的对应元素值操作，组合生成新的矩阵。\n",
    "\n",
    "![](http://mmbiz.qpic.cn/mmbiz_png/wc7YNPm3YxXFuR5Wp6uz1s5efEhZ3vZXZ0o9icP3GcEpT2dxBbWt3emye0bJrhb5k6Pic8wuUdpLHZrzEH1GdIpw/640?wx_fmt=png&tp=webp&wxfrom=5&wx_lazy=1)"
   ]
  },
  {
   "cell_type": "code",
   "execution_count": 10,
   "metadata": {
    "collapsed": false
   },
   "outputs": [
    {
     "data": {
      "text/plain": [
       "array([[2, 4],\n",
       "       [6, 8]])"
      ]
     },
     "execution_count": 10,
     "metadata": {},
     "output_type": "execute_result"
    }
   ],
   "source": [
    "a = np.array([[1,2],\n",
    "              [3,4]])\n",
    "a + a"
   ]
  },
  {
   "cell_type": "markdown",
   "metadata": {},
   "source": [
    "### Numpy 库的 broadcasting 方法\n",
    "\n",
    "在 numpy中，矩阵的元素操作对矩阵维度的要求，通过一种叫做 broadcasting的机制实现。我们称两个矩阵相容(compatible)，如果它们相互对应的维度（行对行，列对列）满足以下条件: \n",
    "\n",
    "1. 对应的维度均相等, 或\n",
    "2. 有一个维度的大小是1"
   ]
  },
  {
   "cell_type": "code",
   "execution_count": 11,
   "metadata": {
    "collapsed": true
   },
   "outputs": [],
   "source": [
    "a = np.array([[1],\n",
    "              [2]])\n",
    "\n",
    "b = np.array([[3,4],\n",
    "              [5,6]])\n",
    "\n",
    "c = np.array([[1,2]])"
   ]
  },
  {
   "cell_type": "code",
   "execution_count": 12,
   "metadata": {
    "collapsed": false
   },
   "outputs": [
    {
     "data": {
      "text/plain": [
       "array([[ 3,  4],\n",
       "       [10, 12]])"
      ]
     },
     "execution_count": 12,
     "metadata": {},
     "output_type": "execute_result"
    }
   ],
   "source": [
    "# 相同行数，不同列数，但 a 仅有一列，沿着 axis=1 广播\n",
    "a * b"
   ]
  },
  {
   "cell_type": "code",
   "execution_count": 13,
   "metadata": {
    "collapsed": false
   },
   "outputs": [
    {
     "data": {
      "text/plain": [
       "array([[ 3,  4],\n",
       "       [10, 12]])"
      ]
     },
     "execution_count": 13,
     "metadata": {},
     "output_type": "execute_result"
    }
   ],
   "source": [
    "aa = np.array([[1,1],\n",
    "               [2,2]])\n",
    "aa * b"
   ]
  },
  {
   "cell_type": "code",
   "execution_count": 14,
   "metadata": {
    "collapsed": false
   },
   "outputs": [
    {
     "data": {
      "text/plain": [
       "array([[ 3,  8],\n",
       "       [ 5, 12]])"
      ]
     },
     "execution_count": 14,
     "metadata": {},
     "output_type": "execute_result"
    }
   ],
   "source": [
    "# 相同列数，不同行数，但 c 仅有一行，沿着 axis=0 广播\n",
    "b * c"
   ]
  },
  {
   "cell_type": "code",
   "execution_count": 15,
   "metadata": {
    "collapsed": false
   },
   "outputs": [
    {
     "data": {
      "text/plain": [
       "array([[ 3,  8],\n",
       "       [ 5, 12]])"
      ]
     },
     "execution_count": 15,
     "metadata": {},
     "output_type": "execute_result"
    }
   ],
   "source": [
    "cc = np.array([[1,2],\n",
    "               [1,2]])\n",
    "b * cc"
   ]
  },
  {
   "cell_type": "code",
   "execution_count": 16,
   "metadata": {
    "collapsed": false
   },
   "outputs": [
    {
     "data": {
      "text/plain": [
       "array([[2, 3],\n",
       "       [3, 4]])"
      ]
     },
     "execution_count": 16,
     "metadata": {},
     "output_type": "execute_result"
    }
   ],
   "source": [
    "# 不同列数、不同行数，但 a 和 c 都满足大小为1的规则，沿着 axis=0, axis=1 广播\n",
    "a + c"
   ]
  },
  {
   "cell_type": "code",
   "execution_count": 17,
   "metadata": {
    "collapsed": false
   },
   "outputs": [
    {
     "data": {
      "text/plain": [
       "array([[2, 3],\n",
       "       [3, 4]])"
      ]
     },
     "execution_count": 17,
     "metadata": {},
     "output_type": "execute_result"
    }
   ],
   "source": [
    "aa + cc"
   ]
  },
  {
   "cell_type": "markdown",
   "metadata": {},
   "source": [
    "### 矩阵的 Hadamard 乘积\n",
    "\n",
    "- 矩阵的Hadamard 乘积是一个元素运算，就像向量一样。对应位置的值相乘产生新的矩阵。\n",
    "- 在 numpy 中，只要矩阵和向量的维度满足 broadcasting的要求，你便可以对他们使用 Hadamard 乘积运算.\n",
    "\n",
    "![](http://mmbiz.qpic.cn/mmbiz_png/wc7YNPm3YxXFuR5Wp6uz1s5efEhZ3vZXX74pgPjoaias2GLTecvuG6riaeicJ3EwHjcVL6czvVeulL0lwXfoTiaPqw/640?wx_fmt=png&tp=webp&wxfrom=5&wx_lazy=1)"
   ]
  },
  {
   "cell_type": "code",
   "execution_count": 18,
   "metadata": {
    "collapsed": false
   },
   "outputs": [
    {
     "data": {
      "text/plain": [
       "array([[ 6, 12],\n",
       "       [10, 18]])"
      ]
     },
     "execution_count": 18,
     "metadata": {},
     "output_type": "execute_result"
    }
   ],
   "source": [
    "a = np.array([[2,3],\n",
    "              [2,3]])\n",
    "\n",
    "b = np.array([[3,4],\n",
    "              [5,6]])\n",
    "\n",
    "# 使用 python 的乘法运算\n",
    "a * b"
   ]
  },
  {
   "cell_type": "markdown",
   "metadata": {},
   "source": [
    "### 矩阵转置\n",
    "\n",
    "- 神经网络经常需要处理不同大小的输入矩阵和权值矩阵，它们的维度常常不满足矩阵相乘的规则。\n",
    "- 矩阵转置提供了一种方法来“旋转”其中的一个矩阵，使其满足乘法操作的要求。\n",
    "\n",
    "![](http://mmbiz.qpic.cn/mmbiz_png/wc7YNPm3YxXFuR5Wp6uz1s5efEhZ3vZXW7PN1eUUiaYkTeoP2D2icAeicmo7XtkG5ND1FibTgNvK5b9icvz58Wm9ytg/640?wx_fmt=png&tp=webp&wxfrom=5&wx_lazy=1)"
   ]
  },
  {
   "cell_type": "code",
   "execution_count": 19,
   "metadata": {
    "collapsed": false
   },
   "outputs": [
    {
     "data": {
      "text/plain": [
       "array([[1, 3],\n",
       "       [2, 4]])"
      ]
     },
     "execution_count": 19,
     "metadata": {},
     "output_type": "execute_result"
    }
   ],
   "source": [
    "a = np.array([[1, 2], \n",
    "              [3, 4]])\n",
    "\n",
    "a.T"
   ]
  },
  {
   "cell_type": "markdown",
   "metadata": {},
   "source": [
    "## 矩阵的乘法\n",
    "\n",
    "不是所有的矩阵都可以进行乘法运算。并且，对于输出的结果矩阵也有维度要求\n",
    "\n",
    "1. 第一个矩阵的列数 必须等于第二个矩阵的行数\n",
    "2. 一个 M x N 矩阵和 N x K 矩阵的乘积结果是一个 M x K 矩阵. 新的矩阵取 第一个矩阵的行M 和 第二个矩阵的列K 。\n",
    "\n",
    "![](http://mmbiz.qpic.cn/mmbiz_png/wc7YNPm3YxXFuR5Wp6uz1s5efEhZ3vZXKaCyjqjjibPDsoRumBdVLYH34K5u0QxjiaUlaa0Knf9tz7YiaBR9AbiakQ/640?wx_fmt=png&tp=webp&wxfrom=5&wx_lazy=1)\n",
    "\n",
    "### 为什么矩阵乘法以这种方式工作?\n",
    "\n",
    "矩阵的乘法很有用，但它的背后并没有什么特别的数学的定律。数学家们把它发明出来是因为它的规范简化了之前乏味的运算。这是一个人为的设计，但却非常有效。"
   ]
  },
  {
   "cell_type": "markdown",
   "metadata": {},
   "source": [
    "### 使用 numpy 做矩阵乘法\n",
    "\n",
    "Numpy 使用函数 np.dot(A,B) 做向量和矩阵的乘法运算。"
   ]
  },
  {
   "cell_type": "code",
   "execution_count": 20,
   "metadata": {
    "collapsed": false
   },
   "outputs": [
    {
     "name": "stdout",
     "output_type": "stream",
     "text": [
      "(1, 2) (2, 2)\n"
     ]
    }
   ],
   "source": [
    "a = np.array([[1, 2]])\n",
    "\n",
    "b = np.array([[3, 4],\n",
    "              [5, 6]])\n",
    "\n",
    "print a.shape, b.shape"
   ]
  },
  {
   "cell_type": "code",
   "execution_count": 21,
   "metadata": {
    "collapsed": false
   },
   "outputs": [
    {
     "data": {
      "text/plain": [
       "array([[13, 16]])"
      ]
     },
     "execution_count": 21,
     "metadata": {},
     "output_type": "execute_result"
    }
   ],
   "source": [
    "# Multiply\n",
    "c = np.dot(a,b)\n",
    "c"
   ]
  },
  {
   "cell_type": "code",
   "execution_count": 22,
   "metadata": {
    "collapsed": false
   },
   "outputs": [
    {
     "name": "stdout",
     "output_type": "stream",
     "text": [
      "(1, 2)\n"
     ]
    }
   ],
   "source": [
    "print c.shape"
   ]
  }
 ],
 "metadata": {
  "kernelspec": {
   "display_name": "Python 2",
   "language": "python",
   "name": "python2"
  },
  "language_info": {
   "codemirror_mode": {
    "name": "ipython",
    "version": 2
   },
   "file_extension": ".py",
   "mimetype": "text/x-python",
   "name": "python",
   "nbconvert_exporter": "python",
   "pygments_lexer": "ipython2",
   "version": "2.7.11"
  }
 },
 "nbformat": 4,
 "nbformat_minor": 2
}
