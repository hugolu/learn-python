{
 "cells": [
  {
   "cell_type": "markdown",
   "metadata": {
    "deletable": true,
    "editable": true
   },
   "source": [
    "# 结构化网格\n",
    "\n",
    "探索多维度数据，最好的方式是将数据集中不同子集画在同一张图。"
   ]
  },
  {
   "cell_type": "code",
   "execution_count": 1,
   "metadata": {
    "collapsed": false,
    "deletable": true,
    "editable": true
   },
   "outputs": [
    {
     "name": "stdout",
     "output_type": "stream",
     "text": [
      "Populating the interactive namespace from numpy and matplotlib\n"
     ]
    }
   ],
   "source": [
    "%pylab inline"
   ]
  },
  {
   "cell_type": "code",
   "execution_count": 2,
   "metadata": {
    "collapsed": true,
    "deletable": true,
    "editable": true
   },
   "outputs": [],
   "source": [
    "import numpy as np\n",
    "import pandas as pd\n",
    "import seaborn as sns\n",
    "from scipy import stats\n",
    "import matplotlib as mpl\n",
    "import matplotlib.pyplot as plt"
   ]
  },
  {
   "cell_type": "code",
   "execution_count": 3,
   "metadata": {
    "collapsed": true,
    "deletable": true,
    "editable": true
   },
   "outputs": [],
   "source": [
    "sns.set(style=\"ticks\")\n",
    "np.random.seed(sum(map(ord, \"axis_grids\")))"
   ]
  },
  {
   "cell_type": "markdown",
   "metadata": {
    "deletable": true,
    "editable": true
   },
   "source": [
    "## 数据网格绘图\n",
    "http://seaborn.pydata.org/tutorial/axis_grids.html#subsetting-data-with-facetgrid"
   ]
  },
  {
   "cell_type": "markdown",
   "metadata": {
    "deletable": true,
    "editable": true
   },
   "source": [
    "### 使用 `FacetGrid` 呈现子数据集"
   ]
  },
  {
   "cell_type": "code",
   "execution_count": 6,
   "metadata": {
    "collapsed": true,
    "deletable": true,
    "editable": true
   },
   "outputs": [],
   "source": [
    "tips = sns.load_dataset(\"iris\")"
   ]
  },
  {
   "cell_type": "code",
   "execution_count": 5,
   "metadata": {
    "collapsed": false,
    "deletable": true,
    "editable": true
   },
   "outputs": [
    {
     "ename": "SyntaxError",
     "evalue": "invalid syntax (<ipython-input-5-f2f2657a2584>, line 2)",
     "output_type": "error",
     "traceback": [
      "\u001b[0;36m  File \u001b[0;32m\"<ipython-input-5-f2f2657a2584>\"\u001b[0;36m, line \u001b[0;32m2\u001b[0m\n\u001b[0;31m    Initializing the grid like this sets up the matplotlib figure and axes,\u001b[0m\n\u001b[0m                   ^\u001b[0m\n\u001b[0;31mSyntaxError\u001b[0m\u001b[0;31m:\u001b[0m invalid syntax\n"
     ]
    }
   ],
   "source": [
    "# 根据 time 初始化图片与子图片\n",
    "Initializing the grid like this sets up the matplotlib figure and axes, \n",
    "g = sns.FacetGrid(tips, col=\"time\")"
   ]
  },
  {
   "cell_type": "code",
   "execution_count": null,
   "metadata": {
    "collapsed": false,
    "deletable": true,
    "editable": true
   },
   "outputs": [],
   "source": [
    "g = sns.FacetGrid(tips, col=\"time\")\n",
    "\n",
    "# 使用 FacetGrid.map() 在网格中呈现数据\n",
    "g.map(plt.hist, \"tip\");"
   ]
  },
  {
   "cell_type": "code",
   "execution_count": null,
   "metadata": {
    "collapsed": false,
    "deletable": true,
    "editable": true
   },
   "outputs": [],
   "source": [
    "g = sns.FacetGrid(tips, col=\"sex\", hue=\"smoker\")\n",
    "g.map(plt.scatter, \"total_bill\", \"tip\", alpha=.7)\n",
    "\n",
    "# 增加图例\n",
    "g.add_legend();"
   ]
  },
  {
   "cell_type": "code",
   "execution_count": null,
   "metadata": {
    "collapsed": false,
    "deletable": true,
    "editable": true
   },
   "outputs": [],
   "source": [
    "g = sns.FacetGrid(tips, row=\"smoker\", col=\"time\", margin_titles=True)\n",
    "g.map(sns.regplot, \"size\", \"total_bill\", color=\".3\", fit_reg=False, x_jitter=.1);"
   ]
  },
  {
   "cell_type": "code",
   "execution_count": null,
   "metadata": {
    "collapsed": false,
    "deletable": true,
    "editable": true
   },
   "outputs": [],
   "source": [
    "# 控制子图的大小、比例\n",
    "g = sns.FacetGrid(tips, col=\"day\", size=4, aspect=.5)\n",
    "g.map(sns.barplot, \"sex\", \"total_bill\");"
   ]
  },
  {
   "cell_type": "code",
   "execution_count": null,
   "metadata": {
    "collapsed": false,
    "deletable": true,
    "editable": true
   },
   "outputs": [],
   "source": [
    "titanic = sns.load_dataset(\"titanic\")\n",
    "titanic = titanic.assign(deck=titanic.deck.astype(object)).sort(\"deck\")\n",
    "\n",
    "# 使用 gridspec_kws 个别控制子图大小\n",
    "g = sns.FacetGrid(titanic, col=\"class\", sharex=False,\n",
    "                  gridspec_kws={\"width_ratios\": [5, 3, 3]})\n",
    "g.map(sns.boxplot, \"deck\", \"age\");"
   ]
  },
  {
   "cell_type": "code",
   "execution_count": null,
   "metadata": {
    "collapsed": false,
    "deletable": true,
    "editable": true
   },
   "outputs": [],
   "source": [
    "ordered_days = tips.day.value_counts().index\n",
    "\n",
    "# 自定义 row_order\n",
    "g = sns.FacetGrid(tips, row=\"day\", row_order=ordered_days,\n",
    "                  size=1.7, aspect=4,)\n",
    "g.map(sns.distplot, \"total_bill\", hist=False, rug=True);"
   ]
  },
  {
   "cell_type": "code",
   "execution_count": null,
   "metadata": {
    "collapsed": false,
    "deletable": true,
    "editable": true
   },
   "outputs": [],
   "source": [
    "# 定义调色板\n",
    "pal = dict(Lunch=\"seagreen\", Dinner=\"gray\")\n",
    "g = sns.FacetGrid(tips, hue=\"time\", palette=pal, size=5)\n",
    "g.map(plt.scatter, \"total_bill\", \"tip\", s=50, alpha=.7, linewidth=.5, edgecolor=\"white\")\n",
    "g.add_legend();"
   ]
  },
  {
   "cell_type": "code",
   "execution_count": null,
   "metadata": {
    "collapsed": false,
    "deletable": true,
    "editable": true
   },
   "outputs": [],
   "source": [
    "# 自定标识\n",
    "g = sns.FacetGrid(tips, hue=\"sex\", palette=\"Set1\", size=5, hue_kws={\"marker\": [\"^\", \"v\"]})\n",
    "g.map(plt.scatter, \"total_bill\", \"tip\", s=100, linewidth=.5, edgecolor=\"white\")\n",
    "g.add_legend();"
   ]
  },
  {
   "cell_type": "code",
   "execution_count": null,
   "metadata": {
    "collapsed": false,
    "deletable": true,
    "editable": true
   },
   "outputs": [],
   "source": [
    "# 如果一个离散变数有很多 level，不能使用 row，但可使用 col_wrap 定义每列的子图数量\n",
    "attend = sns.load_dataset(\"attention\").query(\"subject <= 12\")\n",
    "g = sns.FacetGrid(attend, col=\"subject\", col_wrap=4, size=2, ylim=(0, 10))\n",
    "g.map(sns.pointplot, \"solutions\", \"score\", color=\".3\", ci=None);"
   ]
  },
  {
   "cell_type": "code",
   "execution_count": null,
   "metadata": {
    "collapsed": false,
    "deletable": true,
    "editable": true
   },
   "outputs": [],
   "source": [
    "with sns.axes_style(\"white\"):\n",
    "    g = sns.FacetGrid(tips, row=\"sex\", col=\"smoker\", margin_titles=True, size=2.5)\n",
    "g.map(plt.scatter, \"total_bill\", \"tip\", color=\"#334488\", edgecolor=\"white\", lw=.5);\n",
    "\n",
    "# 使用 FacetGrid.map() 之后，调用 FacetGrid.set()，FacetGrid.set_axis_labels() 修改图片\n",
    "g.set_axis_labels(\"Total bill (US Dollars)\", \"Tip\");\n",
    "g.set(xticks=[10, 30, 50], yticks=[2, 6, 10]);\n",
    "g.fig.subplots_adjust(wspace=.02, hspace=.02);"
   ]
  },
  {
   "cell_type": "code",
   "execution_count": null,
   "metadata": {
    "collapsed": false,
    "deletable": true,
    "editable": true
   },
   "outputs": [],
   "source": [
    "g = sns.FacetGrid(tips, col=\"smoker\", margin_titles=True, size=4)\n",
    "g.map(plt.scatter, \"total_bill\", \"tip\", color=\"#338844\", edgecolor=\"white\", s=50, lw=1)\n",
    "\n",
    "# 使用 ax 各别设定子图\n",
    "for ax in g.axes.flat:\n",
    "    ax.plot((0, 50), (0, .2 * 50), c='0.2', ls=\"--\")\n",
    "g.set(xlim=(0, 60), ylim=(0, 14));"
   ]
  },
  {
   "cell_type": "markdown",
   "metadata": {
    "deletable": true,
    "editable": true
   },
   "source": [
    "#### 映射定制函数到网格\n",
    "\n",
    "函数必须遵守以下规则:\n",
    "1. 必须画到现有活跃的 axes\n",
    "2. 必须接受表示位置参数的数据。FacetGrid 传递一系列以位置命名的数据给 FacetGrid.map()\n",
    "3. 必须能接受颜色与标签参数"
   ]
  },
  {
   "cell_type": "code",
   "execution_count": null,
   "metadata": {
    "collapsed": false,
    "deletable": true,
    "editable": true
   },
   "outputs": [],
   "source": [
    "# x: 数据，kwargs: 传递给子图的参数\n",
    "def quantile_plot(x, **kwargs):\n",
    "    qntls, xr = stats.probplot(x, fit=False)\n",
    "    plt.scatter(xr, qntls, **kwargs)\n",
    "\n",
    "g = sns.FacetGrid(tips, col=\"sex\", size=4)\n",
    "g.map(quantile_plot, \"total_bill\");"
   ]
  },
  {
   "cell_type": "code",
   "execution_count": null,
   "metadata": {
    "collapsed": false,
    "deletable": true,
    "editable": true
   },
   "outputs": [],
   "source": [
    "def qqplot(x, y, **kwargs):\n",
    "    _, xr = stats.probplot(x, fit=False)\n",
    "    _, yr = stats.probplot(y, fit=False)\n",
    "    plt.scatter(xr, yr, **kwargs)\n",
    "\n",
    "g = sns.FacetGrid(tips, col=\"smoker\", size=4)\n",
    "\n",
    "# \"total_bill\", \"tip\" 当做 qqplot 的 x, y 参数\n",
    "g.map(qqplot, \"total_bill\", \"tip\");"
   ]
  },
  {
   "cell_type": "code",
   "execution_count": null,
   "metadata": {
    "collapsed": false,
    "deletable": true,
    "editable": true
   },
   "outputs": [],
   "source": [
    "g = sns.FacetGrid(tips, hue=\"time\", col=\"sex\", size=4)\n",
    "g.map(qqplot, \"total_bill\", \"tip\")\n",
    "\n",
    "# 增加图例\n",
    "g.add_legend();"
   ]
  },
  {
   "cell_type": "code",
   "execution_count": null,
   "metadata": {
    "collapsed": false,
    "deletable": true,
    "editable": true
   },
   "outputs": [],
   "source": [
    "# hue_kws 定制标识形状\n",
    "g = sns.FacetGrid(tips, hue=\"time\", col=\"sex\", size=4,\n",
    "                  hue_kws={\"marker\": [\"s\", \"D\"]})\n",
    "g.map(qqplot, \"total_bill\", \"tip\", s=40, edgecolor=\"w\")\n",
    "g.add_legend();"
   ]
  },
  {
   "cell_type": "code",
   "execution_count": null,
   "metadata": {
    "collapsed": false,
    "deletable": true,
    "editable": true
   },
   "outputs": [],
   "source": [
    "def hexbin(x, y, color, **kwargs):\n",
    "    cmap = sns.light_palette(color, as_cmap=True)\n",
    "    plt.hexbin(x, y, gridsize=15, cmap=cmap, **kwargs)\n",
    "\n",
    "# 暂时设定风格\n",
    "with sns.axes_style(\"dark\"):\n",
    "    g = sns.FacetGrid(tips, hue=\"time\", col=\"time\", size=4)\n",
    "    \n",
    "# hexbin的参数，x=\"total_bill\", y=\"tip\", **kwargs=extent=[0, 50, 0, 10])\n",
    "g.map(hexbin, \"total_bill\", \"tip\", extent=[0, 50, 0, 10]);"
   ]
  },
  {
   "cell_type": "markdown",
   "metadata": {
    "deletable": true,
    "editable": true
   },
   "source": [
    "### 使用 `PairGrid` 与 `pairplot()` 绘画配对关系\n",
    "http://seaborn.pydata.org/tutorial/axis_grids.html#plotting-pairwise-relationships-with-pairgrid-and-pairplot"
   ]
  },
  {
   "cell_type": "code",
   "execution_count": null,
   "metadata": {
    "collapsed": false,
    "deletable": true,
    "editable": true
   },
   "outputs": [],
   "source": [
    "# 载入数据集\n",
    "iris = sns.load_dataset(\"iris\")\n",
    "iris.ix[::50]"
   ]
  },
  {
   "cell_type": "code",
   "execution_count": null,
   "metadata": {
    "collapsed": false,
    "deletable": true,
    "editable": true
   },
   "outputs": [],
   "source": [
    "g = sns.PairGrid(iris)\n",
    "g.map(plt.scatter);"
   ]
  },
  {
   "cell_type": "code",
   "execution_count": null,
   "metadata": {
    "collapsed": false,
    "deletable": true,
    "editable": true
   },
   "outputs": [],
   "source": [
    "g = sns.PairGrid(iris)\n",
    "\n",
    "# 指定对角线套用函数\n",
    "g.map_diag(plt.hist)\n",
    "\n",
    "# 指定非对角套用函数\n",
    "g.map_offdiag(plt.scatter);"
   ]
  },
  {
   "cell_type": "code",
   "execution_count": null,
   "metadata": {
    "collapsed": false,
    "deletable": true,
    "editable": true
   },
   "outputs": [],
   "source": [
    "# 指定类别颜色\n",
    "g = sns.PairGrid(iris, hue=\"species\")\n",
    "\n",
    "g.map_diag(plt.hist)\n",
    "g.map_offdiag(plt.scatter)\n",
    "\n",
    "# 类别图例\n",
    "g.add_legend();"
   ]
  },
  {
   "cell_type": "code",
   "execution_count": null,
   "metadata": {
    "collapsed": false,
    "deletable": true,
    "editable": true
   },
   "outputs": [],
   "source": [
    "# 指定 column\n",
    "g = sns.PairGrid(iris, vars=[\"sepal_length\", \"sepal_width\"], hue=\"species\")\n",
    "\n",
    "g.map(plt.scatter);"
   ]
  },
  {
   "cell_type": "code",
   "execution_count": null,
   "metadata": {
    "collapsed": false,
    "deletable": true,
    "editable": true
   },
   "outputs": [],
   "source": [
    "g = sns.PairGrid(iris)\n",
    "\n",
    "# 上三角套用函数\n",
    "g.map_upper(plt.scatter)\n",
    "\n",
    "# 小三角套用函数\n",
    "g.map_lower(sns.kdeplot, cmap=\"Blues_d\")\n",
    "\n",
    "# 对角套用函数\n",
    "g.map_diag(sns.kdeplot, lw=3, legend=False);"
   ]
  },
  {
   "cell_type": "code",
   "execution_count": null,
   "metadata": {
    "collapsed": false,
    "deletable": true,
    "editable": true
   },
   "outputs": [],
   "source": [
    "# 自定义网格 x, y 变数\n",
    "g = sns.PairGrid(tips, y_vars=[\"tip\"], x_vars=[\"total_bill\", \"size\"], size=4)\n",
    "g.map(sns.regplot, color=\".3\")\n",
    "g.set(ylim=(-1, 11), yticks=[0, 5, 10]);"
   ]
  },
  {
   "cell_type": "code",
   "execution_count": null,
   "metadata": {
    "collapsed": false,
    "deletable": true,
    "editable": true
   },
   "outputs": [],
   "source": [
    "# 设置更美观的调色盘\n",
    "g = sns.PairGrid(tips, hue=\"size\", palette=\"GnBu_d\")\n",
    "g.map(plt.scatter, s=50, edgecolor=\"white\")\n",
    "g.add_legend();"
   ]
  },
  {
   "cell_type": "code",
   "execution_count": null,
   "metadata": {
    "collapsed": false,
    "deletable": true,
    "editable": true
   },
   "outputs": [],
   "source": [
    "# PairGrid 有弹性，但如果只想看一眼数据，用 pairplot() 更快速\n",
    "sns.pairplot(iris, hue=\"species\");"
   ]
  },
  {
   "cell_type": "code",
   "execution_count": null,
   "metadata": {
    "collapsed": false,
    "deletable": true,
    "editable": true
   },
   "outputs": [],
   "source": [
    "# 定制美学细节\n",
    "sns.pairplot(iris, hue=\"species\", palette=\"Set2\", diag_kind=\"kde\", size=2.5)"
   ]
  },
  {
   "cell_type": "code",
   "execution_count": null,
   "metadata": {
    "collapsed": true,
    "deletable": true,
    "editable": true
   },
   "outputs": [],
   "source": []
  }
 ],
 "metadata": {
  "kernelspec": {
   "display_name": "Python 2",
   "language": "python",
   "name": "python2"
  },
  "language_info": {
   "codemirror_mode": {
    "name": "ipython",
    "version": 2
   },
   "file_extension": ".py",
   "mimetype": "text/x-python",
   "name": "python",
   "nbconvert_exporter": "python",
   "pygments_lexer": "ipython2",
   "version": "2.7.11"
  }
 },
 "nbformat": 4,
 "nbformat_minor": 2
}
