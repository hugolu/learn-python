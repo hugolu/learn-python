{
 "cells": [
  {
   "cell_type": "markdown",
   "metadata": {
    "deletable": true,
    "editable": true
   },
   "source": [
    "# Financial and Economic Data Applications\n",
    "\n",
    "- 截面（cross-section）表示某个时间点的数据，例如在特定时间点某股票收盘价就形成了一个截面\n",
    "- 多个数据项（如价格和成交量）在多个时间点的截面数据就构成了一个面板（panel）\n",
    "- 面板数据可以表示为层次化索引的DataFrame，也可以表示为三维的Panel pandas对象"
   ]
  },
  {
   "cell_type": "code",
   "execution_count": 1,
   "metadata": {
    "collapsed": false,
    "deletable": true,
    "editable": true
   },
   "outputs": [
    {
     "name": "stdout",
     "output_type": "stream",
     "text": [
      "Populating the interactive namespace from numpy and matplotlib\n"
     ]
    }
   ],
   "source": [
    "%pylab inline\n",
    "\n",
    "import numpy as np\n",
    "from numpy.random import randn\n",
    "\n",
    "import pandas as pd\n",
    "from pandas import Series, DataFrame"
   ]
  },
  {
   "cell_type": "markdown",
   "metadata": {
    "deletable": true,
    "editable": true
   },
   "source": [
    "## Data Munging Topics\n",
    "### Time Series and Cross-Section Alignment\n",
    "\n",
    "处理金融数据，最费神的一个问题是所谓的“数据对齐”问题\n",
    "- 两个相关的时间序列的索引可能没有很好对齐\n",
    "- 两个DataFrame对象可能含有不匹配的列或行\n",
    "\n",
    "Pandas 可以在算数运算中自动对对齐数据。在实际工作中， 为你带来极大的自由度，并提高工作效率。"
   ]
  },
  {
   "cell_type": "code",
   "execution_count": 2,
   "metadata": {
    "collapsed": false,
    "deletable": true,
    "editable": true
   },
   "outputs": [
    {
     "data": {
      "text/html": [
       "<div>\n",
       "<table border=\"1\" class=\"dataframe\">\n",
       "  <thead>\n",
       "    <tr style=\"text-align: right;\">\n",
       "      <th></th>\n",
       "      <th>AAPL</th>\n",
       "      <th>JNJ</th>\n",
       "      <th>SPX</th>\n",
       "      <th>XOM</th>\n",
       "    </tr>\n",
       "  </thead>\n",
       "  <tbody>\n",
       "    <tr>\n",
       "      <th>1990-02-01 00:00:00</th>\n",
       "      <td>7.86</td>\n",
       "      <td>4.27</td>\n",
       "      <td>328.79</td>\n",
       "      <td>6.12</td>\n",
       "    </tr>\n",
       "    <tr>\n",
       "      <th>1990-02-02 00:00:00</th>\n",
       "      <td>8.00</td>\n",
       "      <td>4.37</td>\n",
       "      <td>330.92</td>\n",
       "      <td>6.24</td>\n",
       "    </tr>\n",
       "    <tr>\n",
       "      <th>1990-02-05 00:00:00</th>\n",
       "      <td>8.18</td>\n",
       "      <td>4.34</td>\n",
       "      <td>331.85</td>\n",
       "      <td>6.25</td>\n",
       "    </tr>\n",
       "    <tr>\n",
       "      <th>1990-02-06 00:00:00</th>\n",
       "      <td>8.12</td>\n",
       "      <td>4.32</td>\n",
       "      <td>329.66</td>\n",
       "      <td>6.23</td>\n",
       "    </tr>\n",
       "    <tr>\n",
       "      <th>1990-02-07 00:00:00</th>\n",
       "      <td>7.77</td>\n",
       "      <td>4.38</td>\n",
       "      <td>333.75</td>\n",
       "      <td>6.33</td>\n",
       "    </tr>\n",
       "  </tbody>\n",
       "</table>\n",
       "</div>"
      ],
      "text/plain": [
       "                     AAPL   JNJ     SPX   XOM\n",
       "1990-02-01 00:00:00  7.86  4.27  328.79  6.12\n",
       "1990-02-02 00:00:00  8.00  4.37  330.92  6.24\n",
       "1990-02-05 00:00:00  8.18  4.34  331.85  6.25\n",
       "1990-02-06 00:00:00  8.12  4.32  329.66  6.23\n",
       "1990-02-07 00:00:00  7.77  4.38  333.75  6.33"
      ]
     },
     "execution_count": 2,
     "metadata": {},
     "output_type": "execute_result"
    }
   ],
   "source": [
    "prices = pd.read_csv('ch11/stock_px.csv', index_col=0)\n",
    "prices = prices[['AAPL', 'JNJ', 'SPX', 'XOM']]\n",
    "prices.head()"
   ]
  },
  {
   "cell_type": "code",
   "execution_count": 3,
   "metadata": {
    "collapsed": false,
    "deletable": true,
    "editable": true
   },
   "outputs": [
    {
     "data": {
      "text/html": [
       "<div>\n",
       "<table border=\"1\" class=\"dataframe\">\n",
       "  <thead>\n",
       "    <tr style=\"text-align: right;\">\n",
       "      <th></th>\n",
       "      <th>AAPL</th>\n",
       "      <th>JNJ</th>\n",
       "      <th>XOM</th>\n",
       "    </tr>\n",
       "  </thead>\n",
       "  <tbody>\n",
       "    <tr>\n",
       "      <th>1990-02-01 00:00:00</th>\n",
       "      <td>4193200.0</td>\n",
       "      <td>5942400.0</td>\n",
       "      <td>2916400.0</td>\n",
       "    </tr>\n",
       "    <tr>\n",
       "      <th>1990-02-02 00:00:00</th>\n",
       "      <td>4248800.0</td>\n",
       "      <td>4732800.0</td>\n",
       "      <td>4250000.0</td>\n",
       "    </tr>\n",
       "    <tr>\n",
       "      <th>1990-02-05 00:00:00</th>\n",
       "      <td>3653200.0</td>\n",
       "      <td>3950400.0</td>\n",
       "      <td>5880800.0</td>\n",
       "    </tr>\n",
       "    <tr>\n",
       "      <th>1990-02-06 00:00:00</th>\n",
       "      <td>2640000.0</td>\n",
       "      <td>3761600.0</td>\n",
       "      <td>4750800.0</td>\n",
       "    </tr>\n",
       "    <tr>\n",
       "      <th>1990-02-07 00:00:00</th>\n",
       "      <td>11180800.0</td>\n",
       "      <td>5458400.0</td>\n",
       "      <td>4124800.0</td>\n",
       "    </tr>\n",
       "  </tbody>\n",
       "</table>\n",
       "</div>"
      ],
      "text/plain": [
       "                           AAPL        JNJ        XOM\n",
       "1990-02-01 00:00:00   4193200.0  5942400.0  2916400.0\n",
       "1990-02-02 00:00:00   4248800.0  4732800.0  4250000.0\n",
       "1990-02-05 00:00:00   3653200.0  3950400.0  5880800.0\n",
       "1990-02-06 00:00:00   2640000.0  3761600.0  4750800.0\n",
       "1990-02-07 00:00:00  11180800.0  5458400.0  4124800.0"
      ]
     },
     "execution_count": 3,
     "metadata": {},
     "output_type": "execute_result"
    }
   ],
   "source": [
    "volume = pd.read_csv('ch11/volume.csv', index_col=0)\n",
    "volume = volume[['AAPL', 'JNJ', 'XOM']]\n",
    "volume.head()"
   ]
  },
  {
   "cell_type": "markdown",
   "metadata": {
    "deletable": true,
    "editable": true
   },
   "source": [
    "假设项根据所有有效数据计算一个成交量加权平均价格"
   ]
  },
  {
   "cell_type": "code",
   "execution_count": 4,
   "metadata": {
    "collapsed": false,
    "deletable": true,
    "editable": true
   },
   "outputs": [
    {
     "data": {
      "text/plain": [
       "AAPL    81.246271\n",
       "JNJ     40.576111\n",
       "SPX           NaN\n",
       "XOM     50.520303\n",
       "dtype: float64"
      ]
     },
     "execution_count": 4,
     "metadata": {},
     "output_type": "execute_result"
    }
   ],
   "source": [
    "vwap = (prices*volume).sum() / volume.sum()\n",
    "vwap"
   ]
  },
  {
   "cell_type": "code",
   "execution_count": 5,
   "metadata": {
    "collapsed": false,
    "deletable": true,
    "editable": true
   },
   "outputs": [
    {
     "data": {
      "text/plain": [
       "AAPL    81.246271\n",
       "JNJ     40.576111\n",
       "XOM     50.520303\n",
       "dtype: float64"
      ]
     },
     "execution_count": 5,
     "metadata": {},
     "output_type": "execute_result"
    }
   ],
   "source": [
    "# 由于 SPX 在 volume 找不到，可以显示丢弃\n",
    "vwap = vwap.dropna()\n",
    "vwap"
   ]
  },
  {
   "cell_type": "code",
   "execution_count": 6,
   "metadata": {
    "collapsed": false,
    "deletable": true,
    "editable": true
   },
   "outputs": [
    {
     "data": {
      "text/html": [
       "<div>\n",
       "<table border=\"1\" class=\"dataframe\">\n",
       "  <thead>\n",
       "    <tr style=\"text-align: right;\">\n",
       "      <th></th>\n",
       "      <th>AAPL</th>\n",
       "      <th>JNJ</th>\n",
       "      <th>XOM</th>\n",
       "    </tr>\n",
       "  </thead>\n",
       "  <tbody>\n",
       "    <tr>\n",
       "      <th>1990-02-01 00:00:00</th>\n",
       "      <td>7.86</td>\n",
       "      <td>4.27</td>\n",
       "      <td>6.12</td>\n",
       "    </tr>\n",
       "    <tr>\n",
       "      <th>1990-02-02 00:00:00</th>\n",
       "      <td>8.00</td>\n",
       "      <td>4.37</td>\n",
       "      <td>6.24</td>\n",
       "    </tr>\n",
       "    <tr>\n",
       "      <th>1990-02-05 00:00:00</th>\n",
       "      <td>8.18</td>\n",
       "      <td>4.34</td>\n",
       "      <td>6.25</td>\n",
       "    </tr>\n",
       "    <tr>\n",
       "      <th>1990-02-06 00:00:00</th>\n",
       "      <td>8.12</td>\n",
       "      <td>4.32</td>\n",
       "      <td>6.23</td>\n",
       "    </tr>\n",
       "    <tr>\n",
       "      <th>1990-02-07 00:00:00</th>\n",
       "      <td>7.77</td>\n",
       "      <td>4.38</td>\n",
       "      <td>6.33</td>\n",
       "    </tr>\n",
       "  </tbody>\n",
       "</table>\n",
       "</div>"
      ],
      "text/plain": [
       "                     AAPL   JNJ   XOM\n",
       "1990-02-01 00:00:00  7.86  4.27  6.12\n",
       "1990-02-02 00:00:00  8.00  4.37  6.24\n",
       "1990-02-05 00:00:00  8.18  4.34  6.25\n",
       "1990-02-06 00:00:00  8.12  4.32  6.23\n",
       "1990-02-07 00:00:00  7.77  4.38  6.33"
      ]
     },
     "execution_count": 6,
     "metadata": {},
     "output_type": "execute_result"
    }
   ],
   "source": [
    "# 如果想手工对齐，可以使用DataFrame的align方法\n",
    "prices_aligned = prices.align(volume, join='inner')[0]\n",
    "prices_aligned.head()"
   ]
  },
  {
   "cell_type": "code",
   "execution_count": 7,
   "metadata": {
    "collapsed": false,
    "deletable": true,
    "editable": true
   },
   "outputs": [
    {
     "data": {
      "text/plain": [
       "AAPL    81.246271\n",
       "JNJ     40.576111\n",
       "XOM     50.520303\n",
       "dtype: float64"
      ]
     },
     "execution_count": 7,
     "metadata": {},
     "output_type": "execute_result"
    }
   ],
   "source": [
    "vwap = (prices_aligned*volume).sum() / volume.sum()\n",
    "vwap"
   ]
  },
  {
   "cell_type": "code",
   "execution_count": 8,
   "metadata": {
    "collapsed": false,
    "deletable": true,
    "editable": true
   },
   "outputs": [
    {
     "data": {
      "text/html": [
       "<div>\n",
       "<table border=\"1\" class=\"dataframe\">\n",
       "  <thead>\n",
       "    <tr style=\"text-align: right;\">\n",
       "      <th></th>\n",
       "      <th>one</th>\n",
       "      <th>three</th>\n",
       "      <th>two</th>\n",
       "    </tr>\n",
       "  </thead>\n",
       "  <tbody>\n",
       "    <tr>\n",
       "      <th>a</th>\n",
       "      <td>0.0</td>\n",
       "      <td>1.0</td>\n",
       "      <td>NaN</td>\n",
       "    </tr>\n",
       "    <tr>\n",
       "      <th>b</th>\n",
       "      <td>1.0</td>\n",
       "      <td>NaN</td>\n",
       "      <td>1.0</td>\n",
       "    </tr>\n",
       "    <tr>\n",
       "      <th>c</th>\n",
       "      <td>2.0</td>\n",
       "      <td>2.0</td>\n",
       "      <td>2.0</td>\n",
       "    </tr>\n",
       "    <tr>\n",
       "      <th>d</th>\n",
       "      <td>NaN</td>\n",
       "      <td>NaN</td>\n",
       "      <td>0.0</td>\n",
       "    </tr>\n",
       "    <tr>\n",
       "      <th>e</th>\n",
       "      <td>NaN</td>\n",
       "      <td>NaN</td>\n",
       "      <td>3.0</td>\n",
       "    </tr>\n",
       "    <tr>\n",
       "      <th>f</th>\n",
       "      <td>NaN</td>\n",
       "      <td>0.0</td>\n",
       "      <td>NaN</td>\n",
       "    </tr>\n",
       "  </tbody>\n",
       "</table>\n",
       "</div>"
      ],
      "text/plain": [
       "   one  three  two\n",
       "a  0.0    1.0  NaN\n",
       "b  1.0    NaN  1.0\n",
       "c  2.0    2.0  2.0\n",
       "d  NaN    NaN  0.0\n",
       "e  NaN    NaN  3.0\n",
       "f  NaN    0.0  NaN"
      ]
     },
     "execution_count": 8,
     "metadata": {},
     "output_type": "execute_result"
    }
   ],
   "source": [
    "# 通过一组索引可能不同的Series建构一个DataFrame\n",
    "s1 = Series(range(3), index=list('abc'))\n",
    "s2 = Series(range(4), index=list('dbce'))\n",
    "s3 = Series(range(3), index=list('fac'))\n",
    "\n",
    "DataFrame({'one': s1, 'two': s2, 'three': s3})"
   ]
  },
  {
   "cell_type": "code",
   "execution_count": 9,
   "metadata": {
    "collapsed": false,
    "deletable": true,
    "editable": true
   },
   "outputs": [
    {
     "data": {
      "text/html": [
       "<div>\n",
       "<table border=\"1\" class=\"dataframe\">\n",
       "  <thead>\n",
       "    <tr style=\"text-align: right;\">\n",
       "      <th></th>\n",
       "      <th>one</th>\n",
       "      <th>three</th>\n",
       "      <th>two</th>\n",
       "    </tr>\n",
       "  </thead>\n",
       "  <tbody>\n",
       "    <tr>\n",
       "      <th>f</th>\n",
       "      <td>NaN</td>\n",
       "      <td>0.0</td>\n",
       "      <td>NaN</td>\n",
       "    </tr>\n",
       "    <tr>\n",
       "      <th>a</th>\n",
       "      <td>0.0</td>\n",
       "      <td>1.0</td>\n",
       "      <td>NaN</td>\n",
       "    </tr>\n",
       "    <tr>\n",
       "      <th>c</th>\n",
       "      <td>2.0</td>\n",
       "      <td>2.0</td>\n",
       "      <td>2.0</td>\n",
       "    </tr>\n",
       "    <tr>\n",
       "      <th>e</th>\n",
       "      <td>NaN</td>\n",
       "      <td>NaN</td>\n",
       "      <td>3.0</td>\n",
       "    </tr>\n",
       "  </tbody>\n",
       "</table>\n",
       "</div>"
      ],
      "text/plain": [
       "   one  three  two\n",
       "f  NaN    0.0  NaN\n",
       "a  0.0    1.0  NaN\n",
       "c  2.0    2.0  2.0\n",
       "e  NaN    NaN  3.0"
      ]
     },
     "execution_count": 9,
     "metadata": {},
     "output_type": "execute_result"
    }
   ],
   "source": [
    "# 显示定义结果的索引（丢弃其余的数据）\n",
    "DataFrame({'one': s1, 'two': s2, 'three': s3}, index=list('face'))"
   ]
  },
  {
   "cell_type": "markdown",
   "metadata": {
    "deletable": true,
    "editable": true
   },
   "source": [
    "### Operations with Time Series of Different Frequencies\n",
    "\n",
    "经济学时间序列常常有按年、季、月、日（或其他更特殊的频率）计算的。有些完全不规则，例如盈利预测调整随时可能发生\n",
    "\n",
    "场景 | 工具 | 说明\n",
    "---|---|---\n",
    "频率转换 | `resample` | 将数据转换到固定频率\n",
    "重新对齐 |  `reindex` | 使数据符合一个新索引"
   ]
  },
  {
   "cell_type": "code",
   "execution_count": 10,
   "metadata": {
    "collapsed": false,
    "deletable": true,
    "editable": true
   },
   "outputs": [
    {
     "data": {
      "text/plain": [
       "2012-06-13    0\n",
       "2012-06-20    1\n",
       "2012-06-27    2\n",
       "Freq: W-WED, dtype: int64"
      ]
     },
     "execution_count": 10,
     "metadata": {},
     "output_type": "execute_result"
    }
   ],
   "source": [
    "ts1 = Series(np.arange(3),\n",
    "             index=pd.date_range('2012-6-13', periods=3, freq='W-WED'))\n",
    "ts1"
   ]
  },
  {
   "cell_type": "code",
   "execution_count": 11,
   "metadata": {
    "collapsed": false,
    "deletable": true,
    "editable": true
   },
   "outputs": [
    {
     "data": {
      "text/plain": [
       "2012-06-13    0.0\n",
       "2012-06-14    NaN\n",
       "2012-06-15    NaN\n",
       "2012-06-18    NaN\n",
       "2012-06-19    NaN\n",
       "2012-06-20    1.0\n",
       "2012-06-21    NaN\n",
       "2012-06-22    NaN\n",
       "2012-06-25    NaN\n",
       "2012-06-26    NaN\n",
       "2012-06-27    2.0\n",
       "Freq: B, dtype: float64"
      ]
     },
     "execution_count": 11,
     "metadata": {},
     "output_type": "execute_result"
    }
   ],
   "source": [
    "# 重新采样到工作日\n",
    "ts1.resample('B').mean()"
   ]
  },
  {
   "cell_type": "code",
   "execution_count": 12,
   "metadata": {
    "collapsed": false,
    "deletable": true,
    "editable": true
   },
   "outputs": [
    {
     "data": {
      "text/plain": [
       "2012-06-13    0\n",
       "2012-06-14    0\n",
       "2012-06-15    0\n",
       "2012-06-18    0\n",
       "2012-06-19    0\n",
       "2012-06-20    1\n",
       "2012-06-21    1\n",
       "2012-06-22    1\n",
       "2012-06-25    1\n",
       "2012-06-26    1\n",
       "2012-06-27    2\n",
       "Freq: B, dtype: int64"
      ]
     },
     "execution_count": 12,
     "metadata": {},
     "output_type": "execute_result"
    }
   ],
   "source": [
    "# 使用 ffill 填充空白\n",
    "# 处理较低频率的数据常常这么做，最终结果中个时间点都会有一个最新的有效值\n",
    "ts1.resample('B').ffill()"
   ]
  },
  {
   "cell_type": "code",
   "execution_count": 13,
   "metadata": {
    "collapsed": false,
    "deletable": true,
    "editable": true
   },
   "outputs": [
    {
     "data": {
      "text/plain": [
       "2012-06-12    0\n",
       "2012-06-17    1\n",
       "2012-06-18    2\n",
       "2012-06-21    3\n",
       "2012-06-22    4\n",
       "2012-06-29    5\n",
       "dtype: int64"
      ]
     },
     "execution_count": 13,
     "metadata": {},
     "output_type": "execute_result"
    }
   ],
   "source": [
    "dates = pd.DatetimeIndex(['2012-6-12', '2012-6-17', '2012-6-18',\n",
    "                          '2012-6-21', '2012-6-22', '2012-6-29'])\n",
    "ts2 = Series(np.arange(6), index=dates)\n",
    "ts2"
   ]
  },
  {
   "cell_type": "markdown",
   "metadata": {
    "deletable": true,
    "editable": true
   },
   "source": [
    "如果想将 ts1 最当前的值加到 ts2 shag\n",
    "- 将两者重新采样为规整频率再相加\n",
    "- 如果想维持ts2中的日期索引，reindex是一种更好的解救方法"
   ]
  },
  {
   "cell_type": "code",
   "execution_count": 14,
   "metadata": {
    "collapsed": false,
    "deletable": true,
    "editable": true
   },
   "outputs": [
    {
     "data": {
      "text/plain": [
       "2012-06-12    NaN\n",
       "2012-06-17    1.0\n",
       "2012-06-18    2.0\n",
       "2012-06-21    4.0\n",
       "2012-06-22    5.0\n",
       "2012-06-29    7.0\n",
       "dtype: float64"
      ]
     },
     "execution_count": 14,
     "metadata": {},
     "output_type": "execute_result"
    }
   ],
   "source": [
    "ts2 + ts1.reindex(ts2.index, method='ffill')"
   ]
  },
  {
   "cell_type": "markdown",
   "metadata": {
    "deletable": true,
    "editable": true
   },
   "source": [
    "#### Using periods instead of timestamps"
   ]
  },
  {
   "cell_type": "code",
   "execution_count": 15,
   "metadata": {
    "collapsed": false,
    "deletable": true,
    "editable": true
   },
   "outputs": [
    {
     "data": {
      "text/plain": [
       "1984Q2    1.78\n",
       "1984Q3    1.94\n",
       "1984Q4    2.08\n",
       "1985Q1    2.01\n",
       "1985Q2    2.15\n",
       "1985Q3    2.31\n",
       "1985Q4    2.46\n",
       "Freq: Q-SEP, dtype: float64"
      ]
     },
     "execution_count": 15,
     "metadata": {},
     "output_type": "execute_result"
    }
   ],
   "source": [
    "gdp = Series([1.78, 1.94, 2.08, 2.01, 2.15, 2.31, 2.46], \n",
    "             index=pd.period_range('1984Q2', periods=7, freq='Q-SEP'))\n",
    "gdp"
   ]
  },
  {
   "cell_type": "code",
   "execution_count": 16,
   "metadata": {
    "collapsed": false,
    "deletable": true,
    "editable": true
   },
   "outputs": [
    {
     "data": {
      "text/plain": [
       "1982    0.025\n",
       "1983    0.045\n",
       "1984    0.037\n",
       "1985    0.040\n",
       "Freq: A-DEC, dtype: float64"
      ]
     },
     "execution_count": 16,
     "metadata": {},
     "output_type": "execute_result"
    }
   ],
   "source": [
    "infl = Series([0.025, 0.045, 0.037, 0.04],\n",
    "              index=pd.period_range('1982', periods=4, freq='A-DEC'))\n",
    "infl"
   ]
  },
  {
   "cell_type": "markdown",
   "metadata": {
    "deletable": true,
    "editable": true
   },
   "source": [
    "跟 Timestamp 时间序列不同，由 period 索引的两个不同频率的时间序列之间的运算必须进行显式转换，然后使用 reindex 重新索引"
   ]
  },
  {
   "cell_type": "code",
   "execution_count": 17,
   "metadata": {
    "collapsed": false,
    "deletable": true,
    "editable": true
   },
   "outputs": [
    {
     "data": {
      "text/plain": [
       "1983Q1    0.025\n",
       "1984Q1    0.045\n",
       "1985Q1    0.037\n",
       "1986Q1    0.040\n",
       "Freq: Q-SEP, dtype: float64"
      ]
     },
     "execution_count": 17,
     "metadata": {},
     "output_type": "execute_result"
    }
   ],
   "source": [
    "infl_q = infl.asfreq('Q-SEP', how='end')\n",
    "infl_q"
   ]
  },
  {
   "cell_type": "code",
   "execution_count": 18,
   "metadata": {
    "collapsed": false,
    "deletable": true,
    "editable": true
   },
   "outputs": [
    {
     "data": {
      "text/plain": [
       "1984Q2    0.045\n",
       "1984Q3    0.045\n",
       "1984Q4    0.045\n",
       "1985Q1    0.037\n",
       "1985Q2    0.037\n",
       "1985Q3    0.037\n",
       "1985Q4    0.037\n",
       "Freq: Q-SEP, dtype: float64"
      ]
     },
     "execution_count": 18,
     "metadata": {},
     "output_type": "execute_result"
    }
   ],
   "source": [
    "infl_q.reindex(gdp.index, method='ffill')"
   ]
  },
  {
   "cell_type": "markdown",
   "metadata": {
    "deletable": true,
    "editable": true
   },
   "source": [
    "### Time of Day and “as of” Data Selection\n",
    "\n",
    "假设有一个很长的盘中市场时间序列，现在希望抽取其中每天特定时间的价格数据。如果数据不规整，观测值没有精准落在期望的时间点，该怎么办？"
   ]
  },
  {
   "cell_type": "code",
   "execution_count": 19,
   "metadata": {
    "collapsed": false,
    "deletable": true,
    "editable": true
   },
   "outputs": [
    {
     "data": {
      "text/plain": [
       "2012-06-01 09:30:00       0.0\n",
       "2012-06-01 09:31:00       1.0\n",
       "2012-06-01 09:32:00       2.0\n",
       "2012-06-01 09:33:00       3.0\n",
       "2012-06-01 09:34:00       4.0\n",
       "2012-06-01 09:35:00       5.0\n",
       "2012-06-01 09:36:00       6.0\n",
       "2012-06-01 09:37:00       7.0\n",
       "2012-06-01 09:38:00       8.0\n",
       "2012-06-01 09:39:00       9.0\n",
       "2012-06-01 09:40:00      10.0\n",
       "2012-06-01 09:41:00      11.0\n",
       "2012-06-01 09:42:00      12.0\n",
       "2012-06-01 09:43:00      13.0\n",
       "2012-06-01 09:44:00      14.0\n",
       "2012-06-01 09:45:00      15.0\n",
       "2012-06-01 09:46:00      16.0\n",
       "2012-06-01 09:47:00      17.0\n",
       "2012-06-01 09:48:00      18.0\n",
       "2012-06-01 09:49:00      19.0\n",
       "2012-06-01 09:50:00      20.0\n",
       "2012-06-01 09:51:00      21.0\n",
       "2012-06-01 09:52:00      22.0\n",
       "2012-06-01 09:53:00      23.0\n",
       "2012-06-01 09:54:00      24.0\n",
       "2012-06-01 09:55:00      25.0\n",
       "2012-06-01 09:56:00      26.0\n",
       "2012-06-01 09:57:00      27.0\n",
       "2012-06-01 09:58:00      28.0\n",
       "2012-06-01 09:59:00      29.0\n",
       "                        ...  \n",
       "2012-06-06 15:30:00    1530.0\n",
       "2012-06-06 15:31:00    1531.0\n",
       "2012-06-06 15:32:00    1532.0\n",
       "2012-06-06 15:33:00    1533.0\n",
       "2012-06-06 15:34:00    1534.0\n",
       "2012-06-06 15:35:00    1535.0\n",
       "2012-06-06 15:36:00    1536.0\n",
       "2012-06-06 15:37:00    1537.0\n",
       "2012-06-06 15:38:00    1538.0\n",
       "2012-06-06 15:39:00    1539.0\n",
       "2012-06-06 15:40:00    1540.0\n",
       "2012-06-06 15:41:00    1541.0\n",
       "2012-06-06 15:42:00    1542.0\n",
       "2012-06-06 15:43:00    1543.0\n",
       "2012-06-06 15:44:00    1544.0\n",
       "2012-06-06 15:45:00    1545.0\n",
       "2012-06-06 15:46:00    1546.0\n",
       "2012-06-06 15:47:00    1547.0\n",
       "2012-06-06 15:48:00    1548.0\n",
       "2012-06-06 15:49:00    1549.0\n",
       "2012-06-06 15:50:00    1550.0\n",
       "2012-06-06 15:51:00    1551.0\n",
       "2012-06-06 15:52:00    1552.0\n",
       "2012-06-06 15:53:00    1553.0\n",
       "2012-06-06 15:54:00    1554.0\n",
       "2012-06-06 15:55:00    1555.0\n",
       "2012-06-06 15:56:00    1556.0\n",
       "2012-06-06 15:57:00    1557.0\n",
       "2012-06-06 15:58:00    1558.0\n",
       "2012-06-06 15:59:00    1559.0\n",
       "dtype: float64"
      ]
     },
     "execution_count": 19,
     "metadata": {},
     "output_type": "execute_result"
    }
   ],
   "source": [
    "rng = pd.date_range('2012-06-01 09:30', '2012-06-01 15:59', freq='T')\n",
    "rng = rng.append([rng + pd.offsets.BDay(i) for i in range(1,4)])\n",
    "\n",
    "ts = Series(np.arange(len(rng), dtype=float), index=rng)\n",
    "ts"
   ]
  },
  {
   "cell_type": "code",
   "execution_count": 20,
   "metadata": {
    "collapsed": false,
    "deletable": true,
    "editable": true
   },
   "outputs": [
    {
     "data": {
      "text/plain": [
       "2012-06-01 10:00:00      30.0\n",
       "2012-06-04 10:00:00     420.0\n",
       "2012-06-05 10:00:00     810.0\n",
       "2012-06-06 10:00:00    1200.0\n",
       "dtype: float64"
      ]
     },
     "execution_count": 20,
     "metadata": {},
     "output_type": "execute_result"
    }
   ],
   "source": [
    "from datetime import time\n",
    "\n",
    "# 利用 datetime.time 对象进行索引，抽取时间点上的值\n",
    "ts[time(10, 0)]"
   ]
  },
  {
   "cell_type": "code",
   "execution_count": 21,
   "metadata": {
    "collapsed": false,
    "deletable": true,
    "editable": true
   },
   "outputs": [
    {
     "data": {
      "text/plain": [
       "2012-06-01 10:00:00      30.0\n",
       "2012-06-04 10:00:00     420.0\n",
       "2012-06-05 10:00:00     810.0\n",
       "2012-06-06 10:00:00    1200.0\n",
       "dtype: float64"
      ]
     },
     "execution_count": 21,
     "metadata": {},
     "output_type": "execute_result"
    }
   ],
   "source": [
    "# 选取时间点上的值，操作用到了 at_time\n",
    "ts.at_time(time(10, 0))"
   ]
  },
  {
   "cell_type": "code",
   "execution_count": 22,
   "metadata": {
    "collapsed": false,
    "deletable": true,
    "editable": true
   },
   "outputs": [
    {
     "data": {
      "text/plain": [
       "2012-06-01 10:00:00      30.0\n",
       "2012-06-01 10:01:00      31.0\n",
       "2012-06-04 10:00:00     420.0\n",
       "2012-06-04 10:01:00     421.0\n",
       "2012-06-05 10:00:00     810.0\n",
       "2012-06-05 10:01:00     811.0\n",
       "2012-06-06 10:00:00    1200.0\n",
       "2012-06-06 10:01:00    1201.0\n",
       "dtype: float64"
      ]
     },
     "execution_count": 22,
     "metadata": {},
     "output_type": "execute_result"
    }
   ],
   "source": [
    "# 选取两个时间 time 对象之间的值\n",
    "ts.between_time(time(10, 0), time(10, 1))"
   ]
  },
  {
   "cell_type": "code",
   "execution_count": 23,
   "metadata": {
    "collapsed": false,
    "deletable": true,
    "editable": true
   },
   "outputs": [
    {
     "data": {
      "text/plain": [
       "2012-06-01 09:50:00    20.0\n",
       "2012-06-01 09:51:00     NaN\n",
       "2012-06-01 09:52:00    22.0\n",
       "2012-06-01 09:53:00     NaN\n",
       "2012-06-01 09:54:00    24.0\n",
       "2012-06-01 09:55:00     NaN\n",
       "2012-06-01 09:56:00    26.0\n",
       "2012-06-01 09:57:00     NaN\n",
       "2012-06-01 09:58:00     NaN\n",
       "2012-06-01 09:59:00    29.0\n",
       "2012-06-01 10:00:00     NaN\n",
       "dtype: float64"
      ]
     },
     "execution_count": 23,
     "metadata": {},
     "output_type": "execute_result"
    }
   ],
   "source": [
    "# 随机找700个数据，将其设为 NA\n",
    "#indexer = np.sort(np.random.permutation(len(ts))[700:])\n",
    "indexer = np.random.permutation(len(ts))[700:]\n",
    "\n",
    "irr_ts = ts.copy()\n",
    "irr_ts[indexer] = np.nan\n",
    "irr_ts['2012-06-01 09:50':'2012-06-01 10:00']"
   ]
  },
  {
   "cell_type": "code",
   "execution_count": 24,
   "metadata": {
    "collapsed": false,
    "deletable": true,
    "editable": true
   },
   "outputs": [
    {
     "data": {
      "text/plain": [
       "2012-06-01 10:00:00      29.0\n",
       "2012-06-04 10:00:00     419.0\n",
       "2012-06-05 10:00:00     808.0\n",
       "2012-06-06 10:00:00    1198.0\n",
       "Freq: B, dtype: float64"
      ]
     },
     "execution_count": 24,
     "metadata": {},
     "output_type": "execute_result"
    }
   ],
   "source": [
    "selection = pd.date_range('2012-06-01 10:00', periods=4, freq='B')\n",
    "\n",
    "# 将一组 timestamp 传入 asof 方法，就能得到这些时间点处（或其之前最近）得有效值\n",
    "irr_ts.asof(selection)"
   ]
  },
  {
   "cell_type": "markdown",
   "metadata": {
    "deletable": true,
    "editable": true
   },
   "source": [
    "### Splicing Together Data Sources\n",
    "\n",
    "金融或经济领域中，有几种常见的情况\n",
    "- 在一个特定的时间点上，从一个数据源切换到另一个数据源\n",
    "- 在另一个事件序列对当前时间数列中的缺失值“打补丁”\n",
    "- 将数据中的符号（国家、资产代码）替换成实际数据"
   ]
  },
  {
   "cell_type": "code",
   "execution_count": 25,
   "metadata": {
    "collapsed": false,
    "deletable": true,
    "editable": true
   },
   "outputs": [
    {
     "data": {
      "text/html": [
       "<div>\n",
       "<table border=\"1\" class=\"dataframe\">\n",
       "  <thead>\n",
       "    <tr style=\"text-align: right;\">\n",
       "      <th></th>\n",
       "      <th>a</th>\n",
       "      <th>b</th>\n",
       "      <th>c</th>\n",
       "    </tr>\n",
       "  </thead>\n",
       "  <tbody>\n",
       "    <tr>\n",
       "      <th>2012-06-12</th>\n",
       "      <td>1.0</td>\n",
       "      <td>1.0</td>\n",
       "      <td>1.0</td>\n",
       "    </tr>\n",
       "    <tr>\n",
       "      <th>2012-06-13</th>\n",
       "      <td>1.0</td>\n",
       "      <td>1.0</td>\n",
       "      <td>1.0</td>\n",
       "    </tr>\n",
       "    <tr>\n",
       "      <th>2012-06-14</th>\n",
       "      <td>1.0</td>\n",
       "      <td>1.0</td>\n",
       "      <td>1.0</td>\n",
       "    </tr>\n",
       "    <tr>\n",
       "      <th>2012-06-15</th>\n",
       "      <td>2.0</td>\n",
       "      <td>2.0</td>\n",
       "      <td>2.0</td>\n",
       "    </tr>\n",
       "    <tr>\n",
       "      <th>2012-06-16</th>\n",
       "      <td>2.0</td>\n",
       "      <td>2.0</td>\n",
       "      <td>2.0</td>\n",
       "    </tr>\n",
       "    <tr>\n",
       "      <th>2012-06-17</th>\n",
       "      <td>2.0</td>\n",
       "      <td>2.0</td>\n",
       "      <td>2.0</td>\n",
       "    </tr>\n",
       "    <tr>\n",
       "      <th>2012-06-18</th>\n",
       "      <td>2.0</td>\n",
       "      <td>2.0</td>\n",
       "      <td>2.0</td>\n",
       "    </tr>\n",
       "  </tbody>\n",
       "</table>\n",
       "</div>"
      ],
      "text/plain": [
       "              a    b    c\n",
       "2012-06-12  1.0  1.0  1.0\n",
       "2012-06-13  1.0  1.0  1.0\n",
       "2012-06-14  1.0  1.0  1.0\n",
       "2012-06-15  2.0  2.0  2.0\n",
       "2012-06-16  2.0  2.0  2.0\n",
       "2012-06-17  2.0  2.0  2.0\n",
       "2012-06-18  2.0  2.0  2.0"
      ]
     },
     "execution_count": 25,
     "metadata": {},
     "output_type": "execute_result"
    }
   ],
   "source": [
    "# 在一个特定的时间点上，从一个数据源切换到另一个数据源\n",
    "\n",
    "data1 = DataFrame(np.ones((6,3), dtype=float),\n",
    "                  columns=['a','b','c'],\n",
    "                  index=pd.date_range('6/12/2012', periods=6))\n",
    "\n",
    "data2 = DataFrame(np.ones((6,3), dtype=float) * 2,\n",
    "                  columns=['a','b','c'],\n",
    "                  index=pd.date_range('6/13/2012', periods=6))\n",
    "\n",
    "spliced = pd.concat([data1.ix[:'2012-6-14'], data2.ix['2012-6-15':]])\n",
    "spliced"
   ]
  },
  {
   "cell_type": "code",
   "execution_count": 26,
   "metadata": {
    "collapsed": false,
    "deletable": true,
    "editable": true
   },
   "outputs": [
    {
     "data": {
      "text/html": [
       "<div>\n",
       "<table border=\"1\" class=\"dataframe\">\n",
       "  <thead>\n",
       "    <tr style=\"text-align: right;\">\n",
       "      <th></th>\n",
       "      <th>a</th>\n",
       "      <th>b</th>\n",
       "      <th>c</th>\n",
       "      <th>d</th>\n",
       "    </tr>\n",
       "  </thead>\n",
       "  <tbody>\n",
       "    <tr>\n",
       "      <th>2012-06-12</th>\n",
       "      <td>1.0</td>\n",
       "      <td>1.0</td>\n",
       "      <td>1.0</td>\n",
       "      <td>NaN</td>\n",
       "    </tr>\n",
       "    <tr>\n",
       "      <th>2012-06-13</th>\n",
       "      <td>1.0</td>\n",
       "      <td>1.0</td>\n",
       "      <td>1.0</td>\n",
       "      <td>NaN</td>\n",
       "    </tr>\n",
       "    <tr>\n",
       "      <th>2012-06-14</th>\n",
       "      <td>1.0</td>\n",
       "      <td>1.0</td>\n",
       "      <td>1.0</td>\n",
       "      <td>NaN</td>\n",
       "    </tr>\n",
       "    <tr>\n",
       "      <th>2012-06-15</th>\n",
       "      <td>2.0</td>\n",
       "      <td>2.0</td>\n",
       "      <td>2.0</td>\n",
       "      <td>2.0</td>\n",
       "    </tr>\n",
       "    <tr>\n",
       "      <th>2012-06-16</th>\n",
       "      <td>2.0</td>\n",
       "      <td>2.0</td>\n",
       "      <td>2.0</td>\n",
       "      <td>2.0</td>\n",
       "    </tr>\n",
       "    <tr>\n",
       "      <th>2012-06-17</th>\n",
       "      <td>2.0</td>\n",
       "      <td>2.0</td>\n",
       "      <td>2.0</td>\n",
       "      <td>2.0</td>\n",
       "    </tr>\n",
       "    <tr>\n",
       "      <th>2012-06-18</th>\n",
       "      <td>2.0</td>\n",
       "      <td>2.0</td>\n",
       "      <td>2.0</td>\n",
       "      <td>2.0</td>\n",
       "    </tr>\n",
       "  </tbody>\n",
       "</table>\n",
       "</div>"
      ],
      "text/plain": [
       "              a    b    c    d\n",
       "2012-06-12  1.0  1.0  1.0  NaN\n",
       "2012-06-13  1.0  1.0  1.0  NaN\n",
       "2012-06-14  1.0  1.0  1.0  NaN\n",
       "2012-06-15  2.0  2.0  2.0  2.0\n",
       "2012-06-16  2.0  2.0  2.0  2.0\n",
       "2012-06-17  2.0  2.0  2.0  2.0\n",
       "2012-06-18  2.0  2.0  2.0  2.0"
      ]
     },
     "execution_count": 26,
     "metadata": {},
     "output_type": "execute_result"
    }
   ],
   "source": [
    "# 假设 data1 缺失了 data2 中存在的某个时间序列\n",
    "data2 = DataFrame(np.ones((6,4), dtype=float) * 2,\n",
    "                  columns=['a','b','c','d'],\n",
    "                  index=pd.date_range('6/13/2012', periods=6))\n",
    "\n",
    "spliced = pd.concat([data1.ix[:'2012-6-14'], data2.ix['2012-6-15':]])\n",
    "spliced"
   ]
  },
  {
   "cell_type": "code",
   "execution_count": 27,
   "metadata": {
    "collapsed": false,
    "deletable": true,
    "editable": true,
    "scrolled": true
   },
   "outputs": [
    {
     "data": {
      "text/html": [
       "<div>\n",
       "<table border=\"1\" class=\"dataframe\">\n",
       "  <thead>\n",
       "    <tr style=\"text-align: right;\">\n",
       "      <th></th>\n",
       "      <th>a</th>\n",
       "      <th>b</th>\n",
       "      <th>c</th>\n",
       "      <th>d</th>\n",
       "    </tr>\n",
       "  </thead>\n",
       "  <tbody>\n",
       "    <tr>\n",
       "      <th>2012-06-12</th>\n",
       "      <td>1.0</td>\n",
       "      <td>1.0</td>\n",
       "      <td>1.0</td>\n",
       "      <td>NaN</td>\n",
       "    </tr>\n",
       "    <tr>\n",
       "      <th>2012-06-13</th>\n",
       "      <td>1.0</td>\n",
       "      <td>1.0</td>\n",
       "      <td>1.0</td>\n",
       "      <td>2.0</td>\n",
       "    </tr>\n",
       "    <tr>\n",
       "      <th>2012-06-14</th>\n",
       "      <td>1.0</td>\n",
       "      <td>1.0</td>\n",
       "      <td>1.0</td>\n",
       "      <td>2.0</td>\n",
       "    </tr>\n",
       "    <tr>\n",
       "      <th>2012-06-15</th>\n",
       "      <td>2.0</td>\n",
       "      <td>2.0</td>\n",
       "      <td>2.0</td>\n",
       "      <td>2.0</td>\n",
       "    </tr>\n",
       "    <tr>\n",
       "      <th>2012-06-16</th>\n",
       "      <td>2.0</td>\n",
       "      <td>2.0</td>\n",
       "      <td>2.0</td>\n",
       "      <td>2.0</td>\n",
       "    </tr>\n",
       "    <tr>\n",
       "      <th>2012-06-17</th>\n",
       "      <td>2.0</td>\n",
       "      <td>2.0</td>\n",
       "      <td>2.0</td>\n",
       "      <td>2.0</td>\n",
       "    </tr>\n",
       "    <tr>\n",
       "      <th>2012-06-18</th>\n",
       "      <td>2.0</td>\n",
       "      <td>2.0</td>\n",
       "      <td>2.0</td>\n",
       "      <td>2.0</td>\n",
       "    </tr>\n",
       "  </tbody>\n",
       "</table>\n",
       "</div>"
      ],
      "text/plain": [
       "              a    b    c    d\n",
       "2012-06-12  1.0  1.0  1.0  NaN\n",
       "2012-06-13  1.0  1.0  1.0  2.0\n",
       "2012-06-14  1.0  1.0  1.0  2.0\n",
       "2012-06-15  2.0  2.0  2.0  2.0\n",
       "2012-06-16  2.0  2.0  2.0  2.0\n",
       "2012-06-17  2.0  2.0  2.0  2.0\n",
       "2012-06-18  2.0  2.0  2.0  2.0"
      ]
     },
     "execution_count": 27,
     "metadata": {},
     "output_type": "execute_result"
    }
   ],
   "source": [
    "# combine_first 可以引入合并点之前的数据，扩展了’d‘项的历史\n",
    "spliced_filled = spliced.combine_first(data2)\n",
    "spliced_filled"
   ]
  },
  {
   "cell_type": "code",
   "execution_count": 28,
   "metadata": {
    "collapsed": false,
    "deletable": true,
    "editable": true
   },
   "outputs": [
    {
     "data": {
      "text/html": [
       "<div>\n",
       "<table border=\"1\" class=\"dataframe\">\n",
       "  <thead>\n",
       "    <tr style=\"text-align: right;\">\n",
       "      <th></th>\n",
       "      <th>a</th>\n",
       "      <th>b</th>\n",
       "      <th>c</th>\n",
       "      <th>d</th>\n",
       "    </tr>\n",
       "  </thead>\n",
       "  <tbody>\n",
       "    <tr>\n",
       "      <th>2012-06-12</th>\n",
       "      <td>1.0</td>\n",
       "      <td>1.0</td>\n",
       "      <td>1.0</td>\n",
       "      <td>NaN</td>\n",
       "    </tr>\n",
       "    <tr>\n",
       "      <th>2012-06-13</th>\n",
       "      <td>1.0</td>\n",
       "      <td>1.0</td>\n",
       "      <td>1.0</td>\n",
       "      <td>2.0</td>\n",
       "    </tr>\n",
       "    <tr>\n",
       "      <th>2012-06-14</th>\n",
       "      <td>1.0</td>\n",
       "      <td>1.0</td>\n",
       "      <td>1.0</td>\n",
       "      <td>2.0</td>\n",
       "    </tr>\n",
       "    <tr>\n",
       "      <th>2012-06-15</th>\n",
       "      <td>2.0</td>\n",
       "      <td>2.0</td>\n",
       "      <td>2.0</td>\n",
       "      <td>2.0</td>\n",
       "    </tr>\n",
       "    <tr>\n",
       "      <th>2012-06-16</th>\n",
       "      <td>2.0</td>\n",
       "      <td>2.0</td>\n",
       "      <td>2.0</td>\n",
       "      <td>2.0</td>\n",
       "    </tr>\n",
       "    <tr>\n",
       "      <th>2012-06-17</th>\n",
       "      <td>2.0</td>\n",
       "      <td>2.0</td>\n",
       "      <td>2.0</td>\n",
       "      <td>2.0</td>\n",
       "    </tr>\n",
       "    <tr>\n",
       "      <th>2012-06-18</th>\n",
       "      <td>2.0</td>\n",
       "      <td>2.0</td>\n",
       "      <td>2.0</td>\n",
       "      <td>2.0</td>\n",
       "    </tr>\n",
       "  </tbody>\n",
       "</table>\n",
       "</div>"
      ],
      "text/plain": [
       "              a    b    c    d\n",
       "2012-06-12  1.0  1.0  1.0  NaN\n",
       "2012-06-13  1.0  1.0  1.0  2.0\n",
       "2012-06-14  1.0  1.0  1.0  2.0\n",
       "2012-06-15  2.0  2.0  2.0  2.0\n",
       "2012-06-16  2.0  2.0  2.0  2.0\n",
       "2012-06-17  2.0  2.0  2.0  2.0\n",
       "2012-06-18  2.0  2.0  2.0  2.0"
      ]
     },
     "execution_count": 28,
     "metadata": {},
     "output_type": "execute_result"
    }
   ],
   "source": [
    "# DataFrame update 传入overwrite=False只填充空洞\n",
    "spliced.update(data2, overwrite=False)\n",
    "spliced"
   ]
  },
  {
   "cell_type": "code",
   "execution_count": 29,
   "metadata": {
    "collapsed": false,
    "deletable": true,
    "editable": true
   },
   "outputs": [
    {
     "data": {
      "text/html": [
       "<div>\n",
       "<table border=\"1\" class=\"dataframe\">\n",
       "  <thead>\n",
       "    <tr style=\"text-align: right;\">\n",
       "      <th></th>\n",
       "      <th>a</th>\n",
       "      <th>b</th>\n",
       "      <th>c</th>\n",
       "      <th>d</th>\n",
       "    </tr>\n",
       "  </thead>\n",
       "  <tbody>\n",
       "    <tr>\n",
       "      <th>2012-06-12</th>\n",
       "      <td>1.0</td>\n",
       "      <td>1.0</td>\n",
       "      <td>1.0</td>\n",
       "      <td>NaN</td>\n",
       "    </tr>\n",
       "    <tr>\n",
       "      <th>2012-06-13</th>\n",
       "      <td>1.0</td>\n",
       "      <td>1.0</td>\n",
       "      <td>1.0</td>\n",
       "      <td>2.0</td>\n",
       "    </tr>\n",
       "    <tr>\n",
       "      <th>2012-06-14</th>\n",
       "      <td>1.0</td>\n",
       "      <td>1.0</td>\n",
       "      <td>1.0</td>\n",
       "      <td>2.0</td>\n",
       "    </tr>\n",
       "    <tr>\n",
       "      <th>2012-06-15</th>\n",
       "      <td>1.0</td>\n",
       "      <td>2.0</td>\n",
       "      <td>1.0</td>\n",
       "      <td>2.0</td>\n",
       "    </tr>\n",
       "    <tr>\n",
       "      <th>2012-06-16</th>\n",
       "      <td>1.0</td>\n",
       "      <td>2.0</td>\n",
       "      <td>1.0</td>\n",
       "      <td>2.0</td>\n",
       "    </tr>\n",
       "    <tr>\n",
       "      <th>2012-06-17</th>\n",
       "      <td>1.0</td>\n",
       "      <td>2.0</td>\n",
       "      <td>1.0</td>\n",
       "      <td>2.0</td>\n",
       "    </tr>\n",
       "    <tr>\n",
       "      <th>2012-06-18</th>\n",
       "      <td>NaN</td>\n",
       "      <td>2.0</td>\n",
       "      <td>NaN</td>\n",
       "      <td>2.0</td>\n",
       "    </tr>\n",
       "  </tbody>\n",
       "</table>\n",
       "</div>"
      ],
      "text/plain": [
       "              a    b    c    d\n",
       "2012-06-12  1.0  1.0  1.0  NaN\n",
       "2012-06-13  1.0  1.0  1.0  2.0\n",
       "2012-06-14  1.0  1.0  1.0  2.0\n",
       "2012-06-15  1.0  2.0  1.0  2.0\n",
       "2012-06-16  1.0  2.0  1.0  2.0\n",
       "2012-06-17  1.0  2.0  1.0  2.0\n",
       "2012-06-18  NaN  2.0  NaN  2.0"
      ]
     },
     "execution_count": 29,
     "metadata": {},
     "output_type": "execute_result"
    }
   ],
   "source": [
    "cp_spliced = spliced.copy()\n",
    "\n",
    "# 利用 DataFrame 索引机制直接对列进行设置\n",
    "cp_spliced[['a','c']] = data1[['a','c']]\n",
    "cp_spliced"
   ]
  },
  {
   "cell_type": "markdown",
   "metadata": {
    "deletable": true,
    "editable": true
   },
   "source": [
    "### Return Indexes and Cumulative Returns\n",
    "\n",
    "金融领域中，收益（return）指的是某资产价格的百分比变化"
   ]
  },
  {
   "cell_type": "code",
   "execution_count": 30,
   "metadata": {
    "collapsed": false,
    "deletable": true,
    "editable": true
   },
   "outputs": [
    {
     "data": {
      "text/plain": [
       "Date\n",
       "2017-04-03    143.699997\n",
       "2017-04-04    144.770004\n",
       "2017-04-05    144.020004\n",
       "2017-04-06    143.660004\n",
       "2017-04-07    143.339996\n",
       "Name: Adj Close, dtype: float64"
      ]
     },
     "execution_count": 30,
     "metadata": {},
     "output_type": "execute_result"
    }
   ],
   "source": [
    "import pandas_datareader.data as web\n",
    "\n",
    "price = web.get_data_yahoo('AAPL', '2011-01-01')['Adj Close']\n",
    "price[-5:]"
   ]
  },
  {
   "cell_type": "code",
   "execution_count": 31,
   "metadata": {
    "collapsed": false,
    "deletable": true,
    "editable": true
   },
   "outputs": [
    {
     "data": {
      "text/plain": [
       "0.072399896359515159"
      ]
     },
     "execution_count": 31,
     "metadata": {},
     "output_type": "execute_result"
    }
   ],
   "source": [
    "# 计算两个时间点之间的累计百分比回报\n",
    "price['2011-10-03'] / price['2011-3-1'] - 1 "
   ]
  },
  {
   "cell_type": "code",
   "execution_count": 32,
   "metadata": {
    "collapsed": false,
    "deletable": true,
    "editable": true
   },
   "outputs": [
    {
     "data": {
      "text/plain": [
       "Date\n",
       "2017-04-03    3.365423\n",
       "2017-04-04    3.390482\n",
       "2017-04-05    3.372917\n",
       "2017-04-06    3.364486\n",
       "2017-04-07    3.356992\n",
       "Name: Adj Close, dtype: float64"
      ]
     },
     "execution_count": 32,
     "metadata": {},
     "output_type": "execute_result"
    }
   ],
   "source": [
    "# 利用 cumprod 计算出一个简单的收益指数\n",
    "returns = price.pct_change()\n",
    "ret_index = (1 + returns).cumprod()\n",
    "\n",
    "# 降低一个值设置为1\n",
    "ret_index[0] = 1\n",
    "\n",
    "ret_index.tail()"
   ]
  },
  {
   "cell_type": "code",
   "execution_count": 33,
   "metadata": {
    "collapsed": false,
    "deletable": true,
    "editable": true
   },
   "outputs": [
    {
     "data": {
      "text/plain": [
       "Date\n",
       "2012-01-31    0.127111\n",
       "2012-02-29    0.188311\n",
       "2012-03-30    0.105284\n",
       "2012-04-30   -0.025970\n",
       "2012-05-31   -0.010702\n",
       "2012-06-29    0.010853\n",
       "2012-07-31    0.045822\n",
       "2012-08-31    0.093877\n",
       "2012-09-28    0.002796\n",
       "2012-10-31   -0.107600\n",
       "2012-11-30   -0.012375\n",
       "2012-12-31   -0.090743\n",
       "Freq: BM, Name: Adj Close, dtype: float64"
      ]
     },
     "execution_count": 33,
     "metadata": {},
     "output_type": "execute_result"
    }
   ],
   "source": [
    "# 计算指定时期内的累计收益\n",
    "m_returns = ret_index.resample('BM').last().pct_change()\n",
    "m_returns['2012']"
   ]
  },
  {
   "cell_type": "code",
   "execution_count": 34,
   "metadata": {
    "collapsed": false,
    "deletable": true,
    "editable": true
   },
   "outputs": [
    {
     "data": {
      "text/plain": [
       "Date\n",
       "2012-01    0.127111\n",
       "2012-02    0.188311\n",
       "2012-03    0.105284\n",
       "2012-04   -0.025970\n",
       "2012-05   -0.010702\n",
       "2012-06    0.010853\n",
       "2012-07    0.045822\n",
       "2012-08    0.093877\n",
       "2012-09    0.002796\n",
       "2012-10   -0.107600\n",
       "2012-11   -0.012375\n",
       "2012-12   -0.090743\n",
       "Freq: M, Name: Adj Close, dtype: float64"
      ]
     },
     "execution_count": 34,
     "metadata": {},
     "output_type": "execute_result"
    }
   ],
   "source": [
    "# 重新采样聚合（根据时期聚合），从日百分比变化中计算得出\n",
    "m_rets = (1 + returns).resample('M', kind='period').prod() - 1\n",
    "m_rets['2012']"
   ]
  },
  {
   "cell_type": "markdown",
   "metadata": {
    "deletable": true,
    "editable": true
   },
   "source": [
    "## Group Transforms and Analysis"
   ]
  },
  {
   "cell_type": "code",
   "execution_count": 35,
   "metadata": {
    "collapsed": true
   },
   "outputs": [],
   "source": [
    "import random; random.seed(0)\n",
    "import string\n",
    "\n",
    "# 随机产生股票名（n个英文字母组成）\n",
    "def rands(n):\n",
    "    choices = string.ascii_uppercase #'ABCDEFGHIJKLMNOPQRSTUVWXYZ'\n",
    "    return ''.join([random.choice(choices) for _ in xrange(n)])\n",
    "\n",
    "N = 1000\n",
    "tickers = np.array([rands(5) for _ in xrange(N)])"
   ]
  },
  {
   "cell_type": "code",
   "execution_count": 36,
   "metadata": {
    "collapsed": true
   },
   "outputs": [],
   "source": [
    "# 选择部分股票组成一个投资组合\n",
    "M = 500\n",
    "df = DataFrame({'Momentum': np.random.randn(M) / 200 + 0.03,\n",
    "                'Value': np.random.randn(M) / 200 + 0.08,\n",
    "                'ShortInterest': np.random.randn(M) / 200 - 0.02},\n",
    "               index=tickers[:M])"
   ]
  },
  {
   "cell_type": "code",
   "execution_count": 37,
   "metadata": {
    "collapsed": true
   },
   "outputs": [],
   "source": [
    "# 随机创建一个行业分类（两个行业）\n",
    "ind_names = np.array(['FINANCIAL', 'TECH'])\n",
    "sampler = np.random.randint(0, len(ind_names), N)\n",
    "industries = Series(ind_names[sampler], index=tickers, name='industry')"
   ]
  },
  {
   "cell_type": "code",
   "execution_count": 38,
   "metadata": {
    "collapsed": false
   },
   "outputs": [
    {
     "data": {
      "text/html": [
       "<div>\n",
       "<table border=\"1\" class=\"dataframe\">\n",
       "  <thead>\n",
       "    <tr style=\"text-align: right;\">\n",
       "      <th></th>\n",
       "      <th></th>\n",
       "      <th>Momentum</th>\n",
       "      <th>ShortInterest</th>\n",
       "      <th>Value</th>\n",
       "    </tr>\n",
       "    <tr>\n",
       "      <th>industry</th>\n",
       "      <th></th>\n",
       "      <th></th>\n",
       "      <th></th>\n",
       "      <th></th>\n",
       "    </tr>\n",
       "  </thead>\n",
       "  <tbody>\n",
       "    <tr>\n",
       "      <th rowspan=\"8\" valign=\"top\">FINANCIAL</th>\n",
       "      <th>count</th>\n",
       "      <td>255.000000</td>\n",
       "      <td>255.000000</td>\n",
       "      <td>255.000000</td>\n",
       "    </tr>\n",
       "    <tr>\n",
       "      <th>mean</th>\n",
       "      <td>0.029274</td>\n",
       "      <td>-0.020109</td>\n",
       "      <td>0.080104</td>\n",
       "    </tr>\n",
       "    <tr>\n",
       "      <th>std</th>\n",
       "      <td>0.005167</td>\n",
       "      <td>0.005215</td>\n",
       "      <td>0.005020</td>\n",
       "    </tr>\n",
       "    <tr>\n",
       "      <th>min</th>\n",
       "      <td>0.012372</td>\n",
       "      <td>-0.033391</td>\n",
       "      <td>0.064412</td>\n",
       "    </tr>\n",
       "    <tr>\n",
       "      <th>25%</th>\n",
       "      <td>0.025711</td>\n",
       "      <td>-0.023445</td>\n",
       "      <td>0.076888</td>\n",
       "    </tr>\n",
       "    <tr>\n",
       "      <th>50%</th>\n",
       "      <td>0.028982</td>\n",
       "      <td>-0.019960</td>\n",
       "      <td>0.080431</td>\n",
       "    </tr>\n",
       "    <tr>\n",
       "      <th>75%</th>\n",
       "      <td>0.032976</td>\n",
       "      <td>-0.016732</td>\n",
       "      <td>0.083516</td>\n",
       "    </tr>\n",
       "    <tr>\n",
       "      <th>max</th>\n",
       "      <td>0.044620</td>\n",
       "      <td>-0.005727</td>\n",
       "      <td>0.092515</td>\n",
       "    </tr>\n",
       "    <tr>\n",
       "      <th rowspan=\"8\" valign=\"top\">TECH</th>\n",
       "      <th>count</th>\n",
       "      <td>245.000000</td>\n",
       "      <td>245.000000</td>\n",
       "      <td>245.000000</td>\n",
       "    </tr>\n",
       "    <tr>\n",
       "      <th>mean</th>\n",
       "      <td>0.029620</td>\n",
       "      <td>-0.020893</td>\n",
       "      <td>0.080245</td>\n",
       "    </tr>\n",
       "    <tr>\n",
       "      <th>std</th>\n",
       "      <td>0.005307</td>\n",
       "      <td>0.005106</td>\n",
       "      <td>0.005073</td>\n",
       "    </tr>\n",
       "    <tr>\n",
       "      <th>min</th>\n",
       "      <td>0.013402</td>\n",
       "      <td>-0.034121</td>\n",
       "      <td>0.064056</td>\n",
       "    </tr>\n",
       "    <tr>\n",
       "      <th>25%</th>\n",
       "      <td>0.026354</td>\n",
       "      <td>-0.024487</td>\n",
       "      <td>0.076911</td>\n",
       "    </tr>\n",
       "    <tr>\n",
       "      <th>50%</th>\n",
       "      <td>0.029576</td>\n",
       "      <td>-0.020871</td>\n",
       "      <td>0.080445</td>\n",
       "    </tr>\n",
       "    <tr>\n",
       "      <th>75%</th>\n",
       "      <td>0.033201</td>\n",
       "      <td>-0.017069</td>\n",
       "      <td>0.083460</td>\n",
       "    </tr>\n",
       "    <tr>\n",
       "      <th>max</th>\n",
       "      <td>0.042855</td>\n",
       "      <td>-0.006960</td>\n",
       "      <td>0.096242</td>\n",
       "    </tr>\n",
       "  </tbody>\n",
       "</table>\n",
       "</div>"
      ],
      "text/plain": [
       "                   Momentum  ShortInterest       Value\n",
       "industry                                              \n",
       "FINANCIAL count  255.000000     255.000000  255.000000\n",
       "          mean     0.029274      -0.020109    0.080104\n",
       "          std      0.005167       0.005215    0.005020\n",
       "          min      0.012372      -0.033391    0.064412\n",
       "          25%      0.025711      -0.023445    0.076888\n",
       "          50%      0.028982      -0.019960    0.080431\n",
       "          75%      0.032976      -0.016732    0.083516\n",
       "          max      0.044620      -0.005727    0.092515\n",
       "TECH      count  245.000000     245.000000  245.000000\n",
       "          mean     0.029620      -0.020893    0.080245\n",
       "          std      0.005307       0.005106    0.005073\n",
       "          min      0.013402      -0.034121    0.064056\n",
       "          25%      0.026354      -0.024487    0.076911\n",
       "          50%      0.029576      -0.020871    0.080445\n",
       "          75%      0.033201      -0.017069    0.083460\n",
       "          max      0.042855      -0.006960    0.096242"
      ]
     },
     "execution_count": 38,
     "metadata": {},
     "output_type": "execute_result"
    }
   ],
   "source": [
    "# 根据行业进行分类并执行分组聚合和变换\n",
    "by_industry = df.groupby(industries)\n",
    "by_industry.describe()"
   ]
  },
  {
   "cell_type": "code",
   "execution_count": 39,
   "metadata": {
    "collapsed": true
   },
   "outputs": [],
   "source": [
    "def zscore(group):\n",
    "    return (group - group.mean()) / group.std()\n",
    "\n",
    "df_stand = by_industry.apply(zscore)"
   ]
  },
  {
   "cell_type": "code",
   "execution_count": 40,
   "metadata": {
    "collapsed": false
   },
   "outputs": [
    {
     "data": {
      "text/html": [
       "<div>\n",
       "<table border=\"1\" class=\"dataframe\">\n",
       "  <thead>\n",
       "    <tr>\n",
       "      <th></th>\n",
       "      <th colspan=\"2\" halign=\"left\">Momentum</th>\n",
       "      <th colspan=\"2\" halign=\"left\">ShortInterest</th>\n",
       "      <th colspan=\"2\" halign=\"left\">Value</th>\n",
       "    </tr>\n",
       "    <tr>\n",
       "      <th></th>\n",
       "      <th>mean</th>\n",
       "      <th>std</th>\n",
       "      <th>mean</th>\n",
       "      <th>std</th>\n",
       "      <th>mean</th>\n",
       "      <th>std</th>\n",
       "    </tr>\n",
       "    <tr>\n",
       "      <th>industry</th>\n",
       "      <th></th>\n",
       "      <th></th>\n",
       "      <th></th>\n",
       "      <th></th>\n",
       "      <th></th>\n",
       "      <th></th>\n",
       "    </tr>\n",
       "  </thead>\n",
       "  <tbody>\n",
       "    <tr>\n",
       "      <th>FINANCIAL</th>\n",
       "      <td>-5.356064e-15</td>\n",
       "      <td>1.0</td>\n",
       "      <td>2.410708e-15</td>\n",
       "      <td>1.0</td>\n",
       "      <td>1.238552e-14</td>\n",
       "      <td>1.0</td>\n",
       "    </tr>\n",
       "    <tr>\n",
       "      <th>TECH</th>\n",
       "      <td>1.284233e-15</td>\n",
       "      <td>1.0</td>\n",
       "      <td>3.554526e-15</td>\n",
       "      <td>1.0</td>\n",
       "      <td>-6.688527e-15</td>\n",
       "      <td>1.0</td>\n",
       "    </tr>\n",
       "  </tbody>\n",
       "</table>\n",
       "</div>"
      ],
      "text/plain": [
       "               Momentum      ShortInterest              Value     \n",
       "                   mean  std          mean  std          mean  std\n",
       "industry                                                          \n",
       "FINANCIAL -5.356064e-15  1.0  2.410708e-15  1.0  1.238552e-14  1.0\n",
       "TECH       1.284233e-15  1.0  3.554526e-15  1.0 -6.688527e-15  1.0"
      ]
     },
     "execution_count": 40,
     "metadata": {},
     "output_type": "execute_result"
    }
   ],
   "source": [
    "# 处理之后，各行业平均为0，标准差为1\n",
    "df_stand.groupby(industries).agg(['mean', 'std'])"
   ]
  },
  {
   "cell_type": "code",
   "execution_count": 41,
   "metadata": {
    "collapsed": false
   },
   "outputs": [
    {
     "data": {
      "text/html": [
       "<div>\n",
       "<table border=\"1\" class=\"dataframe\">\n",
       "  <thead>\n",
       "    <tr>\n",
       "      <th></th>\n",
       "      <th colspan=\"2\" halign=\"left\">Momentum</th>\n",
       "      <th colspan=\"2\" halign=\"left\">ShortInterest</th>\n",
       "      <th colspan=\"2\" halign=\"left\">Value</th>\n",
       "    </tr>\n",
       "    <tr>\n",
       "      <th></th>\n",
       "      <th>min</th>\n",
       "      <th>max</th>\n",
       "      <th>min</th>\n",
       "      <th>max</th>\n",
       "      <th>min</th>\n",
       "      <th>max</th>\n",
       "    </tr>\n",
       "    <tr>\n",
       "      <th>industry</th>\n",
       "      <th></th>\n",
       "      <th></th>\n",
       "      <th></th>\n",
       "      <th></th>\n",
       "      <th></th>\n",
       "      <th></th>\n",
       "    </tr>\n",
       "  </thead>\n",
       "  <tbody>\n",
       "    <tr>\n",
       "      <th>FINANCIAL</th>\n",
       "      <td>1.0</td>\n",
       "      <td>255.0</td>\n",
       "      <td>1.0</td>\n",
       "      <td>255.0</td>\n",
       "      <td>1.0</td>\n",
       "      <td>255.0</td>\n",
       "    </tr>\n",
       "    <tr>\n",
       "      <th>TECH</th>\n",
       "      <td>1.0</td>\n",
       "      <td>245.0</td>\n",
       "      <td>1.0</td>\n",
       "      <td>245.0</td>\n",
       "      <td>1.0</td>\n",
       "      <td>245.0</td>\n",
       "    </tr>\n",
       "  </tbody>\n",
       "</table>\n",
       "</div>"
      ],
      "text/plain": [
       "          Momentum        ShortInterest        Value       \n",
       "               min    max           min    max   min    max\n",
       "industry                                                   \n",
       "FINANCIAL      1.0  255.0           1.0  255.0   1.0  255.0\n",
       "TECH           1.0  245.0           1.0  245.0   1.0  245.0"
      ]
     },
     "execution_count": 41,
     "metadata": {},
     "output_type": "execute_result"
    }
   ],
   "source": [
    "# 行业内降序排名\n",
    "ind_rank = by_industry.rank(ascending=False)\n",
    "ind_rank.groupby(industries).agg(['min', 'max'])"
   ]
  },
  {
   "cell_type": "code",
   "execution_count": 42,
   "metadata": {
    "collapsed": false
   },
   "outputs": [
    {
     "data": {
      "text/html": [
       "<div>\n",
       "<table border=\"1\" class=\"dataframe\">\n",
       "  <thead>\n",
       "    <tr style=\"text-align: right;\">\n",
       "      <th></th>\n",
       "      <th>Momentum</th>\n",
       "      <th>ShortInterest</th>\n",
       "      <th>Value</th>\n",
       "    </tr>\n",
       "  </thead>\n",
       "  <tbody>\n",
       "    <tr>\n",
       "      <th>VTKGN</th>\n",
       "      <td>1.342257</td>\n",
       "      <td>0.813489</td>\n",
       "      <td>0.460977</td>\n",
       "    </tr>\n",
       "    <tr>\n",
       "      <th>KUHMP</th>\n",
       "      <td>-1.626978</td>\n",
       "      <td>-0.474535</td>\n",
       "      <td>-0.067791</td>\n",
       "    </tr>\n",
       "    <tr>\n",
       "      <th>XNHTQ</th>\n",
       "      <td>-0.225767</td>\n",
       "      <td>1.213496</td>\n",
       "      <td>0.169325</td>\n",
       "    </tr>\n",
       "    <tr>\n",
       "      <th>GXZVX</th>\n",
       "      <td>1.171165</td>\n",
       "      <td>1.650919</td>\n",
       "      <td>-0.719632</td>\n",
       "    </tr>\n",
       "    <tr>\n",
       "      <th>ISXRM</th>\n",
       "      <td>-0.189814</td>\n",
       "      <td>0.352512</td>\n",
       "      <td>0.840606</td>\n",
       "    </tr>\n",
       "    <tr>\n",
       "      <th>CLPXZ</th>\n",
       "      <td>-0.437423</td>\n",
       "      <td>0.818405</td>\n",
       "      <td>0.423313</td>\n",
       "    </tr>\n",
       "    <tr>\n",
       "      <th>MWGUO</th>\n",
       "      <td>0.244047</td>\n",
       "      <td>-1.260908</td>\n",
       "      <td>1.111769</td>\n",
       "    </tr>\n",
       "    <tr>\n",
       "      <th>ASKVR</th>\n",
       "      <td>0.366070</td>\n",
       "      <td>-1.003303</td>\n",
       "      <td>-1.518513</td>\n",
       "    </tr>\n",
       "    <tr>\n",
       "      <th>AMWGI</th>\n",
       "      <td>-0.935513</td>\n",
       "      <td>-1.410048</td>\n",
       "      <td>-1.342257</td>\n",
       "    </tr>\n",
       "    <tr>\n",
       "      <th>WEOGZ</th>\n",
       "      <td>1.450722</td>\n",
       "      <td>1.111769</td>\n",
       "      <td>-1.016862</td>\n",
       "    </tr>\n",
       "    <tr>\n",
       "      <th>ULCIN</th>\n",
       "      <td>1.599862</td>\n",
       "      <td>0.610117</td>\n",
       "      <td>1.559188</td>\n",
       "    </tr>\n",
       "    <tr>\n",
       "      <th>YCOSO</th>\n",
       "      <td>-0.406745</td>\n",
       "      <td>-0.732140</td>\n",
       "      <td>-1.301583</td>\n",
       "    </tr>\n",
       "    <tr>\n",
       "      <th>VOZPP</th>\n",
       "      <td>0.230489</td>\n",
       "      <td>-0.759257</td>\n",
       "      <td>1.247350</td>\n",
       "    </tr>\n",
       "    <tr>\n",
       "      <th>LPKOH</th>\n",
       "      <td>1.504955</td>\n",
       "      <td>1.193118</td>\n",
       "      <td>-0.325396</td>\n",
       "    </tr>\n",
       "    <tr>\n",
       "      <th>EEPRM</th>\n",
       "      <td>1.100613</td>\n",
       "      <td>-0.239877</td>\n",
       "      <td>-0.804294</td>\n",
       "    </tr>\n",
       "    <tr>\n",
       "      <th>CTWYV</th>\n",
       "      <td>-1.665030</td>\n",
       "      <td>-0.888957</td>\n",
       "      <td>-1.679140</td>\n",
       "    </tr>\n",
       "    <tr>\n",
       "      <th>XYOKS</th>\n",
       "      <td>-0.555884</td>\n",
       "      <td>-1.572746</td>\n",
       "      <td>0.284721</td>\n",
       "    </tr>\n",
       "    <tr>\n",
       "      <th>HVWXP</th>\n",
       "      <td>-1.340490</td>\n",
       "      <td>0.733742</td>\n",
       "      <td>0.931288</td>\n",
       "    </tr>\n",
       "    <tr>\n",
       "      <th>YPLRZ</th>\n",
       "      <td>-1.071094</td>\n",
       "      <td>0.122023</td>\n",
       "      <td>1.382932</td>\n",
       "    </tr>\n",
       "    <tr>\n",
       "      <th>XUCPM</th>\n",
       "      <td>1.545630</td>\n",
       "      <td>0.244047</td>\n",
       "      <td>-1.098210</td>\n",
       "    </tr>\n",
       "    <tr>\n",
       "      <th>QVGTD</th>\n",
       "      <td>0.623675</td>\n",
       "      <td>-1.071094</td>\n",
       "      <td>-0.921954</td>\n",
       "    </tr>\n",
       "    <tr>\n",
       "      <th>FUIVC</th>\n",
       "      <td>-0.162698</td>\n",
       "      <td>0.759257</td>\n",
       "      <td>0.908396</td>\n",
       "    </tr>\n",
       "    <tr>\n",
       "      <th>DSBOX</th>\n",
       "      <td>-1.328699</td>\n",
       "      <td>-0.189814</td>\n",
       "      <td>-1.233792</td>\n",
       "    </tr>\n",
       "    <tr>\n",
       "      <th>NRAQP</th>\n",
       "      <td>-0.135582</td>\n",
       "      <td>0.867722</td>\n",
       "      <td>-0.840606</td>\n",
       "    </tr>\n",
       "    <tr>\n",
       "      <th>OKJZA</th>\n",
       "      <td>1.382932</td>\n",
       "      <td>-0.772815</td>\n",
       "      <td>-0.054233</td>\n",
       "    </tr>\n",
       "    <tr>\n",
       "      <th>AYEDF</th>\n",
       "      <td>1.220234</td>\n",
       "      <td>0.799931</td>\n",
       "      <td>1.342257</td>\n",
       "    </tr>\n",
       "    <tr>\n",
       "      <th>UYALC</th>\n",
       "      <td>-0.860736</td>\n",
       "      <td>0.677300</td>\n",
       "      <td>-0.663190</td>\n",
       "    </tr>\n",
       "    <tr>\n",
       "      <th>GFQJE</th>\n",
       "      <td>1.396490</td>\n",
       "      <td>0.000000</td>\n",
       "      <td>0.162698</td>\n",
       "    </tr>\n",
       "    <tr>\n",
       "      <th>NBCZF</th>\n",
       "      <td>0.149140</td>\n",
       "      <td>0.271163</td>\n",
       "      <td>-0.366070</td>\n",
       "    </tr>\n",
       "    <tr>\n",
       "      <th>JTVXE</th>\n",
       "      <td>1.185276</td>\n",
       "      <td>1.312269</td>\n",
       "      <td>-0.493865</td>\n",
       "    </tr>\n",
       "    <tr>\n",
       "      <th>...</th>\n",
       "      <td>...</td>\n",
       "      <td>...</td>\n",
       "      <td>...</td>\n",
       "    </tr>\n",
       "    <tr>\n",
       "      <th>XLKXN</th>\n",
       "      <td>-0.352761</td>\n",
       "      <td>-0.663190</td>\n",
       "      <td>-1.072392</td>\n",
       "    </tr>\n",
       "    <tr>\n",
       "      <th>TEBLI</th>\n",
       "      <td>-0.846625</td>\n",
       "      <td>0.423313</td>\n",
       "      <td>0.338650</td>\n",
       "    </tr>\n",
       "    <tr>\n",
       "      <th>NIWTJ</th>\n",
       "      <td>1.477839</td>\n",
       "      <td>0.108465</td>\n",
       "      <td>-1.179559</td>\n",
       "    </tr>\n",
       "    <tr>\n",
       "      <th>DSODA</th>\n",
       "      <td>-1.179559</td>\n",
       "      <td>-0.054233</td>\n",
       "      <td>0.000000</td>\n",
       "    </tr>\n",
       "    <tr>\n",
       "      <th>QNOKM</th>\n",
       "      <td>-1.396490</td>\n",
       "      <td>-0.325396</td>\n",
       "      <td>1.315141</td>\n",
       "    </tr>\n",
       "    <tr>\n",
       "      <th>KCNDR</th>\n",
       "      <td>0.804294</td>\n",
       "      <td>0.973619</td>\n",
       "      <td>0.776073</td>\n",
       "    </tr>\n",
       "    <tr>\n",
       "      <th>TEFGP</th>\n",
       "      <td>-0.451534</td>\n",
       "      <td>0.634969</td>\n",
       "      <td>-0.451534</td>\n",
       "    </tr>\n",
       "    <tr>\n",
       "      <th>KXONF</th>\n",
       "      <td>-0.637233</td>\n",
       "      <td>-1.138885</td>\n",
       "      <td>1.369374</td>\n",
       "    </tr>\n",
       "    <tr>\n",
       "      <th>CYCDF</th>\n",
       "      <td>1.532071</td>\n",
       "      <td>-1.464281</td>\n",
       "      <td>1.694769</td>\n",
       "    </tr>\n",
       "    <tr>\n",
       "      <th>OQLKQ</th>\n",
       "      <td>0.959509</td>\n",
       "      <td>1.707361</td>\n",
       "      <td>0.324540</td>\n",
       "    </tr>\n",
       "    <tr>\n",
       "      <th>GUQPA</th>\n",
       "      <td>-1.439263</td>\n",
       "      <td>1.100613</td>\n",
       "      <td>-0.183435</td>\n",
       "    </tr>\n",
       "    <tr>\n",
       "      <th>ITFQZ</th>\n",
       "      <td>0.366871</td>\n",
       "      <td>-0.056442</td>\n",
       "      <td>-0.366871</td>\n",
       "    </tr>\n",
       "    <tr>\n",
       "      <th>LNFAG</th>\n",
       "      <td>0.310429</td>\n",
       "      <td>-0.945398</td>\n",
       "      <td>1.453374</td>\n",
       "    </tr>\n",
       "    <tr>\n",
       "      <th>MPVHI</th>\n",
       "      <td>0.786373</td>\n",
       "      <td>-0.257605</td>\n",
       "      <td>-1.206676</td>\n",
       "    </tr>\n",
       "    <tr>\n",
       "      <th>SRSWC</th>\n",
       "      <td>0.054233</td>\n",
       "      <td>-1.030420</td>\n",
       "      <td>0.352512</td>\n",
       "    </tr>\n",
       "    <tr>\n",
       "      <th>DMPRF</th>\n",
       "      <td>0.649079</td>\n",
       "      <td>0.649079</td>\n",
       "      <td>0.606748</td>\n",
       "    </tr>\n",
       "    <tr>\n",
       "      <th>DXGAH</th>\n",
       "      <td>0.000000</td>\n",
       "      <td>-1.532071</td>\n",
       "      <td>1.545630</td>\n",
       "    </tr>\n",
       "    <tr>\n",
       "      <th>NQTDN</th>\n",
       "      <td>1.464281</td>\n",
       "      <td>-0.515210</td>\n",
       "      <td>0.393186</td>\n",
       "    </tr>\n",
       "    <tr>\n",
       "      <th>ISJVE</th>\n",
       "      <td>1.396932</td>\n",
       "      <td>-1.072392</td>\n",
       "      <td>-1.439263</td>\n",
       "    </tr>\n",
       "    <tr>\n",
       "      <th>ZNLSJ</th>\n",
       "      <td>1.707361</td>\n",
       "      <td>-0.296319</td>\n",
       "      <td>-1.411042</td>\n",
       "    </tr>\n",
       "    <tr>\n",
       "      <th>ALHRN</th>\n",
       "      <td>0.813489</td>\n",
       "      <td>1.681211</td>\n",
       "      <td>-0.732140</td>\n",
       "    </tr>\n",
       "    <tr>\n",
       "      <th>VMEDO</th>\n",
       "      <td>1.518513</td>\n",
       "      <td>-0.406745</td>\n",
       "      <td>0.135582</td>\n",
       "    </tr>\n",
       "    <tr>\n",
       "      <th>GFYDX</th>\n",
       "      <td>0.921954</td>\n",
       "      <td>0.677908</td>\n",
       "      <td>-1.355815</td>\n",
       "    </tr>\n",
       "    <tr>\n",
       "      <th>NYVHM</th>\n",
       "      <td>1.681211</td>\n",
       "      <td>1.355815</td>\n",
       "      <td>-0.867722</td>\n",
       "    </tr>\n",
       "    <tr>\n",
       "      <th>CJYCG</th>\n",
       "      <td>1.368711</td>\n",
       "      <td>0.451534</td>\n",
       "      <td>1.580367</td>\n",
       "    </tr>\n",
       "    <tr>\n",
       "      <th>BWRPM</th>\n",
       "      <td>-0.691411</td>\n",
       "      <td>0.860736</td>\n",
       "      <td>-1.481594</td>\n",
       "    </tr>\n",
       "    <tr>\n",
       "      <th>GPSUE</th>\n",
       "      <td>0.832515</td>\n",
       "      <td>1.340490</td>\n",
       "      <td>1.072392</td>\n",
       "    </tr>\n",
       "    <tr>\n",
       "      <th>QRPSN</th>\n",
       "      <td>0.637233</td>\n",
       "      <td>-1.152443</td>\n",
       "      <td>-0.447419</td>\n",
       "    </tr>\n",
       "    <tr>\n",
       "      <th>YQQAD</th>\n",
       "      <td>-1.423606</td>\n",
       "      <td>0.827047</td>\n",
       "      <td>0.949071</td>\n",
       "    </tr>\n",
       "    <tr>\n",
       "      <th>PTDQE</th>\n",
       "      <td>-1.138885</td>\n",
       "      <td>0.542326</td>\n",
       "      <td>0.366070</td>\n",
       "    </tr>\n",
       "  </tbody>\n",
       "</table>\n",
       "<p>500 rows × 3 columns</p>\n",
       "</div>"
      ],
      "text/plain": [
       "       Momentum  ShortInterest     Value\n",
       "VTKGN  1.342257       0.813489  0.460977\n",
       "KUHMP -1.626978      -0.474535 -0.067791\n",
       "XNHTQ -0.225767       1.213496  0.169325\n",
       "GXZVX  1.171165       1.650919 -0.719632\n",
       "ISXRM -0.189814       0.352512  0.840606\n",
       "CLPXZ -0.437423       0.818405  0.423313\n",
       "MWGUO  0.244047      -1.260908  1.111769\n",
       "ASKVR  0.366070      -1.003303 -1.518513\n",
       "AMWGI -0.935513      -1.410048 -1.342257\n",
       "WEOGZ  1.450722       1.111769 -1.016862\n",
       "ULCIN  1.599862       0.610117  1.559188\n",
       "YCOSO -0.406745      -0.732140 -1.301583\n",
       "VOZPP  0.230489      -0.759257  1.247350\n",
       "LPKOH  1.504955       1.193118 -0.325396\n",
       "EEPRM  1.100613      -0.239877 -0.804294\n",
       "CTWYV -1.665030      -0.888957 -1.679140\n",
       "XYOKS -0.555884      -1.572746  0.284721\n",
       "HVWXP -1.340490       0.733742  0.931288\n",
       "YPLRZ -1.071094       0.122023  1.382932\n",
       "XUCPM  1.545630       0.244047 -1.098210\n",
       "QVGTD  0.623675      -1.071094 -0.921954\n",
       "FUIVC -0.162698       0.759257  0.908396\n",
       "DSBOX -1.328699      -0.189814 -1.233792\n",
       "NRAQP -0.135582       0.867722 -0.840606\n",
       "OKJZA  1.382932      -0.772815 -0.054233\n",
       "AYEDF  1.220234       0.799931  1.342257\n",
       "UYALC -0.860736       0.677300 -0.663190\n",
       "GFQJE  1.396490       0.000000  0.162698\n",
       "NBCZF  0.149140       0.271163 -0.366070\n",
       "JTVXE  1.185276       1.312269 -0.493865\n",
       "...         ...            ...       ...\n",
       "XLKXN -0.352761      -0.663190 -1.072392\n",
       "TEBLI -0.846625       0.423313  0.338650\n",
       "NIWTJ  1.477839       0.108465 -1.179559\n",
       "DSODA -1.179559      -0.054233  0.000000\n",
       "QNOKM -1.396490      -0.325396  1.315141\n",
       "KCNDR  0.804294       0.973619  0.776073\n",
       "TEFGP -0.451534       0.634969 -0.451534\n",
       "KXONF -0.637233      -1.138885  1.369374\n",
       "CYCDF  1.532071      -1.464281  1.694769\n",
       "OQLKQ  0.959509       1.707361  0.324540\n",
       "GUQPA -1.439263       1.100613 -0.183435\n",
       "ITFQZ  0.366871      -0.056442 -0.366871\n",
       "LNFAG  0.310429      -0.945398  1.453374\n",
       "MPVHI  0.786373      -0.257605 -1.206676\n",
       "SRSWC  0.054233      -1.030420  0.352512\n",
       "DMPRF  0.649079       0.649079  0.606748\n",
       "DXGAH  0.000000      -1.532071  1.545630\n",
       "NQTDN  1.464281      -0.515210  0.393186\n",
       "ISJVE  1.396932      -1.072392 -1.439263\n",
       "ZNLSJ  1.707361      -0.296319 -1.411042\n",
       "ALHRN  0.813489       1.681211 -0.732140\n",
       "VMEDO  1.518513      -0.406745  0.135582\n",
       "GFYDX  0.921954       0.677908 -1.355815\n",
       "NYVHM  1.681211       1.355815 -0.867722\n",
       "CJYCG  1.368711       0.451534  1.580367\n",
       "BWRPM -0.691411       0.860736 -1.481594\n",
       "GPSUE  0.832515       1.340490  1.072392\n",
       "QRPSN  0.637233      -1.152443 -0.447419\n",
       "YQQAD -1.423606       0.827047  0.949071\n",
       "PTDQE -1.138885       0.542326  0.366070\n",
       "\n",
       "[500 rows x 3 columns]"
      ]
     },
     "execution_count": 42,
     "metadata": {},
     "output_type": "execute_result"
    }
   ],
   "source": [
    "# 在股票投资组合的定量分析中，“排名和标准化”是一种常见的变换运算组合\n",
    "# 通过将 rank 和 zscore 连接在一起即可完成整个变换过程\n",
    "by_industry.apply(lambda x: zscore(x.rank()))"
   ]
  },
  {
   "cell_type": "code",
   "execution_count": null,
   "metadata": {
    "collapsed": true
   },
   "outputs": [],
   "source": []
  }
 ],
 "metadata": {
  "kernelspec": {
   "display_name": "Python 2",
   "language": "python",
   "name": "python2"
  },
  "language_info": {
   "codemirror_mode": {
    "name": "ipython",
    "version": 2
   },
   "file_extension": ".py",
   "mimetype": "text/x-python",
   "name": "python",
   "nbconvert_exporter": "python",
   "pygments_lexer": "ipython2",
   "version": "2.7.11"
  }
 },
 "nbformat": 4,
 "nbformat_minor": 2
}
