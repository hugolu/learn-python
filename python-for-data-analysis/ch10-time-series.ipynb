{
 "cells": [
  {
   "cell_type": "markdown",
   "metadata": {
    "deletable": true,
    "editable": true
   },
   "source": [
    "# 时间数列\n",
    "\n",
    "时间序列(time series)数据是一种重要的结构化数据形式。在多个时间点或测量到的任何事物都可以形成一段时间序列。\n",
    "\n",
    "- 很多时间序列是固定频率的 - 数据点根据某种规律定期出现\n",
    "- 时间序列也可以是不定期的\n",
    "\n",
    "时间序列的意义取决于具体的应用场景：\n",
    "\n",
    "- 时间戳（timestamp），特定的时刻\n",
    "- 固定时期（period），如2007年1月或2010年全年\n",
    "- 时间间隔（interval），由起始和结束时间戳表示。时期可以看成间隔的特例\n",
    "- 实验或过程事件，每个时间点都是相对于特定起始时间的一个度量。例如，从放入烤箱开始，每秒每种饼干的直径"
   ]
  },
  {
   "cell_type": "code",
   "execution_count": 1,
   "metadata": {
    "collapsed": false,
    "deletable": true,
    "editable": true
   },
   "outputs": [
    {
     "name": "stdout",
     "output_type": "stream",
     "text": [
      "Populating the interactive namespace from numpy and matplotlib\n"
     ]
    }
   ],
   "source": [
    "%pylab inline\n",
    "\n",
    "import numpy as np\n",
    "from numpy.random import randn\n",
    "\n",
    "import pandas as pd\n",
    "from pandas import Series, DataFrame\n",
    "\n",
    "from datetime import datetime"
   ]
  },
  {
   "cell_type": "markdown",
   "metadata": {
    "deletable": true,
    "editable": true
   },
   "source": [
    "## 日期和时间数据类型及工具"
   ]
  },
  {
   "cell_type": "code",
   "execution_count": 2,
   "metadata": {
    "collapsed": false,
    "deletable": true,
    "editable": true
   },
   "outputs": [],
   "source": [
    "from datetime import datetime, timedelta"
   ]
  },
  {
   "cell_type": "code",
   "execution_count": 3,
   "metadata": {
    "collapsed": false,
    "deletable": true,
    "editable": true
   },
   "outputs": [
    {
     "data": {
      "text/plain": [
       "datetime.datetime(2017, 4, 20, 11, 22, 39, 905577)"
      ]
     },
     "execution_count": 3,
     "metadata": {},
     "output_type": "execute_result"
    }
   ],
   "source": [
    "# datetime 以毫秒形式存储日期和时间\n",
    "now = datetime.now()\n",
    "now"
   ]
  },
  {
   "cell_type": "code",
   "execution_count": 4,
   "metadata": {
    "collapsed": false,
    "deletable": true,
    "editable": true
   },
   "outputs": [
    {
     "data": {
      "text/plain": [
       "(2017, 4, 20, 11, 22, 39, 905577)"
      ]
     },
     "execution_count": 4,
     "metadata": {},
     "output_type": "execute_result"
    }
   ],
   "source": [
    "now.year, now.month, now.day, now.hour, now.minute, now.second, now.microsecond"
   ]
  },
  {
   "cell_type": "code",
   "execution_count": 5,
   "metadata": {
    "collapsed": false,
    "deletable": true,
    "editable": true
   },
   "outputs": [
    {
     "data": {
      "text/plain": [
       "datetime.timedelta(926, 56700)"
      ]
     },
     "execution_count": 5,
     "metadata": {},
     "output_type": "execute_result"
    }
   ],
   "source": [
    "# timedelta 表示两个 datetime 对象之间的时间差\n",
    "delta = datetime(2011, 1, 7) - datetime(2008, 6, 24, 8, 15)\n",
    "delta"
   ]
  },
  {
   "cell_type": "code",
   "execution_count": 6,
   "metadata": {
    "collapsed": false,
    "deletable": true,
    "editable": true
   },
   "outputs": [
    {
     "data": {
      "text/plain": [
       "(926, 56700, 0)"
      ]
     },
     "execution_count": 6,
     "metadata": {},
     "output_type": "execute_result"
    }
   ],
   "source": [
    "delta.days, delta.seconds, delta.microseconds"
   ]
  },
  {
   "cell_type": "code",
   "execution_count": 7,
   "metadata": {
    "collapsed": false,
    "deletable": true,
    "editable": true
   },
   "outputs": [
    {
     "data": {
      "text/plain": [
       "datetime.datetime(2017, 4, 21, 11, 22, 40, 905578)"
      ]
     },
     "execution_count": 7,
     "metadata": {},
     "output_type": "execute_result"
    }
   ],
   "source": [
    "now + timedelta(1,1,1) # days, seconds, microseconds"
   ]
  },
  {
   "cell_type": "markdown",
   "metadata": {
    "deletable": true,
    "editable": true
   },
   "source": [
    "datetime 模块中的数据类型\n",
    "\n",
    "类型 | 说明\n",
    "---|---\n",
    "`date` | 以公历形式存储日历日期（年、月、日）\n",
    "`time` | 将时间存储为时、分、秒、毫秒\n",
    "`datetime` | 存储日期和时间\n",
    "`timedelta` | 表示两个 datetime 值之间的差（日、秒、毫秒）"
   ]
  },
  {
   "cell_type": "markdown",
   "metadata": {
    "deletable": true,
    "editable": true
   },
   "source": [
    "### 字符串和 datetime 的相互转换"
   ]
  },
  {
   "cell_type": "code",
   "execution_count": 8,
   "metadata": {
    "collapsed": false,
    "deletable": true,
    "editable": true
   },
   "outputs": [
    {
     "data": {
      "text/plain": [
       "'2011-01-03'"
      ]
     },
     "execution_count": 8,
     "metadata": {},
     "output_type": "execute_result"
    }
   ],
   "source": [
    "# 字符串转 datetime\n",
    "stamp = datetime(2011, 1, 3)\n",
    "stamp.strftime('%Y-%m-%d')"
   ]
  },
  {
   "cell_type": "code",
   "execution_count": 9,
   "metadata": {
    "collapsed": false,
    "deletable": true,
    "editable": true
   },
   "outputs": [
    {
     "data": {
      "text/plain": [
       "datetime.datetime(2011, 1, 3, 0, 0)"
      ]
     },
     "execution_count": 9,
     "metadata": {},
     "output_type": "execute_result"
    }
   ],
   "source": [
    "# datetime 转字符串\n",
    "value = \"2011-01-03\"\n",
    "datetime.strptime(value,'%Y-%m-%d')"
   ]
  },
  {
   "cell_type": "code",
   "execution_count": 10,
   "metadata": {
    "collapsed": false,
    "deletable": true,
    "editable": true
   },
   "outputs": [
    {
     "data": {
      "text/plain": [
       "datetime.datetime(1997, 1, 31, 22, 45)"
      ]
     },
     "execution_count": 10,
     "metadata": {},
     "output_type": "execute_result"
    }
   ],
   "source": [
    "# dateutil 几乎能解析所有日期形式\n",
    "from dateutil.parser import parse\n",
    "parse('Jan 31, 1997 10:45 PM')"
   ]
  },
  {
   "cell_type": "code",
   "execution_count": 11,
   "metadata": {
    "collapsed": false,
    "deletable": true,
    "editable": true
   },
   "outputs": [
    {
     "data": {
      "text/plain": [
       "DatetimeIndex(['2011-07-06', '2011-08-06'], dtype='datetime64[ns]', freq=None)"
      ]
     },
     "execution_count": 11,
     "metadata": {},
     "output_type": "execute_result"
    }
   ],
   "source": [
    "# pandas 可以解析许多不同的日期表示形式\n",
    "datestrs = ['7/6/2011', '8/6/2011']\n",
    "pd.to_datetime(datestrs)"
   ]
  },
  {
   "cell_type": "markdown",
   "metadata": {
    "deletable": true,
    "editable": true
   },
   "source": [
    "datetime 格式定义\n",
    "\n",
    "代码 | 说明\n",
    "---|---\n",
    "`%Y` | 4位数的年\n",
    "`%y` | 2位数的年\n",
    "`%m` | 2位数的月 [01,12]\n",
    "`%d` | 2位数的日 [01,31]\n",
    "`%H` | 时（24小时制）[00,23]\n",
    "`%I` | 时（12小时制）[01,12]\n",
    "`%M` | 2位数的分[00,59]\n",
    "`%S` | 秒[00,61]，60,61闰秒\n",
    "`%w` | 整数表示的星期几[0(星期日),6]\n",
    "`%U` | 每年的第几周[00,53]，星期日为每周的第一天\n",
    "`%W` | 每年的第几周[00,53]，星期一为每周的第一天\n",
    "`%z` | 以+HHMM或-HHMM表示UTC时区偏移量\n",
    "`%F` | `%Y-%m-%d` 简写形式,如 2012-4-18\n",
    "`%D` | `%m/%d/%y` 简写形式,如 04/18/12"
   ]
  },
  {
   "cell_type": "code",
   "execution_count": 12,
   "metadata": {
    "collapsed": false,
    "deletable": true,
    "editable": true
   },
   "outputs": [
    {
     "data": {
      "text/plain": [
       "'Y: 2017, y: 17, m: 04, d: 20, H: 11, I: 11, M: 22, S: 39, w: 4, U: 16, W: 16, z: , F: 2017-04-20, D: 04/20/17'"
      ]
     },
     "execution_count": 12,
     "metadata": {},
     "output_type": "execute_result"
    }
   ],
   "source": [
    "datetime.strftime(now, 'Y: %Y, y: %y, m: %m, d: %d, H: %H, I: %I, M: %M, S: %S, w: %w, U: %U, W: %W, z: %z, F: %F, D: %D')"
   ]
  },
  {
   "cell_type": "markdown",
   "metadata": {
    "deletable": true,
    "editable": true
   },
   "source": [
    "特定于当前环境的日期格式\n",
    "\n",
    "代码 | 说明\n",
    "---|---\n",
    "`%a` | 星期几简写\n",
    "`%A` | 星期几全写\n",
    "`%b` | 月份简写\n",
    "`%B` | 月份全写\n",
    "`%c` | 完整的日期与时间\n",
    "`%p` | 不同环境的 AM/PM\n",
    "`%x` | 适合于当前环境的日期格式\n",
    "`%X` | 适合于当前环境的时间格式"
   ]
  },
  {
   "cell_type": "code",
   "execution_count": 13,
   "metadata": {
    "collapsed": false,
    "deletable": true,
    "editable": true
   },
   "outputs": [
    {
     "data": {
      "text/plain": [
       "'a: Thu, A: Thursday, b: Apr, B: April, c: Thu Apr 20 11:22:39 2017, p: AM, x: 04/20/17, X: 11:22:39'"
      ]
     },
     "execution_count": 13,
     "metadata": {},
     "output_type": "execute_result"
    }
   ],
   "source": [
    "datetime.strftime(now, \"a: %a, A: %A, b: %b, B: %B, c: %c, p: %p, x: %x, X: %X\")"
   ]
  },
  {
   "cell_type": "markdown",
   "metadata": {
    "deletable": true,
    "editable": true
   },
   "source": [
    "## 时间序列基础"
   ]
  },
  {
   "cell_type": "code",
   "execution_count": 14,
   "metadata": {
    "collapsed": false,
    "deletable": true,
    "editable": true
   },
   "outputs": [
    {
     "data": {
      "text/plain": [
       "2011-01-02    0\n",
       "2011-01-05    1\n",
       "2011-01-07    2\n",
       "2011-01-08    3\n",
       "2011-01-10    4\n",
       "2011-01-12    5\n",
       "dtype: int64"
      ]
     },
     "execution_count": 14,
     "metadata": {},
     "output_type": "execute_result"
    }
   ],
   "source": [
    "dates = [\n",
    "    datetime(2011,1,2),\n",
    "    datetime(2011,1,5),\n",
    "    datetime(2011,1,7),\n",
    "    datetime(2011,1,8),\n",
    "    datetime(2011,1,10),\n",
    "    datetime(2011,1,12)]\n",
    "\n",
    "ts = Series(np.arange(6), index=dates)\n",
    "ts"
   ]
  },
  {
   "cell_type": "code",
   "execution_count": 15,
   "metadata": {
    "collapsed": false,
    "deletable": true,
    "editable": true
   },
   "outputs": [
    {
     "data": {
      "text/plain": [
       "DatetimeIndex(['2011-01-02', '2011-01-05', '2011-01-07', '2011-01-08',\n",
       "               '2011-01-10', '2011-01-12'],\n",
       "              dtype='datetime64[ns]', freq=None)"
      ]
     },
     "execution_count": 15,
     "metadata": {},
     "output_type": "execute_result"
    }
   ],
   "source": [
    "# datatime 对象被放在 DatetimeIndex\n",
    "ts.index"
   ]
  },
  {
   "cell_type": "code",
   "execution_count": 16,
   "metadata": {
    "collapsed": false,
    "deletable": true,
    "editable": true
   },
   "outputs": [
    {
     "data": {
      "text/plain": [
       "2011-01-02    0.0\n",
       "2011-01-05    NaN\n",
       "2011-01-07    4.0\n",
       "2011-01-08    NaN\n",
       "2011-01-10    8.0\n",
       "2011-01-12    NaN\n",
       "dtype: float64"
      ]
     },
     "execution_count": 16,
     "metadata": {},
     "output_type": "execute_result"
    }
   ],
   "source": [
    "# 不同索引的时间序列之间的算术运算会自动按日期对齐\n",
    "ts + ts[::2]"
   ]
  },
  {
   "cell_type": "code",
   "execution_count": 17,
   "metadata": {
    "collapsed": false,
    "deletable": true,
    "editable": true
   },
   "outputs": [
    {
     "data": {
      "text/plain": [
       "Timestamp('2011-01-02 00:00:00')"
      ]
     },
     "execution_count": 17,
     "metadata": {},
     "output_type": "execute_result"
    }
   ],
   "source": [
    "# DatetimeIndex 中的各个标量值是 timestamp(视需要自动转换为datetime对象)\n",
    "ts.index[0]"
   ]
  },
  {
   "cell_type": "markdown",
   "metadata": {
    "deletable": true,
    "editable": true
   },
   "source": [
    "### 索引、选取、子集构造"
   ]
  },
  {
   "cell_type": "code",
   "execution_count": 18,
   "metadata": {
    "collapsed": false,
    "deletable": true,
    "editable": true
   },
   "outputs": [
    {
     "data": {
      "text/plain": [
       "Timestamp('2011-01-07 00:00:00')"
      ]
     },
     "execution_count": 18,
     "metadata": {},
     "output_type": "execute_result"
    }
   ],
   "source": [
    "# index\n",
    "stamp = ts.index[2]\n",
    "stamp"
   ]
  },
  {
   "cell_type": "code",
   "execution_count": 19,
   "metadata": {
    "collapsed": false,
    "deletable": true,
    "editable": true
   },
   "outputs": [
    {
     "data": {
      "text/plain": [
       "2"
      ]
     },
     "execution_count": 19,
     "metadata": {},
     "output_type": "execute_result"
    }
   ],
   "source": [
    "# select by timestamp\n",
    "ts[stamp]"
   ]
  },
  {
   "cell_type": "code",
   "execution_count": 20,
   "metadata": {
    "collapsed": false,
    "deletable": true,
    "editable": true
   },
   "outputs": [
    {
     "data": {
      "text/plain": [
       "(2, 2)"
      ]
     },
     "execution_count": 20,
     "metadata": {},
     "output_type": "execute_result"
    }
   ],
   "source": [
    "# select by time-formated string\n",
    "ts['1/7/2011'], ts['20110107']"
   ]
  },
  {
   "cell_type": "code",
   "execution_count": 21,
   "metadata": {
    "collapsed": false,
    "deletable": true,
    "editable": true
   },
   "outputs": [
    {
     "data": {
      "text/plain": [
       "2000-01-01    0\n",
       "2000-01-02    1\n",
       "2000-01-03    2\n",
       "2000-01-04    3\n",
       "2000-01-05    4\n",
       "Freq: D, dtype: int64"
      ]
     },
     "execution_count": 21,
     "metadata": {},
     "output_type": "execute_result"
    }
   ],
   "source": [
    "# 较长的时间序列（freq=day）\n",
    "lts = Series(np.arange(1000), index=pd.date_range('1/1/2000', periods=1000))\n",
    "lts.head()"
   ]
  },
  {
   "cell_type": "code",
   "execution_count": 22,
   "metadata": {
    "collapsed": false,
    "deletable": true,
    "editable": true
   },
   "outputs": [
    {
     "data": {
      "text/plain": [
       "365"
      ]
     },
     "execution_count": 22,
     "metadata": {},
     "output_type": "execute_result"
    }
   ],
   "source": [
    "# 选取”年”范围\n",
    "len(lts['2001'])"
   ]
  },
  {
   "cell_type": "code",
   "execution_count": 23,
   "metadata": {
    "collapsed": false,
    "deletable": true,
    "editable": true
   },
   "outputs": [
    {
     "data": {
      "text/plain": [
       "31"
      ]
     },
     "execution_count": 23,
     "metadata": {},
     "output_type": "execute_result"
    }
   ],
   "source": [
    "# 选取“月”范围\n",
    "len(lts['2001-05'])"
   ]
  },
  {
   "cell_type": "code",
   "execution_count": 24,
   "metadata": {
    "collapsed": false,
    "deletable": true,
    "editable": true
   },
   "outputs": [
    {
     "data": {
      "text/plain": [
       "61"
      ]
     },
     "execution_count": 24,
     "metadata": {},
     "output_type": "execute_result"
    }
   ],
   "source": [
    "# 切片选取\n",
    "len(lts['2001-05':'2001-06'])"
   ]
  },
  {
   "cell_type": "code",
   "execution_count": 25,
   "metadata": {
    "collapsed": false,
    "deletable": true,
    "editable": true
   },
   "outputs": [
    {
     "data": {
      "text/plain": [
       "61"
      ]
     },
     "execution_count": 25,
     "metadata": {},
     "output_type": "execute_result"
    }
   ],
   "source": [
    "# 切片选取\n",
    "len(lts['20010501':'20010630'])"
   ]
  },
  {
   "cell_type": "code",
   "execution_count": 26,
   "metadata": {
    "collapsed": false,
    "deletable": true,
    "editable": true
   },
   "outputs": [
    {
     "data": {
      "text/plain": [
       "61"
      ]
     },
     "execution_count": 26,
     "metadata": {},
     "output_type": "execute_result"
    }
   ],
   "source": [
    "# 切片选取\n",
    "len(lts[datetime(2001,5,1):datetime(2001,6,30)])"
   ]
  },
  {
   "cell_type": "code",
   "execution_count": 27,
   "metadata": {
    "collapsed": false,
    "deletable": true,
    "editable": true
   },
   "outputs": [
    {
     "data": {
      "text/html": [
       "<div>\n",
       "<table border=\"1\" class=\"dataframe\">\n",
       "  <thead>\n",
       "    <tr style=\"text-align: right;\">\n",
       "      <th></th>\n",
       "      <th>A</th>\n",
       "      <th>B</th>\n",
       "      <th>C</th>\n",
       "      <th>D</th>\n",
       "    </tr>\n",
       "  </thead>\n",
       "  <tbody>\n",
       "    <tr>\n",
       "      <th>2001-05-02</th>\n",
       "      <td>276</td>\n",
       "      <td>277</td>\n",
       "      <td>278</td>\n",
       "      <td>279</td>\n",
       "    </tr>\n",
       "    <tr>\n",
       "      <th>2001-05-09</th>\n",
       "      <td>280</td>\n",
       "      <td>281</td>\n",
       "      <td>282</td>\n",
       "      <td>283</td>\n",
       "    </tr>\n",
       "    <tr>\n",
       "      <th>2001-05-16</th>\n",
       "      <td>284</td>\n",
       "      <td>285</td>\n",
       "      <td>286</td>\n",
       "      <td>287</td>\n",
       "    </tr>\n",
       "    <tr>\n",
       "      <th>2001-05-23</th>\n",
       "      <td>288</td>\n",
       "      <td>289</td>\n",
       "      <td>290</td>\n",
       "      <td>291</td>\n",
       "    </tr>\n",
       "    <tr>\n",
       "      <th>2001-05-30</th>\n",
       "      <td>292</td>\n",
       "      <td>293</td>\n",
       "      <td>294</td>\n",
       "      <td>295</td>\n",
       "    </tr>\n",
       "  </tbody>\n",
       "</table>\n",
       "</div>"
      ],
      "text/plain": [
       "              A    B    C    D\n",
       "2001-05-02  276  277  278  279\n",
       "2001-05-09  280  281  282  283\n",
       "2001-05-16  284  285  286  287\n",
       "2001-05-23  288  289  290  291\n",
       "2001-05-30  292  293  294  295"
      ]
     },
     "execution_count": 27,
     "metadata": {},
     "output_type": "execute_result"
    }
   ],
   "source": [
    "# 对 DataFrame 根据时间进行切片\n",
    "long_df = DataFrame(\n",
    "    np.arange(400).reshape((100,4)),\n",
    "    index = pd.date_range('1/1/2000', periods=100, freq='W-WED'),\n",
    "    columns = ['A', 'B', 'C', 'D']\n",
    ")\n",
    "long_df.ix['2001-05']"
   ]
  },
  {
   "cell_type": "markdown",
   "metadata": {
    "deletable": true,
    "editable": true
   },
   "source": [
    "### 带有重复索引的时间序列"
   ]
  },
  {
   "cell_type": "code",
   "execution_count": 28,
   "metadata": {
    "collapsed": false,
    "deletable": true,
    "editable": true
   },
   "outputs": [
    {
     "data": {
      "text/plain": [
       "2000-01-01    0\n",
       "2000-01-02    1\n",
       "2000-01-02    2\n",
       "2000-01-02    3\n",
       "2000-01-03    4\n",
       "dtype: int64"
      ]
     },
     "execution_count": 28,
     "metadata": {},
     "output_type": "execute_result"
    }
   ],
   "source": [
    "dates = pd.DatetimeIndex([\n",
    "    '1/1/2000', '1/2/2000', '1/2/2000', '1/2/2000', '1/3/2000'\n",
    "])\n",
    "\n",
    "dup_ts = Series(np.arange(5), index=dates)\n",
    "dup_ts"
   ]
  },
  {
   "cell_type": "code",
   "execution_count": 29,
   "metadata": {
    "collapsed": false,
    "deletable": true,
    "editable": true
   },
   "outputs": [
    {
     "data": {
      "text/plain": [
       "0"
      ]
     },
     "execution_count": 29,
     "metadata": {},
     "output_type": "execute_result"
    }
   ],
   "source": [
    "dup_ts['20000101']"
   ]
  },
  {
   "cell_type": "code",
   "execution_count": 30,
   "metadata": {
    "collapsed": false,
    "deletable": true,
    "editable": true
   },
   "outputs": [
    {
     "data": {
      "text/plain": [
       "2000-01-02    1\n",
       "2000-01-02    2\n",
       "2000-01-02    3\n",
       "dtype: int64"
      ]
     },
     "execution_count": 30,
     "metadata": {},
     "output_type": "execute_result"
    }
   ],
   "source": [
    "dup_ts['20000102']"
   ]
  },
  {
   "cell_type": "code",
   "execution_count": 31,
   "metadata": {
    "collapsed": false,
    "deletable": true,
    "editable": true
   },
   "outputs": [
    {
     "data": {
      "text/plain": [
       "2000-01-01    0\n",
       "2000-01-02    2\n",
       "2000-01-03    4\n",
       "dtype: int64"
      ]
     },
     "execution_count": 31,
     "metadata": {},
     "output_type": "execute_result"
    }
   ],
   "source": [
    "# 对具有非唯一时间戳的数据进行聚合\n",
    "dup_ts.groupby(level=0).mean()"
   ]
  },
  {
   "cell_type": "code",
   "execution_count": 32,
   "metadata": {
    "collapsed": false,
    "deletable": true,
    "editable": true
   },
   "outputs": [
    {
     "data": {
      "text/plain": [
       "2000-01-01    0\n",
       "2000-01-02    2\n",
       "2000-01-03    4\n",
       "dtype: int64"
      ]
     },
     "execution_count": 32,
     "metadata": {},
     "output_type": "execute_result"
    }
   ],
   "source": [
    "dup_ts.groupby(dup_ts.index).mean()"
   ]
  },
  {
   "cell_type": "markdown",
   "metadata": {
    "deletable": true,
    "editable": true
   },
   "source": [
    "## 日期的范围、频率以及移动\n",
    "\n",
    "pandas 的时间序列一般被认为是不规则的，没有固定频率，所以常常需要以某种相对固定的频率进行分析，比如每日、每月、每15分钟等。\n",
    "\n",
    "pandas 有一套标准的时间序列频率以及由于重采样、频率推断、生成固定频率日期范围的工具。"
   ]
  },
  {
   "cell_type": "code",
   "execution_count": 33,
   "metadata": {
    "collapsed": false,
    "deletable": true,
    "editable": true
   },
   "outputs": [
    {
     "data": {
      "text/plain": [
       "2011-01-02    0\n",
       "2011-01-05    1\n",
       "2011-01-07    2\n",
       "2011-01-08    3\n",
       "2011-01-10    4\n",
       "2011-01-12    5\n",
       "dtype: int64"
      ]
     },
     "execution_count": 33,
     "metadata": {},
     "output_type": "execute_result"
    }
   ],
   "source": [
    "ts"
   ]
  },
  {
   "cell_type": "code",
   "execution_count": 34,
   "metadata": {
    "collapsed": false,
    "deletable": true,
    "editable": true
   },
   "outputs": [
    {
     "data": {
      "text/plain": [
       "2011-01-02    0\n",
       "2011-01-03    0\n",
       "2011-01-04    0\n",
       "2011-01-05    1\n",
       "2011-01-06    1\n",
       "2011-01-07    2\n",
       "2011-01-08    3\n",
       "2011-01-09    3\n",
       "2011-01-10    4\n",
       "2011-01-11    4\n",
       "2011-01-12    5\n",
       "Freq: D, dtype: int64"
      ]
     },
     "execution_count": 34,
     "metadata": {},
     "output_type": "execute_result"
    }
   ],
   "source": [
    "# 重采样\n",
    "ts.resample('D').ffill()"
   ]
  },
  {
   "cell_type": "markdown",
   "metadata": {
    "deletable": true,
    "editable": true
   },
   "source": [
    "### 生成日期范围\n",
    "\n",
    "使用 pandas.date_range 生成指定长度的 DatetimeIndex"
   ]
  },
  {
   "cell_type": "code",
   "execution_count": 35,
   "metadata": {
    "collapsed": false,
    "deletable": true,
    "editable": true
   },
   "outputs": [
    {
     "data": {
      "text/plain": [
       "DatetimeIndex(['2000-01-01', '2000-01-02', '2000-01-03', '2000-01-04',\n",
       "               '2000-01-05'],\n",
       "              dtype='datetime64[ns]', freq='D')"
      ]
     },
     "execution_count": 35,
     "metadata": {},
     "output_type": "execute_result"
    }
   ],
   "source": [
    "# 给起始、结束日期\n",
    "pd.date_range('1/1/2000', '1/5/2000')"
   ]
  },
  {
   "cell_type": "code",
   "execution_count": 36,
   "metadata": {
    "collapsed": false,
    "deletable": true,
    "editable": true
   },
   "outputs": [
    {
     "data": {
      "text/plain": [
       "DatetimeIndex(['2000-01-01', '2000-01-02', '2000-01-03', '2000-01-04',\n",
       "               '2000-01-05'],\n",
       "              dtype='datetime64[ns]', freq=None)"
      ]
     },
     "execution_count": 36,
     "metadata": {},
     "output_type": "execute_result"
    }
   ],
   "source": [
    "# DatetimeIndex 包含一组 datetime 的时间\"点\"\n",
    "from datetime import datetime\n",
    "pd.DatetimeIndex([datetime(2000,1,1),\n",
    "                  datetime(2000,1,2),\n",
    "                  datetime(2000,1,3),\n",
    "                  datetime(2000,1,4),\n",
    "                  datetime(2000,1,5)])"
   ]
  },
  {
   "cell_type": "code",
   "execution_count": 37,
   "metadata": {
    "collapsed": false,
    "deletable": true,
    "editable": true
   },
   "outputs": [
    {
     "data": {
      "text/plain": [
       "DatetimeIndex(['2000-01-01', '2000-01-02', '2000-01-03', '2000-01-04',\n",
       "               '2000-01-05'],\n",
       "              dtype='datetime64[ns]', freq='D')"
      ]
     },
     "execution_count": 37,
     "metadata": {},
     "output_type": "execute_result"
    }
   ],
   "source": [
    "# 给表示一段时间的数字 periods\n",
    "pd.date_range('1/1/2000', periods=5)"
   ]
  },
  {
   "cell_type": "code",
   "execution_count": 38,
   "metadata": {
    "collapsed": false,
    "deletable": true,
    "editable": true
   },
   "outputs": [
    {
     "data": {
      "text/plain": [
       "DatetimeIndex(['2000-01-31', '2000-02-29', '2000-03-31', '2000-04-28',\n",
       "               '2000-05-31'],\n",
       "              dtype='datetime64[ns]', freq='BM')"
      ]
     },
     "execution_count": 38,
     "metadata": {},
     "output_type": "execute_result"
    }
   ],
   "source": [
    "# 给定频率 freq\n",
    "pd.date_range('1/1/2000', periods=5, freq='BM')"
   ]
  },
  {
   "cell_type": "code",
   "execution_count": 39,
   "metadata": {
    "collapsed": false,
    "deletable": true,
    "editable": true
   },
   "outputs": [
    {
     "data": {
      "text/plain": [
       "DatetimeIndex(['2012-05-02 12:23:56', '2012-05-03 12:23:56',\n",
       "               '2012-05-04 12:23:56', '2012-05-05 12:23:56',\n",
       "               '2012-05-06 12:23:56'],\n",
       "              dtype='datetime64[ns]', freq='D')"
      ]
     },
     "execution_count": 39,
     "metadata": {},
     "output_type": "execute_result"
    }
   ],
   "source": [
    "# date_range预设保留时间信息\n",
    "pd.date_range('5/2/2012 12:23:56', periods=5)"
   ]
  },
  {
   "cell_type": "code",
   "execution_count": 40,
   "metadata": {
    "collapsed": false,
    "deletable": true,
    "editable": true
   },
   "outputs": [
    {
     "data": {
      "text/plain": [
       "DatetimeIndex(['2012-05-02', '2012-05-03', '2012-05-04', '2012-05-05',\n",
       "               '2012-05-06'],\n",
       "              dtype='datetime64[ns]', freq='D')"
      ]
     },
     "execution_count": 40,
     "metadata": {},
     "output_type": "execute_result"
    }
   ],
   "source": [
    "# normalize 规范化日期到午夜的时间戳\n",
    "pd.date_range('5/2/2012 12:23:56', periods=5, normalize=True)"
   ]
  },
  {
   "cell_type": "markdown",
   "metadata": {
    "deletable": true,
    "editable": true
   },
   "source": [
    "### 频率和日期偏移量\n",
    "\n",
    "pasdas 的频率 = 基础频率（base frequency）x 乘数\n",
    "- 基础频率：\"M\"表示月，\"H\"表示小时\n",
    "- 每个基础频率都有一个日期偏移量（date offset）的对象与之对应"
   ]
  },
  {
   "cell_type": "code",
   "execution_count": 41,
   "metadata": {
    "collapsed": false,
    "deletable": true,
    "editable": true
   },
   "outputs": [],
   "source": [
    "from pandas.tseries.offsets import Hour, Minute\n",
    "freq = Hour(5) + Minute(30)"
   ]
  },
  {
   "cell_type": "code",
   "execution_count": 42,
   "metadata": {
    "collapsed": false,
    "deletable": true,
    "editable": true
   },
   "outputs": [
    {
     "data": {
      "text/plain": [
       "DatetimeIndex(['2000-01-01 00:00:00', '2000-01-01 05:30:00',\n",
       "               '2000-01-01 11:00:00', '2000-01-01 16:30:00'],\n",
       "              dtype='datetime64[ns]', freq='330T')"
      ]
     },
     "execution_count": 42,
     "metadata": {},
     "output_type": "execute_result"
    }
   ],
   "source": [
    "pd.date_range('1/1/2000', periods=4, freq=freq)"
   ]
  },
  {
   "cell_type": "code",
   "execution_count": 43,
   "metadata": {
    "collapsed": false,
    "deletable": true,
    "editable": true
   },
   "outputs": [
    {
     "data": {
      "text/plain": [
       "DatetimeIndex(['2000-01-01 00:00:00', '2000-01-01 05:30:00',\n",
       "               '2000-01-01 11:00:00', '2000-01-01 16:30:00'],\n",
       "              dtype='datetime64[ns]', freq='330T')"
      ]
     },
     "execution_count": 43,
     "metadata": {},
     "output_type": "execute_result"
    }
   ],
   "source": [
    "pd.date_range('1/1/2000', periods=4, freq='5h30min')"
   ]
  },
  {
   "cell_type": "code",
   "execution_count": 44,
   "metadata": {
    "collapsed": false,
    "deletable": true,
    "editable": true
   },
   "outputs": [
    {
     "data": {
      "text/plain": [
       "array([u'5', u'5', u'5', u'5'], \n",
       "      dtype='<U1')"
      ]
     },
     "execution_count": 44,
     "metadata": {},
     "output_type": "execute_result"
    }
   ],
   "source": [
    "dates = pd.date_range('1/1/2000', periods=4, freq='WOM-3FRI')\n",
    "dates.strftime('%w')"
   ]
  },
  {
   "cell_type": "markdown",
   "metadata": {
    "deletable": true,
    "editable": true
   },
   "source": [
    "时间序列的基础频率\n",
    "\n",
    "别名 | 偏移量类型 | 说明\n",
    "---|---|---\n",
    "`D`                   | Day                  | 每日历日\n",
    "`B`                   | BusinessDay          | 每工作日\n",
    "`H`                   | Hour                 | 每小时\n",
    "`T`,`min`             | Minute               | 每分钟\n",
    "`S`                   | Second               | 每秒\n",
    "`L`,`ms`              | Milli                | 每毫秒 (1s/1000)\n",
    "`U`                   | Micro                | 每微秒 (1s/1000,000)\n",
    "`M`                   | MonthEnd             | 每月最末个日历日\n",
    "`BM`                  | BusinessMonthEnd     | 每月最末个工作日\n",
    "`MS`                  | MonthBegin           | 每月第一个日历日\n",
    "`BMS`                 | BusinessMonthBegin   | 每月第一个工作日\n",
    "`W-MON`,`W-TUE`       | WeekDay              | 每周的星期几\n",
    "`WOM-1MON`,`WOM-2MON` | WeekOfMonth          | 每月的第几个星期\n",
    "`Q-JAN`,`Q-FEB`       | QuarterEnd           | 每季最后一月最末个日历日\n",
    "`BQ-JAN`,`BQ-FEB`     | BusinessQuarterEnd   | 每季最后一月最末个工作日\n",
    "`QS-JAN`,`QS-FEB`     | QuarterBegin         | 每季最后一月第一个日历日\n",
    "`BQS-JAN`,`BQS-FEB`   | BusinessQuarterBegin | 每季最后一月第一个工作日\n",
    "`A-JAN`,`A-FEB`       | YearEnd              | 每年最后一月最末个日历日\n",
    "`BA-JAN`,`BA-FEB`     | BusinessYearEnd      | 每年最后一月最末个工作日\n",
    "`AS-JAN`,`AS-FEB`     | YearBegin            | 每年最后一月第一个日历日\n",
    "`BAS-JAN`,`BAS-FEB`   | BusinessYearBegin    | 每年最后一月第一个工作日\n",
    "\n",
    "公式：[日历日、工作日][周期][开始、结束]-[指定时间]\n",
    "- 日历日(_)、工作日(B)\n",
    "- 周期: 周(W)、月(M)、每月周(WOM)、季(Q)、年(A)\n",
    "- 开始(S)、结束(_)"
   ]
  },
  {
   "cell_type": "code",
   "execution_count": 45,
   "metadata": {
    "collapsed": false,
    "deletable": true,
    "editable": true
   },
   "outputs": [
    {
     "name": "stdout",
     "output_type": "stream",
     "text": [
      "DatetimeIndex(['2017-01-01', '2017-01-02'], dtype='datetime64[ns]', freq='D')\n",
      "DatetimeIndex(['2017-01-02', '2017-01-03'], dtype='datetime64[ns]', freq='B')\n"
     ]
    }
   ],
   "source": [
    "start='2017/1/1'\n",
    "print pd.date_range(start=start, periods=2, freq='D')\n",
    "print pd.date_range(start=start, periods=2, freq='B')"
   ]
  },
  {
   "cell_type": "code",
   "execution_count": 46,
   "metadata": {
    "collapsed": false,
    "deletable": true,
    "editable": true
   },
   "outputs": [
    {
     "name": "stdout",
     "output_type": "stream",
     "text": [
      "DatetimeIndex(['2017-01-01 00:00:00', '2017-01-01 01:00:00'], dtype='datetime64[ns]', freq='H')\n",
      "DatetimeIndex(['2017-01-01 00:00:00', '2017-01-01 00:01:00'], dtype='datetime64[ns]', freq='T')\n",
      "DatetimeIndex(['2017-01-01 00:00:00', '2017-01-01 00:00:01'], dtype='datetime64[ns]', freq='S')\n",
      "DatetimeIndex(['2017-01-01 00:00:00', '2017-01-01 00:00:00.001000'], dtype='datetime64[ns]', freq='L')\n",
      "DatetimeIndex(['2017-01-01 00:00:00', '2017-01-01 00:00:00.000001'], dtype='datetime64[ns]', freq='U')\n"
     ]
    }
   ],
   "source": [
    "start='2017/1/1'\n",
    "print pd.date_range(start=start, periods=2, freq='H')\n",
    "print pd.date_range(start=start, periods=2, freq='T')\n",
    "print pd.date_range(start=start, periods=2, freq='S')\n",
    "print pd.date_range(start=start, periods=2, freq='L')\n",
    "print pd.date_range(start=start, periods=2, freq='U')"
   ]
  },
  {
   "cell_type": "code",
   "execution_count": 47,
   "metadata": {
    "collapsed": false,
    "deletable": true,
    "editable": true
   },
   "outputs": [
    {
     "name": "stdout",
     "output_type": "stream",
     "text": [
      "DatetimeIndex(['2015-01-31', '2015-02-28'], dtype='datetime64[ns]', freq='M')\n",
      "DatetimeIndex(['2015-01-30', '2015-02-27'], dtype='datetime64[ns]', freq='BM')\n",
      "DatetimeIndex(['2015-01-01', '2015-02-01'], dtype='datetime64[ns]', freq='MS')\n",
      "DatetimeIndex(['2015-01-01', '2015-02-02'], dtype='datetime64[ns]', freq='BMS')\n"
     ]
    }
   ],
   "source": [
    "start='2015/1/1'\n",
    "print pd.date_range(start=start, periods=2, freq='M')\n",
    "print pd.date_range(start=start, periods=2, freq='BM')\n",
    "print pd.date_range(start=start, periods=2, freq='MS')\n",
    "print pd.date_range(start=start, periods=2, freq='BMS')"
   ]
  },
  {
   "cell_type": "code",
   "execution_count": 48,
   "metadata": {
    "collapsed": false,
    "deletable": true,
    "editable": true
   },
   "outputs": [
    {
     "name": "stdout",
     "output_type": "stream",
     "text": [
      "DatetimeIndex(['2015-01-02', '2015-01-09'], dtype='datetime64[ns]', freq='W-FRI')\n",
      "DatetimeIndex(['2015-01-16', '2015-02-20'], dtype='datetime64[ns]', freq='WOM-3FRI')\n"
     ]
    }
   ],
   "source": [
    "start='2015/1/1'\n",
    "print pd.date_range(start=start, periods=2, freq='W-FRI')\n",
    "print pd.date_range(start=start, periods=2, freq='WOM-3FRI')"
   ]
  },
  {
   "cell_type": "code",
   "execution_count": 49,
   "metadata": {
    "collapsed": false,
    "deletable": true,
    "editable": true
   },
   "outputs": [
    {
     "name": "stdout",
     "output_type": "stream",
     "text": [
      "DatetimeIndex(['2015-01-31', '2015-04-30'], dtype='datetime64[ns]', freq='Q-JAN')\n",
      "DatetimeIndex(['2015-01-30', '2015-04-30'], dtype='datetime64[ns]', freq='BQ-JAN')\n",
      "DatetimeIndex(['2017-01-01', '2017-04-01'], dtype='datetime64[ns]', freq='QS-JAN')\n",
      "DatetimeIndex(['2017-01-02', '2017-04-03'], dtype='datetime64[ns]', freq='BQS-JAN')\n"
     ]
    }
   ],
   "source": [
    "start='2015/1/1'\n",
    "print pd.date_range(start=start, periods=2, freq='Q-JAN')\n",
    "print pd.date_range(start=start, periods=2, freq='BQ-JAN')\n",
    "start='2017/1/1'\n",
    "print pd.date_range(start=start, periods=2, freq='QS-JAN')\n",
    "print pd.date_range(start=start, periods=2, freq='BQS-JAN')"
   ]
  },
  {
   "cell_type": "code",
   "execution_count": 50,
   "metadata": {
    "collapsed": false,
    "deletable": true,
    "editable": true
   },
   "outputs": [
    {
     "name": "stdout",
     "output_type": "stream",
     "text": [
      "DatetimeIndex(['2015-01-31', '2016-01-31'], dtype='datetime64[ns]', freq='A-JAN')\n",
      "DatetimeIndex(['2015-01-30', '2016-01-29'], dtype='datetime64[ns]', freq='BA-JAN')\n",
      "DatetimeIndex(['2017-01-01', '2018-01-01'], dtype='datetime64[ns]', freq='AS-JAN')\n",
      "DatetimeIndex(['2017-01-02', '2018-01-01'], dtype='datetime64[ns]', freq='BAS-JAN')\n"
     ]
    }
   ],
   "source": [
    "start='2015/1/1'\n",
    "print pd.date_range(start=start, periods=2, freq='A-JAN')\n",
    "print pd.date_range(start=start, periods=2, freq='BA-JAN')\n",
    "start='2017/1/1'\n",
    "print pd.date_range(start=start, periods=2, freq='AS-JAN')\n",
    "print pd.date_range(start=start, periods=2, freq='BAS-JAN')"
   ]
  },
  {
   "cell_type": "markdown",
   "metadata": {
    "deletable": true,
    "editable": true
   },
   "source": [
    "### 移动（超前、滞后）数据\n",
    "\n",
    "shift 指的是沿着时间轴将数据前移或后移。执行单纯前移或后移操作，保持索引不变。"
   ]
  },
  {
   "cell_type": "code",
   "execution_count": 51,
   "metadata": {
    "collapsed": false,
    "deletable": true,
    "editable": true
   },
   "outputs": [
    {
     "data": {
      "text/plain": [
       "2000-01-31    1\n",
       "2000-02-29    2\n",
       "2000-03-31    3\n",
       "2000-04-30    4\n",
       "Freq: M, dtype: int64"
      ]
     },
     "execution_count": 51,
     "metadata": {},
     "output_type": "execute_result"
    }
   ],
   "source": [
    "ts = Series(np.arange(4)+1, index=pd.date_range('1/1/2000', periods=4, freq='M'))\n",
    "ts"
   ]
  },
  {
   "cell_type": "code",
   "execution_count": 52,
   "metadata": {
    "collapsed": false,
    "deletable": true,
    "editable": true
   },
   "outputs": [
    {
     "data": {
      "text/plain": [
       "2000-01-31    NaN\n",
       "2000-02-29    1.0\n",
       "2000-03-31    2.0\n",
       "2000-04-30    3.0\n",
       "Freq: M, dtype: float64"
      ]
     },
     "execution_count": 52,
     "metadata": {},
     "output_type": "execute_result"
    }
   ],
   "source": [
    "ts.shift(1)"
   ]
  },
  {
   "cell_type": "code",
   "execution_count": 53,
   "metadata": {
    "collapsed": false,
    "deletable": true,
    "editable": true
   },
   "outputs": [
    {
     "data": {
      "text/plain": [
       "2000-02-03    1\n",
       "2000-03-03    2\n",
       "2000-04-03    3\n",
       "2000-05-03    4\n",
       "dtype: int64"
      ]
     },
     "execution_count": 53,
     "metadata": {},
     "output_type": "execute_result"
    }
   ],
   "source": [
    "ts.shift(3, freq='D')"
   ]
  },
  {
   "cell_type": "code",
   "execution_count": 54,
   "metadata": {
    "collapsed": false,
    "deletable": true,
    "editable": true
   },
   "outputs": [
    {
     "data": {
      "text/plain": [
       "2000-02-03    1\n",
       "2000-03-03    2\n",
       "2000-04-03    3\n",
       "2000-05-03    4\n",
       "dtype: int64"
      ]
     },
     "execution_count": 54,
     "metadata": {},
     "output_type": "execute_result"
    }
   ],
   "source": [
    "ts.shift(1, freq='3D')"
   ]
  },
  {
   "cell_type": "code",
   "execution_count": 55,
   "metadata": {
    "collapsed": false,
    "deletable": true,
    "editable": true
   },
   "outputs": [
    {
     "data": {
      "text/plain": [
       "2000-01-31 01:30:00    1\n",
       "2000-02-29 01:30:00    2\n",
       "2000-03-31 01:30:00    3\n",
       "2000-04-30 01:30:00    4\n",
       "Freq: M, dtype: int64"
      ]
     },
     "execution_count": 55,
     "metadata": {},
     "output_type": "execute_result"
    }
   ],
   "source": [
    "ts.shift(1, freq='90T')"
   ]
  },
  {
   "cell_type": "markdown",
   "metadata": {
    "deletable": true,
    "editable": true
   },
   "source": [
    "### 通过偏移量对日期进行位移"
   ]
  },
  {
   "cell_type": "code",
   "execution_count": 56,
   "metadata": {
    "collapsed": true,
    "deletable": true,
    "editable": true
   },
   "outputs": [],
   "source": [
    "from pandas.tseries.offsets import Day, MonthEnd"
   ]
  },
  {
   "cell_type": "code",
   "execution_count": 57,
   "metadata": {
    "collapsed": false,
    "deletable": true,
    "editable": true
   },
   "outputs": [
    {
     "data": {
      "text/plain": [
       "datetime.datetime(2017, 4, 20, 11, 22, 40, 720606)"
      ]
     },
     "execution_count": 57,
     "metadata": {},
     "output_type": "execute_result"
    }
   ],
   "source": [
    "now = datetime.now()\n",
    "now"
   ]
  },
  {
   "cell_type": "code",
   "execution_count": 58,
   "metadata": {
    "collapsed": false,
    "deletable": true,
    "editable": true
   },
   "outputs": [
    {
     "data": {
      "text/plain": [
       "(Timestamp('2017-04-23 11:22:40.720606'),\n",
       " Timestamp('2017-04-23 11:22:40.720606'))"
      ]
     },
     "execution_count": 58,
     "metadata": {},
     "output_type": "execute_result"
    }
   ],
   "source": [
    "now + 3*Day(), now + Day(3)"
   ]
  },
  {
   "cell_type": "code",
   "execution_count": 59,
   "metadata": {
    "collapsed": false,
    "deletable": true,
    "editable": true
   },
   "outputs": [
    {
     "data": {
      "text/plain": [
       "(Timestamp('2017-04-30 11:22:40.720606'),\n",
       " Timestamp('2017-05-31 11:22:40.720606'))"
      ]
     },
     "execution_count": 59,
     "metadata": {},
     "output_type": "execute_result"
    }
   ],
   "source": [
    "now + MonthEnd(), now + MonthEnd(2)"
   ]
  },
  {
   "cell_type": "code",
   "execution_count": 60,
   "metadata": {
    "collapsed": false,
    "deletable": true,
    "editable": true
   },
   "outputs": [
    {
     "data": {
      "text/plain": [
       "(Timestamp('2017-04-30 11:22:40.720606'),\n",
       " Timestamp('2017-03-31 11:22:40.720606'))"
      ]
     },
     "execution_count": 60,
     "metadata": {},
     "output_type": "execute_result"
    }
   ],
   "source": [
    "# 通过锚点偏移量的 rollforward, rollback 显式将日期向前或向后“滚动”\n",
    "offset = MonthEnd()\n",
    "offset.rollforward(now), offset.rollback(now)"
   ]
  },
  {
   "cell_type": "code",
   "execution_count": 61,
   "metadata": {
    "collapsed": false,
    "deletable": true,
    "editable": true
   },
   "outputs": [
    {
     "data": {
      "text/plain": [
       "2000-01-31    31\n",
       "2000-02-29    29\n",
       "2000-03-31    31\n",
       "2000-04-30     9\n",
       "dtype: int64"
      ]
     },
     "execution_count": 61,
     "metadata": {},
     "output_type": "execute_result"
    }
   ],
   "source": [
    "ts = Series(np.arange(100), index=pd.date_range('1/1/2000', periods=100))\n",
    "\n",
    "# 结合 groupby 使用滚动方法\n",
    "ts.groupby(offset.rollforward).count()"
   ]
  },
  {
   "cell_type": "code",
   "execution_count": 62,
   "metadata": {
    "collapsed": false,
    "deletable": true,
    "editable": true
   },
   "outputs": [
    {
     "data": {
      "text/plain": [
       "2000-01-31    31\n",
       "2000-02-29    29\n",
       "2000-03-31    31\n",
       "2000-04-30     9\n",
       "Freq: M, dtype: int64"
      ]
     },
     "execution_count": 62,
     "metadata": {},
     "output_type": "execute_result"
    }
   ],
   "source": [
    "# 透过 resample \n",
    "ts.resample('M').count()"
   ]
  },
  {
   "cell_type": "markdown",
   "metadata": {
    "deletable": true,
    "editable": true
   },
   "source": [
    "## 时区处理"
   ]
  },
  {
   "cell_type": "code",
   "execution_count": 63,
   "metadata": {
    "collapsed": true,
    "deletable": true,
    "editable": true
   },
   "outputs": [],
   "source": [
    "import pytz"
   ]
  },
  {
   "cell_type": "code",
   "execution_count": 64,
   "metadata": {
    "collapsed": false,
    "deletable": true,
    "editable": true
   },
   "outputs": [
    {
     "data": {
      "text/plain": [
       "<DstTzInfo 'Asia/Shanghai' LMT+8:06:00 STD>"
      ]
     },
     "execution_count": 64,
     "metadata": {},
     "output_type": "execute_result"
    }
   ],
   "source": [
    "pytz.timezone('Asia/Shanghai')"
   ]
  },
  {
   "cell_type": "markdown",
   "metadata": {
    "deletable": true,
    "editable": true
   },
   "source": [
    "### 本地化和转换"
   ]
  },
  {
   "cell_type": "code",
   "execution_count": 65,
   "metadata": {
    "collapsed": false,
    "deletable": true,
    "editable": true
   },
   "outputs": [
    {
     "data": {
      "text/plain": [
       "2000-01-01    0\n",
       "2000-01-02    1\n",
       "2000-01-03    2\n",
       "Freq: D, dtype: int64"
      ]
     },
     "execution_count": 65,
     "metadata": {},
     "output_type": "execute_result"
    }
   ],
   "source": [
    "ts = Series(np.arange(3), index = pd.date_range('1/1/2000', periods=3))\n",
    "ts"
   ]
  },
  {
   "cell_type": "code",
   "execution_count": 66,
   "metadata": {
    "collapsed": false,
    "deletable": true,
    "editable": true
   },
   "outputs": [
    {
     "name": "stdout",
     "output_type": "stream",
     "text": [
      "None\n"
     ]
    }
   ],
   "source": [
    "print ts.index.tz"
   ]
  },
  {
   "cell_type": "code",
   "execution_count": 67,
   "metadata": {
    "collapsed": false,
    "deletable": true,
    "editable": true
   },
   "outputs": [
    {
     "data": {
      "text/plain": [
       "2000-01-01 00:00:00+00:00    0\n",
       "2000-01-02 00:00:00+00:00    1\n",
       "2000-01-03 00:00:00+00:00    2\n",
       "Freq: D, dtype: int64"
      ]
     },
     "execution_count": 67,
     "metadata": {},
     "output_type": "execute_result"
    }
   ],
   "source": [
    "# 从单纯到本地化的转换\n",
    "ts_utc = ts.tz_localize('UTC')\n",
    "ts_utc"
   ]
  },
  {
   "cell_type": "code",
   "execution_count": 68,
   "metadata": {
    "collapsed": false,
    "deletable": true,
    "editable": true
   },
   "outputs": [
    {
     "data": {
      "text/plain": [
       "2000-01-01 00:00:00+00:00    0\n",
       "2000-01-02 00:00:00+00:00    1\n",
       "2000-01-03 00:00:00+00:00    2\n",
       "Freq: D, dtype: int64"
      ]
     },
     "execution_count": 68,
     "metadata": {},
     "output_type": "execute_result"
    }
   ],
   "source": [
    "Series(np.arange(3), index = pd.date_range('1/1/2000', periods=3, tz='UTC'))"
   ]
  },
  {
   "cell_type": "code",
   "execution_count": 69,
   "metadata": {
    "collapsed": false,
    "deletable": true,
    "editable": true
   },
   "outputs": [
    {
     "name": "stdout",
     "output_type": "stream",
     "text": [
      "UTC\n"
     ]
    }
   ],
   "source": [
    "print ts_utc.index.tz"
   ]
  },
  {
   "cell_type": "code",
   "execution_count": 70,
   "metadata": {
    "collapsed": false,
    "deletable": true,
    "editable": true
   },
   "outputs": [
    {
     "data": {
      "text/plain": [
       "1999-12-31 19:00:00-05:00    0\n",
       "2000-01-01 19:00:00-05:00    1\n",
       "2000-01-02 19:00:00-05:00    2\n",
       "Freq: D, dtype: int64"
      ]
     },
     "execution_count": 70,
     "metadata": {},
     "output_type": "execute_result"
    }
   ],
   "source": [
    "# 从某个时区转换到别的时区\n",
    "ts_utc.tz_convert('US/Eastern')"
   ]
  },
  {
   "cell_type": "markdown",
   "metadata": {
    "deletable": true,
    "editable": true
   },
   "source": [
    "### 操作时区意识型 Timestamp 对象\n",
    "\n",
    "时间序列和日期范围差不多，Timpstamp 对象能从\n",
    "- 单纯性（naive）本地化为时区\n",
    "- 从一个时区转换到另一个时区"
   ]
  },
  {
   "cell_type": "code",
   "execution_count": 71,
   "metadata": {
    "collapsed": false,
    "deletable": true,
    "editable": true
   },
   "outputs": [
    {
     "data": {
      "text/plain": [
       "Timestamp('1999-12-31 23:00:00-0500', tz='US/Eastern')"
      ]
     },
     "execution_count": 71,
     "metadata": {},
     "output_type": "execute_result"
    }
   ],
   "source": [
    "# 本地化，再转换时区\n",
    "pd.Timestamp('1/1/2000 4:00').tz_localize('UTC').tz_convert('US/Eastern')"
   ]
  },
  {
   "cell_type": "code",
   "execution_count": 72,
   "metadata": {
    "collapsed": false,
    "deletable": true,
    "editable": true
   },
   "outputs": [
    {
     "data": {
      "text/plain": [
       "Timestamp('1999-12-31 23:00:00-0500', tz='US/Eastern')"
      ]
     },
     "execution_count": 72,
     "metadata": {},
     "output_type": "execute_result"
    }
   ],
   "source": [
    "# 创建时传入时区，再转换时区\n",
    "pd.Timestamp('1/1/2000 4:00', tz='UTC').tz_convert('US/Eastern')"
   ]
  },
  {
   "cell_type": "code",
   "execution_count": 73,
   "metadata": {
    "collapsed": false,
    "deletable": true,
    "editable": true
   },
   "outputs": [
    {
     "data": {
      "text/plain": [
       "(946699200000000000, 946699200000000000)"
      ]
     },
     "execution_count": 73,
     "metadata": {},
     "output_type": "execute_result"
    }
   ],
   "source": [
    "stamp = pd.Timestamp('1/1/2000 4:00', tz='UTC')\n",
    "stamp.tz_convert('US/Mountain').value, stamp.tz_convert('US/Eastern').value"
   ]
  },
  {
   "cell_type": "markdown",
   "metadata": {
    "deletable": true,
    "editable": true
   },
   "source": [
    "### 不同时区之间的运算"
   ]
  },
  {
   "cell_type": "code",
   "execution_count": 74,
   "metadata": {
    "collapsed": false,
    "deletable": true,
    "editable": true
   },
   "outputs": [
    {
     "data": {
      "text/plain": [
       "2000-01-03 00:00:00+00:00    0\n",
       "2000-01-04 00:00:00+00:00    2\n",
       "2000-01-05 00:00:00+00:00    4\n",
       "2000-01-06 00:00:00+00:00    6\n",
       "2000-01-07 00:00:00+00:00    8\n",
       "Freq: B, dtype: int64"
      ]
     },
     "execution_count": 74,
     "metadata": {},
     "output_type": "execute_result"
    }
   ],
   "source": [
    "rng = pd.date_range('1/1/2000', periods=5, freq='B')\n",
    "ts = Series(np.arange(len(rng)), index=rng).tz_localize('UTC')\n",
    "\n",
    "# 不同时区合并运算，结果是 UTC\n",
    "ts[:].tz_convert('Europe/London') + ts[:].tz_convert('Europe/Moscow')"
   ]
  },
  {
   "cell_type": "markdown",
   "metadata": {
    "deletable": true,
    "editable": true
   },
   "source": [
    "## 时期及其算术运算\n",
    "\n",
    "时期（period）表示的是时间区间，如数日、数月、数季、数年。"
   ]
  },
  {
   "cell_type": "code",
   "execution_count": 75,
   "metadata": {
    "collapsed": false,
    "deletable": true,
    "editable": true
   },
   "outputs": [
    {
     "data": {
      "text/plain": [
       "Period('2007', 'A-DEC')"
      ]
     },
     "execution_count": 75,
     "metadata": {},
     "output_type": "execute_result"
    }
   ],
   "source": [
    "# A-DEC: 日历日、年度、结束，指定12月最后一天\n",
    "p = pd.Period(2007, freq='A-DEC')\n",
    "\n",
    "# 表示 2007/1/1~2007/12/31 之间的整段的时间\n",
    "p"
   ]
  },
  {
   "cell_type": "code",
   "execution_count": 76,
   "metadata": {
    "collapsed": false,
    "deletable": true,
    "editable": true
   },
   "outputs": [
    {
     "data": {
      "text/plain": [
       "Period('2010', 'A-DEC')"
      ]
     },
     "execution_count": 76,
     "metadata": {},
     "output_type": "execute_result"
    }
   ],
   "source": [
    "# 以年度为单位进行运算\n",
    "p + 3"
   ]
  },
  {
   "cell_type": "code",
   "execution_count": 77,
   "metadata": {
    "collapsed": false,
    "deletable": true,
    "editable": true
   },
   "outputs": [
    {
     "data": {
      "text/plain": [
       "PeriodIndex(['2007', '2008'], dtype='period[A-DEC]', freq='A-DEC')"
      ]
     },
     "execution_count": 77,
     "metadata": {},
     "output_type": "execute_result"
    }
   ],
   "source": [
    "# 创建规则的时期范围\n",
    "rng = pd.period_range('2007', periods=2, freq='A-DEC')\n",
    "rng"
   ]
  },
  {
   "cell_type": "code",
   "execution_count": 78,
   "metadata": {
    "collapsed": false,
    "deletable": true,
    "editable": true
   },
   "outputs": [
    {
     "data": {
      "text/plain": [
       "PeriodIndex(['2007', '2008'], dtype='period[A-DEC]', freq='A-DEC')"
      ]
     },
     "execution_count": 78,
     "metadata": {},
     "output_type": "execute_result"
    }
   ],
   "source": [
    "# PeriodIndex 包含一组 Period 的时间“范围”\n",
    "from pandas import Period\n",
    "pd.PeriodIndex([Period(2007, freq='A-DEC'),\n",
    "                Period(2008, freq='A-DEC')])"
   ]
  },
  {
   "cell_type": "code",
   "execution_count": 79,
   "metadata": {
    "collapsed": false,
    "deletable": true,
    "editable": true
   },
   "outputs": [
    {
     "data": {
      "text/plain": [
       "2007-01-01 00:00    0\n",
       "2007-01-01 08:00    1\n",
       "2007-01-01 16:00    2\n",
       "Freq: 8H, dtype: int64"
      ]
     },
     "execution_count": 79,
     "metadata": {},
     "output_type": "execute_result"
    }
   ],
   "source": [
    "Series(np.arange(3), index=pd.period_range('2007', periods=3, freq='8H'))"
   ]
  },
  {
   "cell_type": "code",
   "execution_count": 80,
   "metadata": {
    "collapsed": false,
    "deletable": true,
    "editable": true
   },
   "outputs": [
    {
     "data": {
      "text/plain": [
       "2007-01-01    0\n",
       "2007-01-02    1\n",
       "2007-01-03    2\n",
       "Freq: D, dtype: int64"
      ]
     },
     "execution_count": 80,
     "metadata": {},
     "output_type": "execute_result"
    }
   ],
   "source": [
    "Series(np.arange(3), index=pd.period_range('2007', periods=3, freq='D'))"
   ]
  },
  {
   "cell_type": "code",
   "execution_count": 81,
   "metadata": {
    "collapsed": false,
    "deletable": true,
    "editable": true
   },
   "outputs": [
    {
     "data": {
      "text/plain": [
       "2007-01-01/2007-01-07    0\n",
       "2007-01-08/2007-01-14    1\n",
       "2007-01-15/2007-01-21    2\n",
       "Freq: W-SUN, dtype: int64"
      ]
     },
     "execution_count": 81,
     "metadata": {},
     "output_type": "execute_result"
    }
   ],
   "source": [
    "Series(np.arange(3), index=pd.period_range('2007', periods=3, freq='W'))"
   ]
  },
  {
   "cell_type": "code",
   "execution_count": 82,
   "metadata": {
    "collapsed": false,
    "deletable": true,
    "editable": true
   },
   "outputs": [
    {
     "data": {
      "text/plain": [
       "2007-01    0\n",
       "2007-02    1\n",
       "2007-03    2\n",
       "Freq: M, dtype: int64"
      ]
     },
     "execution_count": 82,
     "metadata": {},
     "output_type": "execute_result"
    }
   ],
   "source": [
    "Series(np.arange(3), index=pd.period_range('2007', periods=3, freq='M'))"
   ]
  },
  {
   "cell_type": "code",
   "execution_count": 83,
   "metadata": {
    "collapsed": false,
    "deletable": true,
    "editable": true
   },
   "outputs": [
    {
     "data": {
      "text/plain": [
       "2007Q1    0\n",
       "2007Q2    1\n",
       "2007Q3    2\n",
       "Freq: Q-DEC, dtype: int64"
      ]
     },
     "execution_count": 83,
     "metadata": {},
     "output_type": "execute_result"
    }
   ],
   "source": [
    "Series(np.arange(3), index=pd.period_range('2007', periods=3, freq='Q'))"
   ]
  },
  {
   "cell_type": "code",
   "execution_count": 84,
   "metadata": {
    "collapsed": false,
    "deletable": true,
    "editable": true
   },
   "outputs": [
    {
     "data": {
      "text/plain": [
       "2007    0\n",
       "2008    1\n",
       "2009    2\n",
       "Freq: A-DEC, dtype: int64"
      ]
     },
     "execution_count": 84,
     "metadata": {},
     "output_type": "execute_result"
    }
   ],
   "source": [
    "Series(np.arange(3), index=pd.period_range('2007', periods=3, freq='A'))"
   ]
  },
  {
   "cell_type": "markdown",
   "metadata": {
    "deletable": true,
    "editable": true
   },
   "source": [
    "### 时期的频率转换\n",
    "\n",
    "Period 和 PeriodIndex 对象可以通过 asfreq 方法被转换成别的频率。"
   ]
  },
  {
   "cell_type": "code",
   "execution_count": 85,
   "metadata": {
    "collapsed": false,
    "deletable": true,
    "editable": true
   },
   "outputs": [
    {
     "data": {
      "text/plain": [
       "Period('2007-01', 'M')"
      ]
     },
     "execution_count": 85,
     "metadata": {},
     "output_type": "execute_result"
    }
   ],
   "source": [
    "# \"年度时期\" 转成当年的一个 \"月度时期\"\n",
    "Period('2007', freq='A-DEC').asfreq('M', how='start')"
   ]
  },
  {
   "cell_type": "code",
   "execution_count": 86,
   "metadata": {
    "collapsed": false,
    "deletable": true,
    "editable": true
   },
   "outputs": [
    {
     "data": {
      "text/plain": [
       "Period('2008', 'A-JUN')"
      ]
     },
     "execution_count": 86,
     "metadata": {},
     "output_type": "execute_result"
    }
   ],
   "source": [
    "# \"月度时期“ 转成当年的 ”年度时期“\n",
    "Period('2007-8', freq='M').asfreq('A-JUN') # 2007/2 ~ 2008/1"
   ]
  },
  {
   "cell_type": "code",
   "execution_count": 87,
   "metadata": {
    "collapsed": false,
    "deletable": true,
    "editable": true
   },
   "outputs": [
    {
     "data": {
      "text/plain": [
       "(PeriodIndex(['2007-01', '2008-01'], dtype='period[M]', freq='M'),\n",
       " PeriodIndex(['2007-12', '2008-12'], dtype='period[M]', freq='M'))"
      ]
     },
     "execution_count": 87,
     "metadata": {},
     "output_type": "execute_result"
    }
   ],
   "source": [
    "rng.asfreq('M', how='start'), rng.asfreq('M', how='end')"
   ]
  },
  {
   "cell_type": "code",
   "execution_count": 88,
   "metadata": {
    "collapsed": false,
    "deletable": true,
    "editable": true
   },
   "outputs": [
    {
     "data": {
      "text/plain": [
       "2006    0\n",
       "2007    1\n",
       "2008    2\n",
       "Freq: A-DEC, dtype: int64"
      ]
     },
     "execution_count": 88,
     "metadata": {},
     "output_type": "execute_result"
    }
   ],
   "source": [
    "ts = Series(np.arange(3), index=pd.period_range('2006', periods=3, freq='A-DEC'))\n",
    "ts"
   ]
  },
  {
   "cell_type": "code",
   "execution_count": 89,
   "metadata": {
    "collapsed": false,
    "deletable": true,
    "editable": true
   },
   "outputs": [
    {
     "data": {
      "text/plain": [
       "2006-12-29    0\n",
       "2007-12-31    1\n",
       "2008-12-31    2\n",
       "Freq: B, dtype: int64"
      ]
     },
     "execution_count": 89,
     "metadata": {},
     "output_type": "execute_result"
    }
   ],
   "source": [
    "# 将 PeriodIndex 的频率转换为最后一个”工作日时期“\n",
    "ts.asfreq('B', how='end')"
   ]
  },
  {
   "cell_type": "markdown",
   "metadata": {
    "deletable": true,
    "editable": true
   },
   "source": [
    "### 按季度计算的时期频率\n",
    "\n",
    "季度性数据会在会计、金融领域中见到。"
   ]
  },
  {
   "cell_type": "code",
   "execution_count": 90,
   "metadata": {
    "collapsed": false,
    "deletable": true,
    "editable": true
   },
   "outputs": [
    {
     "data": {
      "text/plain": [
       "Period('2012Q4', 'Q-JAN')"
      ]
     },
     "execution_count": 90,
     "metadata": {},
     "output_type": "execute_result"
    }
   ],
   "source": [
    "# 'Q-JAN': 日历日、季度、结束，指定一月\n",
    "p = pd.Period('2012Q4', freq='Q-JAN')\n",
    "p"
   ]
  },
  {
   "cell_type": "code",
   "execution_count": 91,
   "metadata": {
    "collapsed": false,
    "deletable": true,
    "editable": true
   },
   "outputs": [
    {
     "data": {
      "text/plain": [
       "(Period('2011-11-01', 'D'), Period('2012-01-31', 'D'))"
      ]
     },
     "execution_count": 91,
     "metadata": {},
     "output_type": "execute_result"
    }
   ],
   "source": [
    "# 季度时期：转换为日型频率就知道季度的范围（2011/11/01 ~ 2012/01/31）\n",
    "p.asfreq('D', 'start'), p.asfreq('D', 'end')"
   ]
  },
  {
   "cell_type": "code",
   "execution_count": 92,
   "metadata": {
    "collapsed": false,
    "deletable": true,
    "editable": true
   },
   "outputs": [
    {
     "data": {
      "text/plain": [
       "Timestamp('2012-01-30 16:00:00')"
      ]
     },
     "execution_count": 92,
     "metadata": {},
     "output_type": "execute_result"
    }
   ],
   "source": [
    "# 获取该季度倒数第二个工作日下午4点的时间戳\n",
    "((p.asfreq('B','e') - 1).asfreq('H', 's') + 16).to_timestamp()"
   ]
  },
  {
   "cell_type": "code",
   "execution_count": 93,
   "metadata": {
    "collapsed": false,
    "deletable": true,
    "editable": true
   },
   "outputs": [
    {
     "data": {
      "text/plain": [
       "2011Q3    0\n",
       "2011Q4    1\n",
       "2012Q1    2\n",
       "2012Q2    3\n",
       "2012Q3    4\n",
       "Freq: Q-JAN, dtype: int64"
      ]
     },
     "execution_count": 93,
     "metadata": {},
     "output_type": "execute_result"
    }
   ],
   "source": [
    "# 季度性的数据\n",
    "ts = Series(np.arange(5),index=pd.period_range('2011Q3',periods=5,freq='Q-JAN'))\n",
    "ts"
   ]
  },
  {
   "cell_type": "code",
   "execution_count": 94,
   "metadata": {
    "collapsed": false,
    "deletable": true,
    "editable": true
   },
   "outputs": [
    {
     "data": {
      "text/plain": [
       "2010-10-28 16:00:00    0\n",
       "2011-01-28 16:00:00    1\n",
       "2011-04-28 16:00:00    2\n",
       "2011-07-28 16:00:00    3\n",
       "2011-10-28 16:00:00    4\n",
       "dtype: int64"
      ]
     },
     "execution_count": 94,
     "metadata": {},
     "output_type": "execute_result"
    }
   ],
   "source": [
    "# 将 PeriodIndex 转换成 Timestamp\n",
    "ts.index = ((ts.index.asfreq('B','e') - 1).asfreq('H','s') + 16).to_timestamp()\n",
    "ts"
   ]
  },
  {
   "cell_type": "markdown",
   "metadata": {
    "deletable": true,
    "editable": true
   },
   "source": [
    "### 将 Timestamp 转换为 Period （及其反向过程）"
   ]
  },
  {
   "cell_type": "code",
   "execution_count": 95,
   "metadata": {
    "collapsed": false,
    "deletable": true,
    "editable": true
   },
   "outputs": [
    {
     "data": {
      "text/plain": [
       "DatetimeIndex(['2000-01-01', '2000-01-02', '2000-01-03', '2000-01-04',\n",
       "               '2000-01-05', '2000-01-06'],\n",
       "              dtype='datetime64[ns]', freq='D')"
      ]
     },
     "execution_count": 95,
     "metadata": {},
     "output_type": "execute_result"
    }
   ],
   "source": [
    "rng = pd.date_range('1/1/2000', periods=6, freq='D')\n",
    "rng"
   ]
  },
  {
   "cell_type": "code",
   "execution_count": 96,
   "metadata": {
    "collapsed": false,
    "deletable": true,
    "editable": true
   },
   "outputs": [
    {
     "data": {
      "text/plain": [
       "PeriodIndex(['2000-01', '2000-01', '2000-01', '2000-01', '2000-01', '2000-01'], dtype='period[M]', freq='M')"
      ]
     },
     "execution_count": 96,
     "metadata": {},
     "output_type": "execute_result"
    }
   ],
   "source": [
    "# 转换成时期 Timestamp >> Period\n",
    "# PeridoIndex 的频率由时间戳推断而来，允许存在重复时期\n",
    "rng.to_period('M')"
   ]
  },
  {
   "cell_type": "code",
   "execution_count": 97,
   "metadata": {
    "collapsed": false,
    "deletable": true,
    "editable": true
   },
   "outputs": [
    {
     "data": {
      "text/plain": [
       "PeriodIndex(['2000-01', '2000-02', '2000-03', '2000-04', '2000-05', '2000-06'], dtype='period[M]', freq='M')"
      ]
     },
     "execution_count": 97,
     "metadata": {},
     "output_type": "execute_result"
    }
   ],
   "source": [
    "rng = pd.period_range('2000-01', periods=6, freq='M')\n",
    "rng"
   ]
  },
  {
   "cell_type": "code",
   "execution_count": 98,
   "metadata": {
    "collapsed": false,
    "deletable": true,
    "editable": true
   },
   "outputs": [
    {
     "data": {
      "text/plain": [
       "DatetimeIndex(['2000-01-31', '2000-02-29', '2000-03-31', '2000-04-30',\n",
       "               '2000-05-31', '2000-06-30'],\n",
       "              dtype='datetime64[ns]', freq='M')"
      ]
     },
     "execution_count": 98,
     "metadata": {},
     "output_type": "execute_result"
    }
   ],
   "source": [
    "# 转换为时间戳 Period >> Timestamp\n",
    "rng.to_timestamp(how='end')"
   ]
  },
  {
   "cell_type": "markdown",
   "metadata": {
    "deletable": true,
    "editable": true
   },
   "source": [
    "### 通过数组创建 PeriodIndex"
   ]
  },
  {
   "cell_type": "code",
   "execution_count": 99,
   "metadata": {
    "collapsed": false,
    "deletable": true,
    "editable": true
   },
   "outputs": [
    {
     "data": {
      "text/html": [
       "<div>\n",
       "<table border=\"1\" class=\"dataframe\">\n",
       "  <thead>\n",
       "    <tr style=\"text-align: right;\">\n",
       "      <th></th>\n",
       "      <th>year</th>\n",
       "      <th>quarter</th>\n",
       "      <th>realgdp</th>\n",
       "      <th>realcons</th>\n",
       "      <th>realinv</th>\n",
       "      <th>realgovt</th>\n",
       "      <th>realdpi</th>\n",
       "      <th>cpi</th>\n",
       "      <th>m1</th>\n",
       "      <th>tbilrate</th>\n",
       "      <th>unemp</th>\n",
       "      <th>pop</th>\n",
       "      <th>infl</th>\n",
       "      <th>realint</th>\n",
       "    </tr>\n",
       "  </thead>\n",
       "  <tbody>\n",
       "    <tr>\n",
       "      <th>0</th>\n",
       "      <td>1959.0</td>\n",
       "      <td>1.0</td>\n",
       "      <td>2710.349</td>\n",
       "      <td>1707.4</td>\n",
       "      <td>286.898</td>\n",
       "      <td>470.045</td>\n",
       "      <td>1886.9</td>\n",
       "      <td>28.98</td>\n",
       "      <td>139.7</td>\n",
       "      <td>2.82</td>\n",
       "      <td>5.8</td>\n",
       "      <td>177.146</td>\n",
       "      <td>0.00</td>\n",
       "      <td>0.00</td>\n",
       "    </tr>\n",
       "    <tr>\n",
       "      <th>1</th>\n",
       "      <td>1959.0</td>\n",
       "      <td>2.0</td>\n",
       "      <td>2778.801</td>\n",
       "      <td>1733.7</td>\n",
       "      <td>310.859</td>\n",
       "      <td>481.301</td>\n",
       "      <td>1919.7</td>\n",
       "      <td>29.15</td>\n",
       "      <td>141.7</td>\n",
       "      <td>3.08</td>\n",
       "      <td>5.1</td>\n",
       "      <td>177.830</td>\n",
       "      <td>2.34</td>\n",
       "      <td>0.74</td>\n",
       "    </tr>\n",
       "    <tr>\n",
       "      <th>2</th>\n",
       "      <td>1959.0</td>\n",
       "      <td>3.0</td>\n",
       "      <td>2775.488</td>\n",
       "      <td>1751.8</td>\n",
       "      <td>289.226</td>\n",
       "      <td>491.260</td>\n",
       "      <td>1916.4</td>\n",
       "      <td>29.35</td>\n",
       "      <td>140.5</td>\n",
       "      <td>3.82</td>\n",
       "      <td>5.3</td>\n",
       "      <td>178.657</td>\n",
       "      <td>2.74</td>\n",
       "      <td>1.09</td>\n",
       "    </tr>\n",
       "    <tr>\n",
       "      <th>3</th>\n",
       "      <td>1959.0</td>\n",
       "      <td>4.0</td>\n",
       "      <td>2785.204</td>\n",
       "      <td>1753.7</td>\n",
       "      <td>299.356</td>\n",
       "      <td>484.052</td>\n",
       "      <td>1931.3</td>\n",
       "      <td>29.37</td>\n",
       "      <td>140.0</td>\n",
       "      <td>4.33</td>\n",
       "      <td>5.6</td>\n",
       "      <td>179.386</td>\n",
       "      <td>0.27</td>\n",
       "      <td>4.06</td>\n",
       "    </tr>\n",
       "    <tr>\n",
       "      <th>4</th>\n",
       "      <td>1960.0</td>\n",
       "      <td>1.0</td>\n",
       "      <td>2847.699</td>\n",
       "      <td>1770.5</td>\n",
       "      <td>331.722</td>\n",
       "      <td>462.199</td>\n",
       "      <td>1955.5</td>\n",
       "      <td>29.54</td>\n",
       "      <td>139.6</td>\n",
       "      <td>3.50</td>\n",
       "      <td>5.2</td>\n",
       "      <td>180.007</td>\n",
       "      <td>2.31</td>\n",
       "      <td>1.19</td>\n",
       "    </tr>\n",
       "  </tbody>\n",
       "</table>\n",
       "</div>"
      ],
      "text/plain": [
       "     year  quarter   realgdp  realcons  realinv  realgovt  realdpi    cpi  \\\n",
       "0  1959.0      1.0  2710.349    1707.4  286.898   470.045   1886.9  28.98   \n",
       "1  1959.0      2.0  2778.801    1733.7  310.859   481.301   1919.7  29.15   \n",
       "2  1959.0      3.0  2775.488    1751.8  289.226   491.260   1916.4  29.35   \n",
       "3  1959.0      4.0  2785.204    1753.7  299.356   484.052   1931.3  29.37   \n",
       "4  1960.0      1.0  2847.699    1770.5  331.722   462.199   1955.5  29.54   \n",
       "\n",
       "      m1  tbilrate  unemp      pop  infl  realint  \n",
       "0  139.7      2.82    5.8  177.146  0.00     0.00  \n",
       "1  141.7      3.08    5.1  177.830  2.34     0.74  \n",
       "2  140.5      3.82    5.3  178.657  2.74     1.09  \n",
       "3  140.0      4.33    5.6  179.386  0.27     4.06  \n",
       "4  139.6      3.50    5.2  180.007  2.31     1.19  "
      ]
     },
     "execution_count": 99,
     "metadata": {},
     "output_type": "execute_result"
    }
   ],
   "source": [
    "# 固定频率的数据通常会将时间信息分开存放在多个列中。例如，下面的年度、季度\n",
    "data = pd.read_csv('ch08/macrodata.csv')\n",
    "data[:5]"
   ]
  },
  {
   "cell_type": "code",
   "execution_count": 100,
   "metadata": {
    "collapsed": false,
    "deletable": true,
    "editable": true
   },
   "outputs": [
    {
     "data": {
      "text/html": [
       "<div>\n",
       "<table border=\"1\" class=\"dataframe\">\n",
       "  <thead>\n",
       "    <tr style=\"text-align: right;\">\n",
       "      <th></th>\n",
       "      <th>year</th>\n",
       "      <th>quarter</th>\n",
       "      <th>realgdp</th>\n",
       "      <th>realcons</th>\n",
       "      <th>realinv</th>\n",
       "      <th>realgovt</th>\n",
       "      <th>realdpi</th>\n",
       "      <th>cpi</th>\n",
       "      <th>m1</th>\n",
       "      <th>tbilrate</th>\n",
       "      <th>unemp</th>\n",
       "      <th>pop</th>\n",
       "      <th>infl</th>\n",
       "      <th>realint</th>\n",
       "    </tr>\n",
       "  </thead>\n",
       "  <tbody>\n",
       "    <tr>\n",
       "      <th>1959Q1</th>\n",
       "      <td>1959.0</td>\n",
       "      <td>1.0</td>\n",
       "      <td>2710.349</td>\n",
       "      <td>1707.4</td>\n",
       "      <td>286.898</td>\n",
       "      <td>470.045</td>\n",
       "      <td>1886.9</td>\n",
       "      <td>28.98</td>\n",
       "      <td>139.7</td>\n",
       "      <td>2.82</td>\n",
       "      <td>5.8</td>\n",
       "      <td>177.146</td>\n",
       "      <td>0.00</td>\n",
       "      <td>0.00</td>\n",
       "    </tr>\n",
       "    <tr>\n",
       "      <th>1959Q2</th>\n",
       "      <td>1959.0</td>\n",
       "      <td>2.0</td>\n",
       "      <td>2778.801</td>\n",
       "      <td>1733.7</td>\n",
       "      <td>310.859</td>\n",
       "      <td>481.301</td>\n",
       "      <td>1919.7</td>\n",
       "      <td>29.15</td>\n",
       "      <td>141.7</td>\n",
       "      <td>3.08</td>\n",
       "      <td>5.1</td>\n",
       "      <td>177.830</td>\n",
       "      <td>2.34</td>\n",
       "      <td>0.74</td>\n",
       "    </tr>\n",
       "    <tr>\n",
       "      <th>1959Q3</th>\n",
       "      <td>1959.0</td>\n",
       "      <td>3.0</td>\n",
       "      <td>2775.488</td>\n",
       "      <td>1751.8</td>\n",
       "      <td>289.226</td>\n",
       "      <td>491.260</td>\n",
       "      <td>1916.4</td>\n",
       "      <td>29.35</td>\n",
       "      <td>140.5</td>\n",
       "      <td>3.82</td>\n",
       "      <td>5.3</td>\n",
       "      <td>178.657</td>\n",
       "      <td>2.74</td>\n",
       "      <td>1.09</td>\n",
       "    </tr>\n",
       "    <tr>\n",
       "      <th>1959Q4</th>\n",
       "      <td>1959.0</td>\n",
       "      <td>4.0</td>\n",
       "      <td>2785.204</td>\n",
       "      <td>1753.7</td>\n",
       "      <td>299.356</td>\n",
       "      <td>484.052</td>\n",
       "      <td>1931.3</td>\n",
       "      <td>29.37</td>\n",
       "      <td>140.0</td>\n",
       "      <td>4.33</td>\n",
       "      <td>5.6</td>\n",
       "      <td>179.386</td>\n",
       "      <td>0.27</td>\n",
       "      <td>4.06</td>\n",
       "    </tr>\n",
       "    <tr>\n",
       "      <th>1960Q1</th>\n",
       "      <td>1960.0</td>\n",
       "      <td>1.0</td>\n",
       "      <td>2847.699</td>\n",
       "      <td>1770.5</td>\n",
       "      <td>331.722</td>\n",
       "      <td>462.199</td>\n",
       "      <td>1955.5</td>\n",
       "      <td>29.54</td>\n",
       "      <td>139.6</td>\n",
       "      <td>3.50</td>\n",
       "      <td>5.2</td>\n",
       "      <td>180.007</td>\n",
       "      <td>2.31</td>\n",
       "      <td>1.19</td>\n",
       "    </tr>\n",
       "  </tbody>\n",
       "</table>\n",
       "</div>"
      ],
      "text/plain": [
       "          year  quarter   realgdp  realcons  realinv  realgovt  realdpi  \\\n",
       "1959Q1  1959.0      1.0  2710.349    1707.4  286.898   470.045   1886.9   \n",
       "1959Q2  1959.0      2.0  2778.801    1733.7  310.859   481.301   1919.7   \n",
       "1959Q3  1959.0      3.0  2775.488    1751.8  289.226   491.260   1916.4   \n",
       "1959Q4  1959.0      4.0  2785.204    1753.7  299.356   484.052   1931.3   \n",
       "1960Q1  1960.0      1.0  2847.699    1770.5  331.722   462.199   1955.5   \n",
       "\n",
       "          cpi     m1  tbilrate  unemp      pop  infl  realint  \n",
       "1959Q1  28.98  139.7      2.82    5.8  177.146  0.00     0.00  \n",
       "1959Q2  29.15  141.7      3.08    5.1  177.830  2.34     0.74  \n",
       "1959Q3  29.35  140.5      3.82    5.3  178.657  2.74     1.09  \n",
       "1959Q4  29.37  140.0      4.33    5.6  179.386  0.27     4.06  \n",
       "1960Q1  29.54  139.6      3.50    5.2  180.007  2.31     1.19  "
      ]
     },
     "execution_count": 100,
     "metadata": {},
     "output_type": "execute_result"
    }
   ],
   "source": [
    "# 将 year、quarter 两个数组及一个频率传入 PeriodIndex，合并成 DataFrame 的索引\n",
    "data.index = pd.PeriodIndex(year=data.year, quarter=data.quarter, freq='Q-DEC')\n",
    "data[:5]"
   ]
  },
  {
   "cell_type": "markdown",
   "metadata": {
    "deletable": true,
    "editable": true
   },
   "source": [
    "## 重采样及频率转换\n",
    "\n",
    "resample 指的是将时间序列从一个频率转换到另一个频率的处理过程\n",
    "- 高频率数据聚合到低频率称为降采样（downsampling）\n",
    "- 低频率数据聚合到高频率称为升采样（upsampling）"
   ]
  },
  {
   "cell_type": "markdown",
   "metadata": {
    "deletable": true,
    "editable": true
   },
   "source": [
    "resample 方法的参数\n",
    "\n",
    "参数 | 说明\n",
    "---|---\n",
    "`freq` | 重采样频率的字符串或DateOffset，如'M', '5min', Second(5)\n",
    "~~`how='mean'`~~ | 用于产生聚合的函数或数据函数，如'mean', 'ohlc', 'first', 'last', 'median', 'max', 'min', np.max。默认为'meam'\n",
    "`axis=0` | 重采样的轴\n",
    "~~`fill_method='None'`~~ | 升采样如何插值，如'ffill','bfill'\n",
    "`closed='right'` | 在降采样中，各时间段的那一端是闭合（包含的），'right', 'left'\n",
    "`label='right'` | 在降采样 中，如何设置聚合值的标签，'right'或'left'\n",
    "`loffset=None` | 面元标签的时间校正值，比如'-1s'/Second(-1)用于将聚合标签调早1秒\n",
    "`limit=None` | 在向前或向后填充时，允许填充的最大时期数\n",
    "`kind=None` | 聚合到时期（'period')或是时间戳（'timestamp'），默认聚合到时间序列的索引类型\n",
    "`convertion=None` | 当重采样时期时，将低频转换到高频率所采用的约定('start'，'end')\n",
    "\n",
    "加在 resample 后面的方法\n",
    "- 降采样 how：'mean', 'ohlc', 'first', 'last', 'median', 'max', 'min'\n",
    "- 升采样 fill_method: 'ffill','bfill' "
   ]
  },
  {
   "cell_type": "markdown",
   "metadata": {
    "deletable": true,
    "editable": true
   },
   "source": [
    "### 降采样"
   ]
  },
  {
   "cell_type": "code",
   "execution_count": 101,
   "metadata": {
    "collapsed": false,
    "deletable": true,
    "editable": true
   },
   "outputs": [
    {
     "data": {
      "text/plain": [
       "2000-01-01 00:00:00    10\n",
       "2000-01-01 00:05:00    35\n",
       "2000-01-01 00:10:00    21\n",
       "Freq: 5T, dtype: int64"
      ]
     },
     "execution_count": 101,
     "metadata": {},
     "output_type": "execute_result"
    }
   ],
   "source": [
    "rng = pd.date_range('1/1/2000', periods=12, freq='T')\n",
    "ts = Series(np.arange(12), index=rng)\n",
    "\n",
    "# 每分钟 >> 每五分钟\n",
    "ts.resample('5min').sum()"
   ]
  },
  {
   "cell_type": "code",
   "execution_count": 102,
   "metadata": {
    "collapsed": false,
    "deletable": true,
    "editable": true
   },
   "outputs": [
    {
     "data": {
      "text/plain": [
       "2000-01-01 00:00:00    10\n",
       "2000-01-01 00:05:00    35\n",
       "2000-01-01 00:10:00    21\n",
       "Freq: 5T, dtype: int64"
      ]
     },
     "execution_count": 102,
     "metadata": {},
     "output_type": "execute_result"
    }
   ],
   "source": [
    "# 区间那边是闭合的\n",
    "ts.resample('5min', closed='left').sum()"
   ]
  },
  {
   "cell_type": "code",
   "execution_count": 103,
   "metadata": {
    "collapsed": false,
    "deletable": true,
    "editable": true
   },
   "outputs": [
    {
     "data": {
      "text/plain": [
       "1999-12-31 23:55:00     0\n",
       "2000-01-01 00:00:00    15\n",
       "2000-01-01 00:05:00    40\n",
       "2000-01-01 00:10:00    11\n",
       "Freq: 5T, dtype: int64"
      ]
     },
     "execution_count": 103,
     "metadata": {},
     "output_type": "execute_result"
    }
   ],
   "source": [
    "ts.resample('5min', closed='right').sum()"
   ]
  },
  {
   "cell_type": "code",
   "execution_count": 104,
   "metadata": {
    "collapsed": false,
    "deletable": true,
    "editable": true
   },
   "outputs": [
    {
     "data": {
      "text/plain": [
       "1999-12-31 23:59:59    10\n",
       "2000-01-01 00:04:59    35\n",
       "2000-01-01 00:09:59    21\n",
       "Freq: 5T, dtype: int64"
      ]
     },
     "execution_count": 104,
     "metadata": {},
     "output_type": "execute_result"
    }
   ],
   "source": [
    "# 对索引结果做一些位移\n",
    "ts.resample('5min', loffset='-1s').sum()"
   ]
  },
  {
   "cell_type": "markdown",
   "metadata": {
    "deletable": true,
    "editable": true
   },
   "source": [
    "#### OHLC (Open-High-Low-Close) 重采样\n",
    "\n",
    "经融领域的时间序列聚合方式，计算各面元的四个值：开盘、最高、最低、收盘"
   ]
  },
  {
   "cell_type": "code",
   "execution_count": 105,
   "metadata": {
    "collapsed": false,
    "deletable": true,
    "editable": true
   },
   "outputs": [
    {
     "data": {
      "text/html": [
       "<div>\n",
       "<table border=\"1\" class=\"dataframe\">\n",
       "  <thead>\n",
       "    <tr style=\"text-align: right;\">\n",
       "      <th></th>\n",
       "      <th>open</th>\n",
       "      <th>high</th>\n",
       "      <th>low</th>\n",
       "      <th>close</th>\n",
       "    </tr>\n",
       "  </thead>\n",
       "  <tbody>\n",
       "    <tr>\n",
       "      <th>2000-01-01 00:00:00</th>\n",
       "      <td>0</td>\n",
       "      <td>4</td>\n",
       "      <td>0</td>\n",
       "      <td>4</td>\n",
       "    </tr>\n",
       "    <tr>\n",
       "      <th>2000-01-01 00:05:00</th>\n",
       "      <td>5</td>\n",
       "      <td>9</td>\n",
       "      <td>5</td>\n",
       "      <td>9</td>\n",
       "    </tr>\n",
       "    <tr>\n",
       "      <th>2000-01-01 00:10:00</th>\n",
       "      <td>10</td>\n",
       "      <td>11</td>\n",
       "      <td>10</td>\n",
       "      <td>11</td>\n",
       "    </tr>\n",
       "  </tbody>\n",
       "</table>\n",
       "</div>"
      ],
      "text/plain": [
       "                     open  high  low  close\n",
       "2000-01-01 00:00:00     0     4    0      4\n",
       "2000-01-01 00:05:00     5     9    5      9\n",
       "2000-01-01 00:10:00    10    11   10     11"
      ]
     },
     "execution_count": 105,
     "metadata": {},
     "output_type": "execute_result"
    }
   ],
   "source": [
    "ts.resample('5min').ohlc()"
   ]
  },
  {
   "cell_type": "markdown",
   "metadata": {
    "deletable": true,
    "editable": true
   },
   "source": [
    "#### 通过groupby进行重采样"
   ]
  },
  {
   "cell_type": "code",
   "execution_count": 106,
   "metadata": {
    "collapsed": false,
    "deletable": true,
    "editable": true
   },
   "outputs": [
    {
     "data": {
      "text/plain": [
       "1    15\n",
       "2    45\n",
       "3    75\n",
       "4    95\n",
       "dtype: int64"
      ]
     },
     "execution_count": 106,
     "metadata": {},
     "output_type": "execute_result"
    }
   ],
   "source": [
    "rng = pd.date_range('1/1/2000', periods=100, freq='D')\n",
    "ts = Series(np.arange(100), index=rng)\n",
    "\n",
    "# 根据月份进行分组\n",
    "ts.groupby(lambda x: x.month).mean()"
   ]
  },
  {
   "cell_type": "markdown",
   "metadata": {
    "deletable": true,
    "editable": true
   },
   "source": [
    "### 升采样和插值\n",
    "\n",
    "在将数据从低频率转换到高频率，不需要聚合。但需要向前、向后插值。"
   ]
  },
  {
   "cell_type": "code",
   "execution_count": 107,
   "metadata": {
    "collapsed": false,
    "deletable": true,
    "editable": true
   },
   "outputs": [
    {
     "data": {
      "text/html": [
       "<div>\n",
       "<table border=\"1\" class=\"dataframe\">\n",
       "  <thead>\n",
       "    <tr style=\"text-align: right;\">\n",
       "      <th></th>\n",
       "      <th>A</th>\n",
       "      <th>B</th>\n",
       "      <th>C</th>\n",
       "      <th>D</th>\n",
       "    </tr>\n",
       "  </thead>\n",
       "  <tbody>\n",
       "    <tr>\n",
       "      <th>2000-01-01</th>\n",
       "      <td>-0.214337</td>\n",
       "      <td>-0.807248</td>\n",
       "      <td>0.888047</td>\n",
       "      <td>-1.092837</td>\n",
       "    </tr>\n",
       "    <tr>\n",
       "      <th>2000-01-04</th>\n",
       "      <td>0.637767</td>\n",
       "      <td>1.190753</td>\n",
       "      <td>0.629046</td>\n",
       "      <td>0.617793</td>\n",
       "    </tr>\n",
       "    <tr>\n",
       "      <th>2000-01-07</th>\n",
       "      <td>0.759287</td>\n",
       "      <td>0.212125</td>\n",
       "      <td>-1.036189</td>\n",
       "      <td>0.291307</td>\n",
       "    </tr>\n",
       "  </tbody>\n",
       "</table>\n",
       "</div>"
      ],
      "text/plain": [
       "                   A         B         C         D\n",
       "2000-01-01 -0.214337 -0.807248  0.888047 -1.092837\n",
       "2000-01-04  0.637767  1.190753  0.629046  0.617793\n",
       "2000-01-07  0.759287  0.212125 -1.036189  0.291307"
      ]
     },
     "execution_count": 107,
     "metadata": {},
     "output_type": "execute_result"
    }
   ],
   "source": [
    "frame = DataFrame(np.random.randn(3,4),\n",
    "                 index=pd.date_range('1/1/2000', periods=3, freq='3D'),\n",
    "                 columns=['A','B','C','D'])\n",
    "frame"
   ]
  },
  {
   "cell_type": "code",
   "execution_count": 108,
   "metadata": {
    "collapsed": false,
    "deletable": true,
    "editable": true
   },
   "outputs": [
    {
     "data": {
      "text/html": [
       "<div>\n",
       "<table border=\"1\" class=\"dataframe\">\n",
       "  <thead>\n",
       "    <tr style=\"text-align: right;\">\n",
       "      <th></th>\n",
       "      <th>A</th>\n",
       "      <th>B</th>\n",
       "      <th>C</th>\n",
       "      <th>D</th>\n",
       "    </tr>\n",
       "  </thead>\n",
       "  <tbody>\n",
       "    <tr>\n",
       "      <th>2000-01-01</th>\n",
       "      <td>-0.214337</td>\n",
       "      <td>-0.807248</td>\n",
       "      <td>0.888047</td>\n",
       "      <td>-1.092837</td>\n",
       "    </tr>\n",
       "    <tr>\n",
       "      <th>2000-01-02</th>\n",
       "      <td>-0.214337</td>\n",
       "      <td>-0.807248</td>\n",
       "      <td>0.888047</td>\n",
       "      <td>-1.092837</td>\n",
       "    </tr>\n",
       "    <tr>\n",
       "      <th>2000-01-03</th>\n",
       "      <td>-0.214337</td>\n",
       "      <td>-0.807248</td>\n",
       "      <td>0.888047</td>\n",
       "      <td>-1.092837</td>\n",
       "    </tr>\n",
       "    <tr>\n",
       "      <th>2000-01-04</th>\n",
       "      <td>0.637767</td>\n",
       "      <td>1.190753</td>\n",
       "      <td>0.629046</td>\n",
       "      <td>0.617793</td>\n",
       "    </tr>\n",
       "    <tr>\n",
       "      <th>2000-01-05</th>\n",
       "      <td>0.637767</td>\n",
       "      <td>1.190753</td>\n",
       "      <td>0.629046</td>\n",
       "      <td>0.617793</td>\n",
       "    </tr>\n",
       "    <tr>\n",
       "      <th>2000-01-06</th>\n",
       "      <td>0.637767</td>\n",
       "      <td>1.190753</td>\n",
       "      <td>0.629046</td>\n",
       "      <td>0.617793</td>\n",
       "    </tr>\n",
       "    <tr>\n",
       "      <th>2000-01-07</th>\n",
       "      <td>0.759287</td>\n",
       "      <td>0.212125</td>\n",
       "      <td>-1.036189</td>\n",
       "      <td>0.291307</td>\n",
       "    </tr>\n",
       "  </tbody>\n",
       "</table>\n",
       "</div>"
      ],
      "text/plain": [
       "                   A         B         C         D\n",
       "2000-01-01 -0.214337 -0.807248  0.888047 -1.092837\n",
       "2000-01-02 -0.214337 -0.807248  0.888047 -1.092837\n",
       "2000-01-03 -0.214337 -0.807248  0.888047 -1.092837\n",
       "2000-01-04  0.637767  1.190753  0.629046  0.617793\n",
       "2000-01-05  0.637767  1.190753  0.629046  0.617793\n",
       "2000-01-06  0.637767  1.190753  0.629046  0.617793\n",
       "2000-01-07  0.759287  0.212125 -1.036189  0.291307"
      ]
     },
     "execution_count": 108,
     "metadata": {},
     "output_type": "execute_result"
    }
   ],
   "source": [
    "frame.resample('D').ffill()"
   ]
  },
  {
   "cell_type": "markdown",
   "metadata": {
    "deletable": true,
    "editable": true
   },
   "source": [
    "由于时期指的是时间区间，升采样和降采样的规则比较严格\n",
    "- 降采样中，目标频率必须是源频率的子时期（subperiod）\n",
    "- 升采样中，目标频率必须是源频率的超时期（superperiod）"
   ]
  },
  {
   "cell_type": "markdown",
   "metadata": {
    "deletable": true,
    "editable": true
   },
   "source": [
    "### 通过时期进行重采样"
   ]
  },
  {
   "cell_type": "code",
   "execution_count": 109,
   "metadata": {
    "collapsed": false,
    "deletable": true,
    "editable": true
   },
   "outputs": [],
   "source": [
    "frame = DataFrame(np.random.randn(6,4),\n",
    "                 index=pd.period_range('1-2000', periods=6, freq='M'),\n",
    "                 columns=['A','B','C','D'])"
   ]
  },
  {
   "cell_type": "code",
   "execution_count": 110,
   "metadata": {
    "collapsed": false,
    "deletable": true,
    "editable": true
   },
   "outputs": [
    {
     "data": {
      "text/html": [
       "<div>\n",
       "<table border=\"1\" class=\"dataframe\">\n",
       "  <thead>\n",
       "    <tr style=\"text-align: right;\">\n",
       "      <th></th>\n",
       "      <th>A</th>\n",
       "      <th>B</th>\n",
       "      <th>C</th>\n",
       "      <th>D</th>\n",
       "    </tr>\n",
       "  </thead>\n",
       "  <tbody>\n",
       "    <tr>\n",
       "      <th>2000Q1</th>\n",
       "      <td>0.591889</td>\n",
       "      <td>0.200279</td>\n",
       "      <td>-0.060303</td>\n",
       "      <td>1.259890</td>\n",
       "    </tr>\n",
       "    <tr>\n",
       "      <th>2000Q2</th>\n",
       "      <td>-0.530469</td>\n",
       "      <td>-1.127960</td>\n",
       "      <td>-0.009405</td>\n",
       "      <td>0.527883</td>\n",
       "    </tr>\n",
       "  </tbody>\n",
       "</table>\n",
       "</div>"
      ],
      "text/plain": [
       "               A         B         C         D\n",
       "2000Q1  0.591889  0.200279 -0.060303  1.259890\n",
       "2000Q2 -0.530469 -1.127960 -0.009405  0.527883"
      ]
     },
     "execution_count": 110,
     "metadata": {},
     "output_type": "execute_result"
    }
   ],
   "source": [
    "# 降采样：月 >> 季\n",
    "frame.resample('Q-DEC').mean()"
   ]
  },
  {
   "cell_type": "code",
   "execution_count": 111,
   "metadata": {
    "collapsed": false,
    "deletable": true,
    "editable": true
   },
   "outputs": [
    {
     "data": {
      "text/html": [
       "<div>\n",
       "<table border=\"1\" class=\"dataframe\">\n",
       "  <thead>\n",
       "    <tr style=\"text-align: right;\">\n",
       "      <th></th>\n",
       "      <th>A</th>\n",
       "      <th>B</th>\n",
       "      <th>C</th>\n",
       "      <th>D</th>\n",
       "    </tr>\n",
       "  </thead>\n",
       "  <tbody>\n",
       "    <tr>\n",
       "      <th>1999-12-27/2000-01-02</th>\n",
       "      <td>0.855506</td>\n",
       "      <td>-1.805990</td>\n",
       "      <td>0.077699</td>\n",
       "      <td>0.784990</td>\n",
       "    </tr>\n",
       "    <tr>\n",
       "      <th>2000-01-03/2000-01-09</th>\n",
       "      <td>0.855506</td>\n",
       "      <td>-1.805990</td>\n",
       "      <td>0.077699</td>\n",
       "      <td>0.784990</td>\n",
       "    </tr>\n",
       "    <tr>\n",
       "      <th>2000-01-10/2000-01-16</th>\n",
       "      <td>0.855506</td>\n",
       "      <td>-1.805990</td>\n",
       "      <td>0.077699</td>\n",
       "      <td>0.784990</td>\n",
       "    </tr>\n",
       "    <tr>\n",
       "      <th>2000-01-17/2000-01-23</th>\n",
       "      <td>0.855506</td>\n",
       "      <td>-1.805990</td>\n",
       "      <td>0.077699</td>\n",
       "      <td>0.784990</td>\n",
       "    </tr>\n",
       "    <tr>\n",
       "      <th>2000-01-24/2000-01-30</th>\n",
       "      <td>0.855506</td>\n",
       "      <td>-1.805990</td>\n",
       "      <td>0.077699</td>\n",
       "      <td>0.784990</td>\n",
       "    </tr>\n",
       "    <tr>\n",
       "      <th>2000-01-31/2000-02-06</th>\n",
       "      <td>1.719048</td>\n",
       "      <td>0.525266</td>\n",
       "      <td>-0.820255</td>\n",
       "      <td>1.889834</td>\n",
       "    </tr>\n",
       "    <tr>\n",
       "      <th>2000-02-07/2000-02-13</th>\n",
       "      <td>1.719048</td>\n",
       "      <td>0.525266</td>\n",
       "      <td>-0.820255</td>\n",
       "      <td>1.889834</td>\n",
       "    </tr>\n",
       "    <tr>\n",
       "      <th>2000-02-14/2000-02-20</th>\n",
       "      <td>1.719048</td>\n",
       "      <td>0.525266</td>\n",
       "      <td>-0.820255</td>\n",
       "      <td>1.889834</td>\n",
       "    </tr>\n",
       "    <tr>\n",
       "      <th>2000-02-21/2000-02-27</th>\n",
       "      <td>1.719048</td>\n",
       "      <td>0.525266</td>\n",
       "      <td>-0.820255</td>\n",
       "      <td>1.889834</td>\n",
       "    </tr>\n",
       "    <tr>\n",
       "      <th>2000-02-28/2000-03-05</th>\n",
       "      <td>-0.798886</td>\n",
       "      <td>1.881562</td>\n",
       "      <td>0.561647</td>\n",
       "      <td>1.104848</td>\n",
       "    </tr>\n",
       "    <tr>\n",
       "      <th>2000-03-06/2000-03-12</th>\n",
       "      <td>-0.798886</td>\n",
       "      <td>1.881562</td>\n",
       "      <td>0.561647</td>\n",
       "      <td>1.104848</td>\n",
       "    </tr>\n",
       "    <tr>\n",
       "      <th>2000-03-13/2000-03-19</th>\n",
       "      <td>-0.798886</td>\n",
       "      <td>1.881562</td>\n",
       "      <td>0.561647</td>\n",
       "      <td>1.104848</td>\n",
       "    </tr>\n",
       "  </tbody>\n",
       "</table>\n",
       "</div>"
      ],
      "text/plain": [
       "                              A         B         C         D\n",
       "1999-12-27/2000-01-02  0.855506 -1.805990  0.077699  0.784990\n",
       "2000-01-03/2000-01-09  0.855506 -1.805990  0.077699  0.784990\n",
       "2000-01-10/2000-01-16  0.855506 -1.805990  0.077699  0.784990\n",
       "2000-01-17/2000-01-23  0.855506 -1.805990  0.077699  0.784990\n",
       "2000-01-24/2000-01-30  0.855506 -1.805990  0.077699  0.784990\n",
       "2000-01-31/2000-02-06  1.719048  0.525266 -0.820255  1.889834\n",
       "2000-02-07/2000-02-13  1.719048  0.525266 -0.820255  1.889834\n",
       "2000-02-14/2000-02-20  1.719048  0.525266 -0.820255  1.889834\n",
       "2000-02-21/2000-02-27  1.719048  0.525266 -0.820255  1.889834\n",
       "2000-02-28/2000-03-05 -0.798886  1.881562  0.561647  1.104848\n",
       "2000-03-06/2000-03-12 -0.798886  1.881562  0.561647  1.104848\n",
       "2000-03-13/2000-03-19 -0.798886  1.881562  0.561647  1.104848"
      ]
     },
     "execution_count": 111,
     "metadata": {},
     "output_type": "execute_result"
    }
   ],
   "source": [
    "# 升采样：月 >> 周\n",
    "frame.resample('W').ffill().head(12)"
   ]
  },
  {
   "cell_type": "markdown",
   "metadata": {
    "deletable": true,
    "editable": true
   },
   "source": [
    "## 时间序列绘图"
   ]
  },
  {
   "cell_type": "code",
   "execution_count": 112,
   "metadata": {
    "collapsed": false,
    "deletable": true,
    "editable": true
   },
   "outputs": [],
   "source": [
    "close_px_all = pd.read_csv('ch09/stock_px.csv',\n",
    "                           parse_dates=True,\n",
    "                           index_col=0)\n",
    "close_px = close_px_all[['AAPL', 'MSFT', 'XOM']]"
   ]
  },
  {
   "cell_type": "code",
   "execution_count": 113,
   "metadata": {
    "collapsed": false
   },
   "outputs": [
    {
     "data": {
      "text/html": [
       "<div>\n",
       "<table border=\"1\" class=\"dataframe\">\n",
       "  <thead>\n",
       "    <tr style=\"text-align: right;\">\n",
       "      <th></th>\n",
       "      <th>AAPL</th>\n",
       "      <th>MSFT</th>\n",
       "      <th>XOM</th>\n",
       "    </tr>\n",
       "  </thead>\n",
       "  <tbody>\n",
       "    <tr>\n",
       "      <th>2003-01-02</th>\n",
       "      <td>7.40</td>\n",
       "      <td>21.11</td>\n",
       "      <td>29.22</td>\n",
       "    </tr>\n",
       "    <tr>\n",
       "      <th>2003-01-03</th>\n",
       "      <td>7.45</td>\n",
       "      <td>21.14</td>\n",
       "      <td>29.24</td>\n",
       "    </tr>\n",
       "    <tr>\n",
       "      <th>2003-01-06</th>\n",
       "      <td>7.45</td>\n",
       "      <td>21.52</td>\n",
       "      <td>29.96</td>\n",
       "    </tr>\n",
       "    <tr>\n",
       "      <th>2003-01-07</th>\n",
       "      <td>7.43</td>\n",
       "      <td>21.93</td>\n",
       "      <td>28.95</td>\n",
       "    </tr>\n",
       "    <tr>\n",
       "      <th>2003-01-08</th>\n",
       "      <td>7.28</td>\n",
       "      <td>21.31</td>\n",
       "      <td>28.83</td>\n",
       "    </tr>\n",
       "  </tbody>\n",
       "</table>\n",
       "</div>"
      ],
      "text/plain": [
       "            AAPL   MSFT    XOM\n",
       "2003-01-02  7.40  21.11  29.22\n",
       "2003-01-03  7.45  21.14  29.24\n",
       "2003-01-06  7.45  21.52  29.96\n",
       "2003-01-07  7.43  21.93  28.95\n",
       "2003-01-08  7.28  21.31  28.83"
      ]
     },
     "execution_count": 113,
     "metadata": {},
     "output_type": "execute_result"
    }
   ],
   "source": [
    "close_px.head()"
   ]
  },
  {
   "cell_type": "code",
   "execution_count": 114,
   "metadata": {
    "collapsed": false,
    "deletable": true,
    "editable": true
   },
   "outputs": [
    {
     "data": {
      "text/plain": [
       "<matplotlib.axes._subplots.AxesSubplot at 0x10fd7a910>"
      ]
     },
     "execution_count": 114,
     "metadata": {},
     "output_type": "execute_result"
    },
    {
     "data": {
      "image/png": "[encoded data removed]",
      "text/plain": [
       "<matplotlib.figure.Figure at 0x10fd61410>"
      ]
     },
     "metadata": {},
     "output_type": "display_data"
    }
   ],
   "source": [
    "close_px['AAPL'].plot(figsize=(12,4))"
   ]
  },
  {
   "cell_type": "code",
   "execution_count": 115,
   "metadata": {
    "collapsed": false,
    "deletable": true,
    "editable": true
   },
   "outputs": [
    {
     "data": {
      "text/plain": [
       "<matplotlib.axes._subplots.AxesSubplot at 0x113438a10>"
      ]
     },
     "execution_count": 115,
     "metadata": {},
     "output_type": "execute_result"
    },
    {
     "data": {
      "image/png": "[encoded data removed]",
      "text/plain": [
       "<matplotlib.figure.Figure at 0x10fd4eb50>"
      ]
     },
     "metadata": {},
     "output_type": "display_data"
    }
   ],
   "source": [
    "close_px['2009'].plot(figsize=(12,4))"
   ]
  },
  {
   "cell_type": "code",
   "execution_count": 116,
   "metadata": {
    "collapsed": false,
    "deletable": true,
    "editable": true
   },
   "outputs": [
    {
     "data": {
      "text/plain": [
       "<matplotlib.axes._subplots.AxesSubplot at 0x113606b10>"
      ]
     },
     "execution_count": 116,
     "metadata": {},
     "output_type": "execute_result"
    },
    {
     "data": {
      "image/png": "[encoded data removed]",
      "text/plain": [
       "<matplotlib.figure.Figure at 0x1136303d0>"
      ]
     },
     "metadata": {},
     "output_type": "display_data"
    }
   ],
   "source": [
    "close_px['AAPL'].ix['01-2011':'03-2011'].plot(figsize=(12,4))"
   ]
  },
  {
   "cell_type": "code",
   "execution_count": 117,
   "metadata": {
    "collapsed": false,
    "deletable": true,
    "editable": true
   },
   "outputs": [
    {
     "data": {
      "text/plain": [
       "<matplotlib.axes._subplots.AxesSubplot at 0x11366b110>"
      ]
     },
     "execution_count": 117,
     "metadata": {},
     "output_type": "execute_result"
    },
    {
     "data": {
      "image/png": "[encoded data removed]",
      "text/plain": [
       "<matplotlib.figure.Figure at 0x113626b90>"
      ]
     },
     "metadata": {},
     "output_type": "display_data"
    }
   ],
   "source": [
    "close_px['AAPL'].resample('Q-DEC').mean().ix['2009':].plot(figsize=(12,4))"
   ]
  },
  {
   "cell_type": "markdown",
   "metadata": {
    "deletable": true,
    "editable": true
   },
   "source": [
    "## 移动窗口函数\n",
    "\n",
    "在移动窗口上计算的各种统计函数是一种常见于时间序列的数组变换。"
   ]
  },
  {
   "cell_type": "code",
   "execution_count": 118,
   "metadata": {
    "collapsed": false,
    "deletable": true,
    "editable": true
   },
   "outputs": [
    {
     "data": {
      "text/plain": [
       "<matplotlib.axes._subplots.AxesSubplot at 0x1140e4050>"
      ]
     },
     "execution_count": 118,
     "metadata": {},
     "output_type": "execute_result"
    },
    {
     "data": {
      "image/png": "[encoded data removed]",
      "text/plain": [
       "<matplotlib.figure.Figure at 0x114220bd0>"
      ]
     },
     "metadata": {},
     "output_type": "display_data"
    }
   ],
   "source": [
    "close_px.AAPL.plot()\n",
    "\n",
    "# rolling（）.mean() 移动窗口计算平均\n",
    "close_px.AAPL.rolling(250).mean().plot()\n",
    "close_px.AAPL.rolling(250).std().plot()"
   ]
  },
  {
   "cell_type": "code",
   "execution_count": 119,
   "metadata": {
    "collapsed": false,
    "deletable": true,
    "editable": true
   },
   "outputs": [
    {
     "data": {
      "text/plain": [
       "<matplotlib.axes._subplots.AxesSubplot at 0x1136e70d0>"
      ]
     },
     "execution_count": 119,
     "metadata": {},
     "output_type": "execute_result"
    },
    {
     "data": {
      "image/png": "[encoded data removed]",
      "text/plain": [
       "<matplotlib.figure.Figure at 0x1141fde50>"
      ]
     },
     "metadata": {},
     "output_type": "display_data"
    }
   ],
   "source": [
    "close_px.rolling(60).mean().plot(logy=True)"
   ]
  },
  {
   "cell_type": "markdown",
   "metadata": {},
   "source": [
    "pandas 移动窗口和指数加权函数\n",
    "\n",
    "函数 | 说明\n",
    "---|---\n",
    "`rolling.count` | 返回各窗口非NA观测值的数量\n",
    "`rolling.sum` | 移动窗口的和\n",
    "`rolling.mean` | 移动窗口的平均值\n",
    "`rolling.median` | 移动窗口的中位数\n",
    "`rolling.var` | 移动窗口的方差\n",
    "`rolling.std` | 移动窗口的标准差\n",
    "`rolling.skew` | 移动窗口的偏度（三阶矩）\n",
    "`rolling.kurt` | 移动窗口的峰度（四阶矩）\n",
    "`rolling.min` | 移动窗口的最小值\n",
    "`rolling.max` | 移动窗口的最大值\n",
    "`rolling.quantile` | 移动窗口的比分位数位置的值\n",
    "`rolling.corr` | 移动窗口的相关系数\n",
    "`rolling.cov` | 移动窗口的协方差\n",
    "`rolling.apply` | 移动窗口应用普通数组函数\n",
    "`ewma`    | 指数加权移动平均\n",
    "`ewmvar`  | 指数加权移动方差\n",
    "`ewmstd`  | 指数加权移动标准差\n",
    "`ewmcorr` | 指数加权移动相关系数\n",
    "`ewmcov`  | 指数加权移动协方差\n",
    "\n",
    "[偏度](http://baike.baidu.com/link?url=dwG56IovjyllQBHrfE1l2-cZ3DlSt7tsKFaIV5SgPySMW8563LgiNKnhtLgXYBLT6Wtpfp3BVa8YKCzN3ELzOHJqMPz2qchcWYWGNC9ti3O)（skewness），是统计数据分布偏斜方向和程度的度量，是统计数据分布非对称程度的数字特征。\n",
    "\n",
    "正态分布的偏度为0，两侧尾部长度对称。若知道分布有可能在偏度上偏离正态分布时，可用偏离来检验分布的正态性。右偏时一般算术平均数>中位数>众数，左偏时相反，即众数>中位数>平均数。正态分布三者相等。\n",
    "\n",
    "[峰度](http://baike.baidu.com/link?url=8N5x8dhbRga_ErsdWYQk7BX9U9hR-pRvUh0z2ePivDGwMnlsz6p9sAS-GDokwNZhGTIq95NHZhckrpXJTnr0mQqK4ES2s_Sa-NqIKoURDQa)（peakedness；kurtosis）又称峰态系数。表征概率密度分布曲线在平均值处峰值高低的特征数。直观看来，峰度反映了峰部的尖度。\n",
    "\n",
    "根据均值不等式，可以确定出峰度（系数）的取值范围：它的下限不会低于1，上限不会高于数据的个数。有一些典型分布的峰度（系数）值得特别关注。例如，**正态分布**的峰度（系数）为常数3，**均匀分布**的峰度（系数）为常数1.8。在统计实践中，我们经常把这两个典型的分布曲线作为评价样本数据序列分布性态的参照。设若先将数据标准化，则峰度（系数）相当于标准化数据序列的四阶中心矩。所以，在相同的标准差下，峰度系数越大，分布就有更多的极端值，那么其余值必然要更加集中在众数周围，其分布必然就更加陡峭。"
   ]
  },
  {
   "cell_type": "code",
   "execution_count": 120,
   "metadata": {
    "collapsed": false
   },
   "outputs": [
    {
     "data": {
      "text/plain": [
       "<matplotlib.axes._subplots.AxesSubplot at 0x114555f90>"
      ]
     },
     "execution_count": 120,
     "metadata": {},
     "output_type": "execute_result"
    },
    {
     "data": {
      "image/png": "[encoded data removed]",
      "text/plain": [
       "<matplotlib.figure.Figure at 0x1143b3e50>"
      ]
     },
     "metadata": {},
     "output_type": "display_data"
    }
   ],
   "source": [
    "close_px.AAPL.rolling(100).skew().plot()"
   ]
  },
  {
   "cell_type": "markdown",
   "metadata": {
    "deletable": true,
    "editable": true
   },
   "source": [
    "### 指数加权函数\n",
    "\n",
    "另一种用固定大小窗口及相等权值观测值的办法是，定义一个衰减因子（decay factor）常量，以便使近期的观测值拥有更大的权值。\n",
    "\n",
    "指数加权统计回赋予近期观测值更大的权数，相对于等权统计能更适应更快的变化。"
   ]
  },
  {
   "cell_type": "code",
   "execution_count": 121,
   "metadata": {
    "collapsed": false,
    "deletable": true,
    "editable": true
   },
   "outputs": [
    {
     "data": {
      "text/plain": [
       "<matplotlib.axes._subplots.AxesSubplot at 0x114c5c4d0>"
      ]
     },
     "execution_count": 121,
     "metadata": {},
     "output_type": "execute_result"
    },
    {
     "data": {
      "image/png": "[encoded data removed]",
      "text/plain": [
       "<matplotlib.figure.Figure at 0x114389990>"
      ]
     },
     "metadata": {},
     "output_type": "display_data"
    }
   ],
   "source": [
    "aapl_px = close_px.AAPL['2005':'2009']\n",
    "aapl_px.plot(style='k', alpha=0.2, figsize=(12,6))\n",
    "aapl_px.rolling(60).mean().plot(style='g')\n",
    "aapl_px.ewm(60).mean().plot(style='b')"
   ]
  },
  {
   "cell_type": "markdown",
   "metadata": {
    "deletable": true,
    "editable": true
   },
   "source": [
    "### 二元移动窗口函数\n",
    "\n",
    "有些统计运算（相关系数、协方差）需要在两个时间序列上执行。例如，某股票对某个参考指数的相关系数。"
   ]
  },
  {
   "cell_type": "code",
   "execution_count": 122,
   "metadata": {
    "collapsed": false,
    "deletable": true,
    "editable": true
   },
   "outputs": [
    {
     "data": {
      "text/plain": [
       "<matplotlib.axes._subplots.AxesSubplot at 0x1146890d0>"
      ]
     },
     "execution_count": 122,
     "metadata": {},
     "output_type": "execute_result"
    },
    {
     "data": {
      "image/png": "[encoded data removed]",
      "text/plain": [
       "<matplotlib.figure.Figure at 0x1141fd110>"
      ]
     },
     "metadata": {},
     "output_type": "display_data"
    }
   ],
   "source": [
    "# SPX 指数变化\n",
    "spx_px = close_px_all['SPX']\n",
    "spx_rets = spx_px / spx_px.shift(1) - 1\n",
    "\n",
    "# 各股股价变化\n",
    "returns = close_px.pct_change()\n",
    "\n",
    "# AAPL 与 SPX指数 的相关系数\n",
    "returns.AAPL.rolling(125, min_periods=100).corr(spx_rets).plot()"
   ]
  },
  {
   "cell_type": "code",
   "execution_count": 123,
   "metadata": {
    "collapsed": false
   },
   "outputs": [
    {
     "data": {
      "text/plain": [
       "<matplotlib.axes._subplots.AxesSubplot at 0x11503f210>"
      ]
     },
     "execution_count": 123,
     "metadata": {},
     "output_type": "execute_result"
    },
    {
     "data": {
      "image/png": "[encoded data removed]",
      "text/plain": [
       "<matplotlib.figure.Figure at 0x1146a4790>"
      ]
     },
     "metadata": {},
     "output_type": "display_data"
    }
   ],
   "source": [
    "# 重写上面\n",
    "rets = close_px_all.pct_change()\n",
    "rets.AAPL.rolling(125, min_periods=100).corr(rets.SPX).plot()"
   ]
  },
  {
   "cell_type": "markdown",
   "metadata": {
    "deletable": true,
    "editable": true
   },
   "source": [
    "### 用户定义的移动窗口函数\n",
    "\n",
    "可以在移动窗口上应用自己设计的数组函数。唯一的要求：该函数要能从数组的各个片段中产生单个值（简约）"
   ]
  },
  {
   "cell_type": "code",
   "execution_count": 124,
   "metadata": {
    "collapsed": false,
    "deletable": true,
    "editable": true
   },
   "outputs": [
    {
     "data": {
      "text/plain": [
       "<matplotlib.axes._subplots.AxesSubplot at 0x117500910>"
      ]
     },
     "execution_count": 124,
     "metadata": {},
     "output_type": "execute_result"
    },
    {
     "data": {
      "image/png": "[encoded data removed]",
      "text/plain": [
       "<matplotlib.figure.Figure at 0x114d784d0>"
      ]
     },
     "metadata": {},
     "output_type": "display_data"
    }
   ],
   "source": [
    "# 自定义函数\n",
    "from scipy.stats import percentileofscore\n",
    "score_at_2percent = lambda x: percentileofscore(x, 0.02)\n",
    "\n",
    "# 应用自定义函数\n",
    "result = returns.AAPL.rolling(250).apply(score_at_2percent)\n",
    "result.plot()"
   ]
  },
  {
   "cell_type": "code",
   "execution_count": 125,
   "metadata": {
    "collapsed": false
   },
   "outputs": [
    {
     "data": {
      "text/plain": [
       "<matplotlib.axes._subplots.AxesSubplot at 0x117626390>"
      ]
     },
     "execution_count": 125,
     "metadata": {},
     "output_type": "execute_result"
    },
    {
     "data": {
      "image/png": "[encoded data removed]",
      "text/plain": [
       "<matplotlib.figure.Figure at 0x117617510>"
      ]
     },
     "metadata": {},
     "output_type": "display_data"
    }
   ],
   "source": [
    "# 我的练习\n",
    "peak = lambda x: x.max() - x.min()\n",
    "\n",
    "close_px.AAPL.rolling(200).apply(peak).plot()"
   ]
  },
  {
   "cell_type": "markdown",
   "metadata": {
    "deletable": true,
    "editable": true
   },
   "source": [
    "## 性能和内存使用方面的注意事项\n",
    "\n",
    "- Timestamp 和 Period 都是用 64 bit整数表示，占用 8 byte内存空间\n",
    "- pandas 会尽量在多个时间序列之间共享索引，创建现有时间序列的视图不会占用更多内存\n",
    "- 运行时间与聚合结果的相对大小有关系，越高频聚合所耗费时间越多"
   ]
  },
  {
   "cell_type": "code",
   "execution_count": 126,
   "metadata": {
    "collapsed": false,
    "deletable": true,
    "editable": true
   },
   "outputs": [
    {
     "name": "stdout",
     "output_type": "stream",
     "text": [
      "10 loops, best of 3: 105 ms per loop\n"
     ]
    }
   ],
   "source": [
    "rng = pd.date_range('1/1/2000', periods=10000000, freq='1s')\n",
    "ts = Series(np.random.randn(len(rng)), index=rng)\n",
    "%timeit ts.resample('1D').ohlc()"
   ]
  },
  {
   "cell_type": "code",
   "execution_count": 127,
   "metadata": {
    "collapsed": false,
    "deletable": true,
    "editable": true
   },
   "outputs": [
    {
     "name": "stdout",
     "output_type": "stream",
     "text": [
      "10 loops, best of 3: 109 ms per loop\n"
     ]
    }
   ],
   "source": [
    "rng = pd.date_range('1/1/2000', periods=10000000, freq='1s')\n",
    "ts = Series(np.random.randn(len(rng)), index=rng)\n",
    "%timeit ts.resample('1m').ohlc()"
   ]
  }
 ],
 "metadata": {
  "kernelspec": {
   "display_name": "Python 2",
   "language": "python",
   "name": "python2"
  },
  "language_info": {
   "codemirror_mode": {
    "name": "ipython",
    "version": 2
   },
   "file_extension": ".py",
   "mimetype": "text/x-python",
   "name": "python",
   "nbconvert_exporter": "python",
   "pygments_lexer": "ipython2",
   "version": "2.7.11"
  }
 },
 "nbformat": 4,
 "nbformat_minor": 2
}
